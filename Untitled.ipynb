{
 "cells": [
  {
   "cell_type": "code",
   "execution_count": 12,
   "id": "ddaabfc4",
   "metadata": {},
   "outputs": [],
   "source": [
    "#client=Client(api_key,api_secret)\n",
    "#engine=sqlalchemy.create_engine(\"sqlite:///BTCUDSTstream.db\")\n",
    "\n",
    "import ccxt\n",
    "from config import config\n",
    "import schedule\n",
    "import pandas as pd\n",
    "pd.set_option('display.max_rows', None)\n",
    "\n",
    "import warnings\n",
    "warnings.filterwarnings('ignore')\n",
    "\n",
    "import numpy as np\n",
    "from datetime import datetime\n",
    "import time\n",
    "\n",
    "exchange = ccxt.binance({\n",
    "    \"apiKey\": config[\"api_key\"],\n",
    "    \"secret\": config[\"api_secret\"]\n",
    "})"
   ]
  },
  {
   "cell_type": "code",
   "execution_count": 13,
   "id": "0b8dbb10",
   "metadata": {},
   "outputs": [
    {
     "name": "stdout",
     "output_type": "stream",
     "text": [
      "Fetching new bars for 2023-03-18T15:21:36.923021\n",
      "checking for buy and sell signals\n",
      "             timestamp     open     high      low    close    volume  \\\n",
      "94 2023-03-18 14:16:00  1816.77  1818.00  1816.77  1818.00  310.7265   \n",
      "95 2023-03-18 14:17:00  1818.00  1819.78  1817.85  1819.18  442.2739   \n",
      "96 2023-03-18 14:18:00  1819.18  1821.24  1819.00  1819.00  501.5456   \n",
      "97 2023-03-18 14:19:00  1819.00  1819.65  1818.84  1819.31  203.3450   \n",
      "98 2023-03-18 14:20:00  1819.31  1821.71  1819.30  1821.58  298.6526   \n",
      "\n",
      "    previous_close  high-low  high-pc  low-pc    tr       atr    upperband  \\\n",
      "94         1816.77      1.23     1.23    0.00  1.23  1.288571  1819.157143   \n",
      "95         1818.00      1.93     1.78    0.15  1.93  1.370000  1822.925000   \n",
      "96         1819.18      2.24     2.06    0.18  2.24  1.535714  1824.727143   \n",
      "97         1819.00      0.81     0.65    0.16  0.81  1.458571  1823.620714   \n",
      "98         1819.31      2.41     2.40    0.01  2.41  1.665714  1825.502143   \n",
      "\n",
      "      lowerband  in_uptrend  \n",
      "94  1813.519286       False  \n",
      "95  1814.705000        True  \n",
      "96  1815.512857        True  \n",
      "97  1815.512857        True  \n",
      "98  1815.512857        True  \n",
      "Fetching new bars for 2023-03-18T15:21:40.115832\n",
      "checking for buy and sell signals\n",
      "             timestamp     open     high      low    close    volume  \\\n",
      "94 2023-03-18 14:16:00  1816.77  1818.00  1816.77  1818.00  310.7265   \n",
      "95 2023-03-18 14:17:00  1818.00  1819.78  1817.85  1819.18  442.2739   \n",
      "96 2023-03-18 14:18:00  1819.18  1821.24  1819.00  1819.00  501.5456   \n",
      "97 2023-03-18 14:19:00  1819.00  1819.65  1818.84  1819.31  203.3450   \n",
      "98 2023-03-18 14:20:00  1819.31  1821.71  1819.30  1821.58  298.6526   \n",
      "\n",
      "    previous_close  high-low  high-pc  low-pc    tr       atr    upperband  \\\n",
      "94         1816.77      1.23     1.23    0.00  1.23  1.288571  1819.157143   \n",
      "95         1818.00      1.93     1.78    0.15  1.93  1.370000  1822.925000   \n",
      "96         1819.18      2.24     2.06    0.18  2.24  1.535714  1824.727143   \n",
      "97         1819.00      0.81     0.65    0.16  0.81  1.458571  1823.620714   \n",
      "98         1819.31      2.41     2.40    0.01  2.41  1.665714  1825.502143   \n",
      "\n",
      "      lowerband  in_uptrend  \n",
      "94  1813.519286       False  \n",
      "95  1814.705000        True  \n",
      "96  1815.512857        True  \n",
      "97  1815.512857        True  \n",
      "98  1815.512857        True  \n",
      "Fetching new bars for 2023-03-18T15:21:46.945979\n",
      "checking for buy and sell signals\n",
      "             timestamp     open     high      low    close    volume  \\\n",
      "94 2023-03-18 14:16:00  1816.77  1818.00  1816.77  1818.00  310.7265   \n",
      "95 2023-03-18 14:17:00  1818.00  1819.78  1817.85  1819.18  442.2739   \n",
      "96 2023-03-18 14:18:00  1819.18  1821.24  1819.00  1819.00  501.5456   \n",
      "97 2023-03-18 14:19:00  1819.00  1819.65  1818.84  1819.31  203.3450   \n",
      "98 2023-03-18 14:20:00  1819.31  1821.71  1819.30  1821.58  298.6526   \n",
      "\n",
      "    previous_close  high-low  high-pc  low-pc    tr       atr    upperband  \\\n",
      "94         1816.77      1.23     1.23    0.00  1.23  1.288571  1819.157143   \n",
      "95         1818.00      1.93     1.78    0.15  1.93  1.370000  1822.925000   \n",
      "96         1819.18      2.24     2.06    0.18  2.24  1.535714  1824.727143   \n",
      "97         1819.00      0.81     0.65    0.16  0.81  1.458571  1823.620714   \n",
      "98         1819.31      2.41     2.40    0.01  2.41  1.665714  1825.502143   \n",
      "\n",
      "      lowerband  in_uptrend  \n",
      "94  1813.519286       False  \n",
      "95  1814.705000        True  \n",
      "96  1815.512857        True  \n",
      "97  1815.512857        True  \n",
      "98  1815.512857        True  \n",
      "Fetching new bars for 2023-03-18T15:21:50.396445\n",
      "checking for buy and sell signals\n",
      "             timestamp     open     high      low    close    volume  \\\n",
      "94 2023-03-18 14:16:00  1816.77  1818.00  1816.77  1818.00  310.7265   \n",
      "95 2023-03-18 14:17:00  1818.00  1819.78  1817.85  1819.18  442.2739   \n",
      "96 2023-03-18 14:18:00  1819.18  1821.24  1819.00  1819.00  501.5456   \n",
      "97 2023-03-18 14:19:00  1819.00  1819.65  1818.84  1819.31  203.3450   \n",
      "98 2023-03-18 14:20:00  1819.31  1821.71  1819.30  1821.58  298.6526   \n",
      "\n",
      "    previous_close  high-low  high-pc  low-pc    tr       atr    upperband  \\\n",
      "94         1816.77      1.23     1.23    0.00  1.23  1.288571  1819.157143   \n",
      "95         1818.00      1.93     1.78    0.15  1.93  1.370000  1822.925000   \n",
      "96         1819.18      2.24     2.06    0.18  2.24  1.535714  1824.727143   \n",
      "97         1819.00      0.81     0.65    0.16  0.81  1.458571  1823.620714   \n",
      "98         1819.31      2.41     2.40    0.01  2.41  1.665714  1825.502143   \n",
      "\n",
      "      lowerband  in_uptrend  \n",
      "94  1813.519286       False  \n",
      "95  1814.705000        True  \n",
      "96  1815.512857        True  \n",
      "97  1815.512857        True  \n",
      "98  1815.512857        True  \n",
      "Fetching new bars for 2023-03-18T15:21:51.769769\n",
      "checking for buy and sell signals\n",
      "             timestamp     open     high      low    close    volume  \\\n",
      "94 2023-03-18 14:16:00  1816.77  1818.00  1816.77  1818.00  310.7265   \n",
      "95 2023-03-18 14:17:00  1818.00  1819.78  1817.85  1819.18  442.2739   \n",
      "96 2023-03-18 14:18:00  1819.18  1821.24  1819.00  1819.00  501.5456   \n",
      "97 2023-03-18 14:19:00  1819.00  1819.65  1818.84  1819.31  203.3450   \n",
      "98 2023-03-18 14:20:00  1819.31  1821.71  1819.30  1821.58  298.6526   \n",
      "\n",
      "    previous_close  high-low  high-pc  low-pc    tr       atr    upperband  \\\n",
      "94         1816.77      1.23     1.23    0.00  1.23  1.288571  1819.157143   \n",
      "95         1818.00      1.93     1.78    0.15  1.93  1.370000  1822.925000   \n",
      "96         1819.18      2.24     2.06    0.18  2.24  1.535714  1824.727143   \n",
      "97         1819.00      0.81     0.65    0.16  0.81  1.458571  1823.620714   \n",
      "98         1819.31      2.41     2.40    0.01  2.41  1.665714  1825.502143   \n",
      "\n",
      "      lowerband  in_uptrend  \n",
      "94  1813.519286       False  \n",
      "95  1814.705000        True  \n",
      "96  1815.512857        True  \n",
      "97  1815.512857        True  \n",
      "98  1815.512857        True  \n",
      "Fetching new bars for 2023-03-18T15:21:58.320501\n",
      "checking for buy and sell signals\n",
      "             timestamp     open     high      low    close    volume  \\\n",
      "94 2023-03-18 14:16:00  1816.77  1818.00  1816.77  1818.00  310.7265   \n",
      "95 2023-03-18 14:17:00  1818.00  1819.78  1817.85  1819.18  442.2739   \n",
      "96 2023-03-18 14:18:00  1819.18  1821.24  1819.00  1819.00  501.5456   \n",
      "97 2023-03-18 14:19:00  1819.00  1819.65  1818.84  1819.31  203.3450   \n",
      "98 2023-03-18 14:20:00  1819.31  1821.71  1819.30  1821.58  298.6526   \n",
      "\n",
      "    previous_close  high-low  high-pc  low-pc    tr       atr    upperband  \\\n",
      "94         1816.77      1.23     1.23    0.00  1.23  1.288571  1819.157143   \n",
      "95         1818.00      1.93     1.78    0.15  1.93  1.370000  1822.925000   \n",
      "96         1819.18      2.24     2.06    0.18  2.24  1.535714  1824.727143   \n",
      "97         1819.00      0.81     0.65    0.16  0.81  1.458571  1823.620714   \n",
      "98         1819.31      2.41     2.40    0.01  2.41  1.665714  1825.502143   \n",
      "\n",
      "      lowerband  in_uptrend  \n",
      "94  1813.519286       False  \n",
      "95  1814.705000        True  \n",
      "96  1815.512857        True  \n",
      "97  1815.512857        True  \n",
      "98  1815.512857        True  \n",
      "Fetching new bars for 2023-03-18T15:22:01.751053\n",
      "checking for buy and sell signals\n",
      "             timestamp     open     high      low    close    volume  \\\n",
      "94 2023-03-18 14:17:00  1818.00  1819.78  1817.85  1819.18  442.2739   \n",
      "95 2023-03-18 14:18:00  1819.18  1821.24  1819.00  1819.00  501.5456   \n",
      "96 2023-03-18 14:19:00  1819.00  1819.65  1818.84  1819.31  203.3450   \n",
      "97 2023-03-18 14:20:00  1819.31  1821.71  1819.30  1821.58  298.6526   \n",
      "98 2023-03-18 14:21:00  1821.57  1823.87  1820.91  1820.92  685.6448   \n",
      "\n",
      "    previous_close  high-low  high-pc  low-pc    tr       atr    upperband  \\\n",
      "94         1818.00      1.93     1.78    0.15  1.93  1.370000  1822.925000   \n",
      "95         1819.18      2.24     2.06    0.18  2.24  1.535714  1824.727143   \n",
      "96         1819.00      0.81     0.65    0.16  0.81  1.458571  1823.620714   \n",
      "97         1819.31      2.41     2.40    0.01  2.41  1.665714  1825.502143   \n",
      "98         1821.58      2.96     2.29    0.67  2.96  1.920000  1828.150000   \n",
      "\n",
      "      lowerband  in_uptrend  \n",
      "94  1814.705000        True  \n",
      "95  1815.512857        True  \n",
      "96  1815.512857        True  \n",
      "97  1815.512857        True  \n",
      "98  1816.630000        True  \n",
      "Fetching new bars for 2023-03-18T15:22:03.138528\n"
     ]
    },
    {
     "name": "stdout",
     "output_type": "stream",
     "text": [
      "checking for buy and sell signals\n",
      "             timestamp     open     high      low    close    volume  \\\n",
      "94 2023-03-18 14:17:00  1818.00  1819.78  1817.85  1819.18  442.2739   \n",
      "95 2023-03-18 14:18:00  1819.18  1821.24  1819.00  1819.00  501.5456   \n",
      "96 2023-03-18 14:19:00  1819.00  1819.65  1818.84  1819.31  203.3450   \n",
      "97 2023-03-18 14:20:00  1819.31  1821.71  1819.30  1821.58  298.6526   \n",
      "98 2023-03-18 14:21:00  1821.57  1823.87  1820.91  1820.92  685.6448   \n",
      "\n",
      "    previous_close  high-low  high-pc  low-pc    tr       atr    upperband  \\\n",
      "94         1818.00      1.93     1.78    0.15  1.93  1.370000  1822.925000   \n",
      "95         1819.18      2.24     2.06    0.18  2.24  1.535714  1824.727143   \n",
      "96         1819.00      0.81     0.65    0.16  0.81  1.458571  1823.620714   \n",
      "97         1819.31      2.41     2.40    0.01  2.41  1.665714  1825.502143   \n",
      "98         1821.58      2.96     2.29    0.67  2.96  1.920000  1828.150000   \n",
      "\n",
      "      lowerband  in_uptrend  \n",
      "94  1814.705000        True  \n",
      "95  1815.512857        True  \n",
      "96  1815.512857        True  \n",
      "97  1815.512857        True  \n",
      "98  1816.630000        True  \n",
      "Fetching new bars for 2023-03-18T15:22:09.584540\n",
      "checking for buy and sell signals\n",
      "             timestamp     open     high      low    close    volume  \\\n",
      "94 2023-03-18 14:17:00  1818.00  1819.78  1817.85  1819.18  442.2739   \n",
      "95 2023-03-18 14:18:00  1819.18  1821.24  1819.00  1819.00  501.5456   \n",
      "96 2023-03-18 14:19:00  1819.00  1819.65  1818.84  1819.31  203.3450   \n",
      "97 2023-03-18 14:20:00  1819.31  1821.71  1819.30  1821.58  298.6526   \n",
      "98 2023-03-18 14:21:00  1821.57  1823.87  1820.91  1820.92  685.6448   \n",
      "\n",
      "    previous_close  high-low  high-pc  low-pc    tr       atr    upperband  \\\n",
      "94         1818.00      1.93     1.78    0.15  1.93  1.370000  1822.925000   \n",
      "95         1819.18      2.24     2.06    0.18  2.24  1.535714  1824.727143   \n",
      "96         1819.00      0.81     0.65    0.16  0.81  1.458571  1823.620714   \n",
      "97         1819.31      2.41     2.40    0.01  2.41  1.665714  1825.502143   \n",
      "98         1821.58      2.96     2.29    0.67  2.96  1.920000  1828.150000   \n",
      "\n",
      "      lowerband  in_uptrend  \n",
      "94  1814.705000        True  \n",
      "95  1815.512857        True  \n",
      "96  1815.512857        True  \n",
      "97  1815.512857        True  \n",
      "98  1816.630000        True  \n",
      "Fetching new bars for 2023-03-18T15:22:12.430142\n",
      "checking for buy and sell signals\n",
      "             timestamp     open     high      low    close    volume  \\\n",
      "94 2023-03-18 14:17:00  1818.00  1819.78  1817.85  1819.18  442.2739   \n",
      "95 2023-03-18 14:18:00  1819.18  1821.24  1819.00  1819.00  501.5456   \n",
      "96 2023-03-18 14:19:00  1819.00  1819.65  1818.84  1819.31  203.3450   \n",
      "97 2023-03-18 14:20:00  1819.31  1821.71  1819.30  1821.58  298.6526   \n",
      "98 2023-03-18 14:21:00  1821.57  1823.87  1820.91  1820.92  685.6448   \n",
      "\n",
      "    previous_close  high-low  high-pc  low-pc    tr       atr    upperband  \\\n",
      "94         1818.00      1.93     1.78    0.15  1.93  1.370000  1822.925000   \n",
      "95         1819.18      2.24     2.06    0.18  2.24  1.535714  1824.727143   \n",
      "96         1819.00      0.81     0.65    0.16  0.81  1.458571  1823.620714   \n",
      "97         1819.31      2.41     2.40    0.01  2.41  1.665714  1825.502143   \n",
      "98         1821.58      2.96     2.29    0.67  2.96  1.920000  1828.150000   \n",
      "\n",
      "      lowerband  in_uptrend  \n",
      "94  1814.705000        True  \n",
      "95  1815.512857        True  \n",
      "96  1815.512857        True  \n",
      "97  1815.512857        True  \n",
      "98  1816.630000        True  \n",
      "Fetching new bars for 2023-03-18T15:22:18.785521\n"
     ]
    },
    {
     "ename": "RequestTimeout",
     "evalue": "binance GET https://api.binance.com/api/v3/klines?interval=1m&limit=100&symbol=ETHUSDT",
     "output_type": "error",
     "traceback": [
      "\u001b[0;31m---------------------------------------------------------------------------\u001b[0m",
      "\u001b[0;31mtimeout\u001b[0m                                   Traceback (most recent call last)",
      "\u001b[0;32m~/opt/anaconda3/lib/python3.9/site-packages/urllib3/connectionpool.py\u001b[0m in \u001b[0;36m_make_request\u001b[0;34m(self, conn, method, url, timeout, chunked, **httplib_request_kw)\u001b[0m\n\u001b[1;32m    448\u001b[0m                     \u001b[0;31m# Otherwise it looks like a bug in the code.\u001b[0m\u001b[0;34m\u001b[0m\u001b[0;34m\u001b[0m\u001b[0m\n\u001b[0;32m--> 449\u001b[0;31m                     \u001b[0msix\u001b[0m\u001b[0;34m.\u001b[0m\u001b[0mraise_from\u001b[0m\u001b[0;34m(\u001b[0m\u001b[0me\u001b[0m\u001b[0;34m,\u001b[0m \u001b[0;32mNone\u001b[0m\u001b[0;34m)\u001b[0m\u001b[0;34m\u001b[0m\u001b[0;34m\u001b[0m\u001b[0m\n\u001b[0m\u001b[1;32m    450\u001b[0m         \u001b[0;32mexcept\u001b[0m \u001b[0;34m(\u001b[0m\u001b[0mSocketTimeout\u001b[0m\u001b[0;34m,\u001b[0m \u001b[0mBaseSSLError\u001b[0m\u001b[0;34m,\u001b[0m \u001b[0mSocketError\u001b[0m\u001b[0;34m)\u001b[0m \u001b[0;32mas\u001b[0m \u001b[0me\u001b[0m\u001b[0;34m:\u001b[0m\u001b[0;34m\u001b[0m\u001b[0;34m\u001b[0m\u001b[0m\n",
      "\u001b[0;32m~/opt/anaconda3/lib/python3.9/site-packages/urllib3/packages/six.py\u001b[0m in \u001b[0;36mraise_from\u001b[0;34m(value, from_value)\u001b[0m\n",
      "\u001b[0;32m~/opt/anaconda3/lib/python3.9/site-packages/urllib3/connectionpool.py\u001b[0m in \u001b[0;36m_make_request\u001b[0;34m(self, conn, method, url, timeout, chunked, **httplib_request_kw)\u001b[0m\n\u001b[1;32m    443\u001b[0m                 \u001b[0;32mtry\u001b[0m\u001b[0;34m:\u001b[0m\u001b[0;34m\u001b[0m\u001b[0;34m\u001b[0m\u001b[0m\n\u001b[0;32m--> 444\u001b[0;31m                     \u001b[0mhttplib_response\u001b[0m \u001b[0;34m=\u001b[0m \u001b[0mconn\u001b[0m\u001b[0;34m.\u001b[0m\u001b[0mgetresponse\u001b[0m\u001b[0;34m(\u001b[0m\u001b[0;34m)\u001b[0m\u001b[0;34m\u001b[0m\u001b[0;34m\u001b[0m\u001b[0m\n\u001b[0m\u001b[1;32m    445\u001b[0m                 \u001b[0;32mexcept\u001b[0m \u001b[0mBaseException\u001b[0m \u001b[0;32mas\u001b[0m \u001b[0me\u001b[0m\u001b[0;34m:\u001b[0m\u001b[0;34m\u001b[0m\u001b[0;34m\u001b[0m\u001b[0m\n",
      "\u001b[0;32m~/opt/anaconda3/lib/python3.9/http/client.py\u001b[0m in \u001b[0;36mgetresponse\u001b[0;34m(self)\u001b[0m\n\u001b[1;32m   1370\u001b[0m             \u001b[0;32mtry\u001b[0m\u001b[0;34m:\u001b[0m\u001b[0;34m\u001b[0m\u001b[0;34m\u001b[0m\u001b[0m\n\u001b[0;32m-> 1371\u001b[0;31m                 \u001b[0mresponse\u001b[0m\u001b[0;34m.\u001b[0m\u001b[0mbegin\u001b[0m\u001b[0;34m(\u001b[0m\u001b[0;34m)\u001b[0m\u001b[0;34m\u001b[0m\u001b[0;34m\u001b[0m\u001b[0m\n\u001b[0m\u001b[1;32m   1372\u001b[0m             \u001b[0;32mexcept\u001b[0m \u001b[0mConnectionError\u001b[0m\u001b[0;34m:\u001b[0m\u001b[0;34m\u001b[0m\u001b[0;34m\u001b[0m\u001b[0m\n",
      "\u001b[0;32m~/opt/anaconda3/lib/python3.9/http/client.py\u001b[0m in \u001b[0;36mbegin\u001b[0;34m(self)\u001b[0m\n\u001b[1;32m    318\u001b[0m         \u001b[0;32mwhile\u001b[0m \u001b[0;32mTrue\u001b[0m\u001b[0;34m:\u001b[0m\u001b[0;34m\u001b[0m\u001b[0;34m\u001b[0m\u001b[0m\n\u001b[0;32m--> 319\u001b[0;31m             \u001b[0mversion\u001b[0m\u001b[0;34m,\u001b[0m \u001b[0mstatus\u001b[0m\u001b[0;34m,\u001b[0m \u001b[0mreason\u001b[0m \u001b[0;34m=\u001b[0m \u001b[0mself\u001b[0m\u001b[0;34m.\u001b[0m\u001b[0m_read_status\u001b[0m\u001b[0;34m(\u001b[0m\u001b[0;34m)\u001b[0m\u001b[0;34m\u001b[0m\u001b[0;34m\u001b[0m\u001b[0m\n\u001b[0m\u001b[1;32m    320\u001b[0m             \u001b[0;32mif\u001b[0m \u001b[0mstatus\u001b[0m \u001b[0;34m!=\u001b[0m \u001b[0mCONTINUE\u001b[0m\u001b[0;34m:\u001b[0m\u001b[0;34m\u001b[0m\u001b[0;34m\u001b[0m\u001b[0m\n",
      "\u001b[0;32m~/opt/anaconda3/lib/python3.9/http/client.py\u001b[0m in \u001b[0;36m_read_status\u001b[0;34m(self)\u001b[0m\n\u001b[1;32m    279\u001b[0m     \u001b[0;32mdef\u001b[0m \u001b[0m_read_status\u001b[0m\u001b[0;34m(\u001b[0m\u001b[0mself\u001b[0m\u001b[0;34m)\u001b[0m\u001b[0;34m:\u001b[0m\u001b[0;34m\u001b[0m\u001b[0;34m\u001b[0m\u001b[0m\n\u001b[0;32m--> 280\u001b[0;31m         \u001b[0mline\u001b[0m \u001b[0;34m=\u001b[0m \u001b[0mstr\u001b[0m\u001b[0;34m(\u001b[0m\u001b[0mself\u001b[0m\u001b[0;34m.\u001b[0m\u001b[0mfp\u001b[0m\u001b[0;34m.\u001b[0m\u001b[0mreadline\u001b[0m\u001b[0;34m(\u001b[0m\u001b[0m_MAXLINE\u001b[0m \u001b[0;34m+\u001b[0m \u001b[0;36m1\u001b[0m\u001b[0;34m)\u001b[0m\u001b[0;34m,\u001b[0m \u001b[0;34m\"iso-8859-1\"\u001b[0m\u001b[0;34m)\u001b[0m\u001b[0;34m\u001b[0m\u001b[0;34m\u001b[0m\u001b[0m\n\u001b[0m\u001b[1;32m    281\u001b[0m         \u001b[0;32mif\u001b[0m \u001b[0mlen\u001b[0m\u001b[0;34m(\u001b[0m\u001b[0mline\u001b[0m\u001b[0;34m)\u001b[0m \u001b[0;34m>\u001b[0m \u001b[0m_MAXLINE\u001b[0m\u001b[0;34m:\u001b[0m\u001b[0;34m\u001b[0m\u001b[0;34m\u001b[0m\u001b[0m\n",
      "\u001b[0;32m~/opt/anaconda3/lib/python3.9/socket.py\u001b[0m in \u001b[0;36mreadinto\u001b[0;34m(self, b)\u001b[0m\n\u001b[1;32m    703\u001b[0m             \u001b[0;32mtry\u001b[0m\u001b[0;34m:\u001b[0m\u001b[0;34m\u001b[0m\u001b[0;34m\u001b[0m\u001b[0m\n\u001b[0;32m--> 704\u001b[0;31m                 \u001b[0;32mreturn\u001b[0m \u001b[0mself\u001b[0m\u001b[0;34m.\u001b[0m\u001b[0m_sock\u001b[0m\u001b[0;34m.\u001b[0m\u001b[0mrecv_into\u001b[0m\u001b[0;34m(\u001b[0m\u001b[0mb\u001b[0m\u001b[0;34m)\u001b[0m\u001b[0;34m\u001b[0m\u001b[0;34m\u001b[0m\u001b[0m\n\u001b[0m\u001b[1;32m    705\u001b[0m             \u001b[0;32mexcept\u001b[0m \u001b[0mtimeout\u001b[0m\u001b[0;34m:\u001b[0m\u001b[0;34m\u001b[0m\u001b[0;34m\u001b[0m\u001b[0m\n",
      "\u001b[0;32m~/opt/anaconda3/lib/python3.9/ssl.py\u001b[0m in \u001b[0;36mrecv_into\u001b[0;34m(self, buffer, nbytes, flags)\u001b[0m\n\u001b[1;32m   1240\u001b[0m                   self.__class__)\n\u001b[0;32m-> 1241\u001b[0;31m             \u001b[0;32mreturn\u001b[0m \u001b[0mself\u001b[0m\u001b[0;34m.\u001b[0m\u001b[0mread\u001b[0m\u001b[0;34m(\u001b[0m\u001b[0mnbytes\u001b[0m\u001b[0;34m,\u001b[0m \u001b[0mbuffer\u001b[0m\u001b[0;34m)\u001b[0m\u001b[0;34m\u001b[0m\u001b[0;34m\u001b[0m\u001b[0m\n\u001b[0m\u001b[1;32m   1242\u001b[0m         \u001b[0;32melse\u001b[0m\u001b[0;34m:\u001b[0m\u001b[0;34m\u001b[0m\u001b[0;34m\u001b[0m\u001b[0m\n",
      "\u001b[0;32m~/opt/anaconda3/lib/python3.9/ssl.py\u001b[0m in \u001b[0;36mread\u001b[0;34m(self, len, buffer)\u001b[0m\n\u001b[1;32m   1098\u001b[0m             \u001b[0;32mif\u001b[0m \u001b[0mbuffer\u001b[0m \u001b[0;32mis\u001b[0m \u001b[0;32mnot\u001b[0m \u001b[0;32mNone\u001b[0m\u001b[0;34m:\u001b[0m\u001b[0;34m\u001b[0m\u001b[0;34m\u001b[0m\u001b[0m\n\u001b[0;32m-> 1099\u001b[0;31m                 \u001b[0;32mreturn\u001b[0m \u001b[0mself\u001b[0m\u001b[0;34m.\u001b[0m\u001b[0m_sslobj\u001b[0m\u001b[0;34m.\u001b[0m\u001b[0mread\u001b[0m\u001b[0;34m(\u001b[0m\u001b[0mlen\u001b[0m\u001b[0;34m,\u001b[0m \u001b[0mbuffer\u001b[0m\u001b[0;34m)\u001b[0m\u001b[0;34m\u001b[0m\u001b[0;34m\u001b[0m\u001b[0m\n\u001b[0m\u001b[1;32m   1100\u001b[0m             \u001b[0;32melse\u001b[0m\u001b[0;34m:\u001b[0m\u001b[0;34m\u001b[0m\u001b[0;34m\u001b[0m\u001b[0m\n",
      "\u001b[0;31mtimeout\u001b[0m: The read operation timed out",
      "\nDuring handling of the above exception, another exception occurred:\n",
      "\u001b[0;31mReadTimeoutError\u001b[0m                          Traceback (most recent call last)",
      "\u001b[0;32m~/opt/anaconda3/lib/python3.9/site-packages/requests/adapters.py\u001b[0m in \u001b[0;36msend\u001b[0;34m(self, request, stream, timeout, verify, cert, proxies)\u001b[0m\n\u001b[1;32m    488\u001b[0m             \u001b[0;32mif\u001b[0m \u001b[0;32mnot\u001b[0m \u001b[0mchunked\u001b[0m\u001b[0;34m:\u001b[0m\u001b[0;34m\u001b[0m\u001b[0;34m\u001b[0m\u001b[0m\n\u001b[0;32m--> 489\u001b[0;31m                 resp = conn.urlopen(\n\u001b[0m\u001b[1;32m    490\u001b[0m                     \u001b[0mmethod\u001b[0m\u001b[0;34m=\u001b[0m\u001b[0mrequest\u001b[0m\u001b[0;34m.\u001b[0m\u001b[0mmethod\u001b[0m\u001b[0;34m,\u001b[0m\u001b[0;34m\u001b[0m\u001b[0;34m\u001b[0m\u001b[0m\n",
      "\u001b[0;32m~/opt/anaconda3/lib/python3.9/site-packages/urllib3/connectionpool.py\u001b[0m in \u001b[0;36murlopen\u001b[0;34m(self, method, url, body, headers, retries, redirect, assert_same_host, timeout, pool_timeout, release_conn, chunked, body_pos, **response_kw)\u001b[0m\n\u001b[1;32m    786\u001b[0m \u001b[0;34m\u001b[0m\u001b[0m\n\u001b[0;32m--> 787\u001b[0;31m             retries = retries.increment(\n\u001b[0m\u001b[1;32m    788\u001b[0m                 \u001b[0mmethod\u001b[0m\u001b[0;34m,\u001b[0m \u001b[0murl\u001b[0m\u001b[0;34m,\u001b[0m \u001b[0merror\u001b[0m\u001b[0;34m=\u001b[0m\u001b[0me\u001b[0m\u001b[0;34m,\u001b[0m \u001b[0m_pool\u001b[0m\u001b[0;34m=\u001b[0m\u001b[0mself\u001b[0m\u001b[0;34m,\u001b[0m \u001b[0m_stacktrace\u001b[0m\u001b[0;34m=\u001b[0m\u001b[0msys\u001b[0m\u001b[0;34m.\u001b[0m\u001b[0mexc_info\u001b[0m\u001b[0;34m(\u001b[0m\u001b[0;34m)\u001b[0m\u001b[0;34m[\u001b[0m\u001b[0;36m2\u001b[0m\u001b[0;34m]\u001b[0m\u001b[0;34m\u001b[0m\u001b[0;34m\u001b[0m\u001b[0m\n",
      "\u001b[0;32m~/opt/anaconda3/lib/python3.9/site-packages/urllib3/util/retry.py\u001b[0m in \u001b[0;36mincrement\u001b[0;34m(self, method, url, response, error, _pool, _stacktrace)\u001b[0m\n\u001b[1;32m    549\u001b[0m             \u001b[0;32mif\u001b[0m \u001b[0mread\u001b[0m \u001b[0;32mis\u001b[0m \u001b[0;32mFalse\u001b[0m \u001b[0;32mor\u001b[0m \u001b[0;32mnot\u001b[0m \u001b[0mself\u001b[0m\u001b[0;34m.\u001b[0m\u001b[0m_is_method_retryable\u001b[0m\u001b[0;34m(\u001b[0m\u001b[0mmethod\u001b[0m\u001b[0;34m)\u001b[0m\u001b[0;34m:\u001b[0m\u001b[0;34m\u001b[0m\u001b[0;34m\u001b[0m\u001b[0m\n\u001b[0;32m--> 550\u001b[0;31m                 \u001b[0;32mraise\u001b[0m \u001b[0msix\u001b[0m\u001b[0;34m.\u001b[0m\u001b[0mreraise\u001b[0m\u001b[0;34m(\u001b[0m\u001b[0mtype\u001b[0m\u001b[0;34m(\u001b[0m\u001b[0merror\u001b[0m\u001b[0;34m)\u001b[0m\u001b[0;34m,\u001b[0m \u001b[0merror\u001b[0m\u001b[0;34m,\u001b[0m \u001b[0m_stacktrace\u001b[0m\u001b[0;34m)\u001b[0m\u001b[0;34m\u001b[0m\u001b[0;34m\u001b[0m\u001b[0m\n\u001b[0m\u001b[1;32m    551\u001b[0m             \u001b[0;32melif\u001b[0m \u001b[0mread\u001b[0m \u001b[0;32mis\u001b[0m \u001b[0;32mnot\u001b[0m \u001b[0;32mNone\u001b[0m\u001b[0;34m:\u001b[0m\u001b[0;34m\u001b[0m\u001b[0;34m\u001b[0m\u001b[0m\n",
      "\u001b[0;32m~/opt/anaconda3/lib/python3.9/site-packages/urllib3/packages/six.py\u001b[0m in \u001b[0;36mreraise\u001b[0;34m(tp, value, tb)\u001b[0m\n\u001b[1;32m    769\u001b[0m                 \u001b[0;32mraise\u001b[0m \u001b[0mvalue\u001b[0m\u001b[0;34m.\u001b[0m\u001b[0mwith_traceback\u001b[0m\u001b[0;34m(\u001b[0m\u001b[0mtb\u001b[0m\u001b[0;34m)\u001b[0m\u001b[0;34m\u001b[0m\u001b[0;34m\u001b[0m\u001b[0m\n\u001b[0;32m--> 770\u001b[0;31m             \u001b[0;32mraise\u001b[0m \u001b[0mvalue\u001b[0m\u001b[0;34m\u001b[0m\u001b[0;34m\u001b[0m\u001b[0m\n\u001b[0m\u001b[1;32m    771\u001b[0m         \u001b[0;32mfinally\u001b[0m\u001b[0;34m:\u001b[0m\u001b[0;34m\u001b[0m\u001b[0;34m\u001b[0m\u001b[0m\n",
      "\u001b[0;32m~/opt/anaconda3/lib/python3.9/site-packages/urllib3/connectionpool.py\u001b[0m in \u001b[0;36murlopen\u001b[0;34m(self, method, url, body, headers, retries, redirect, assert_same_host, timeout, pool_timeout, release_conn, chunked, body_pos, **response_kw)\u001b[0m\n\u001b[1;32m    702\u001b[0m             \u001b[0;31m# Make the request on the httplib connection object.\u001b[0m\u001b[0;34m\u001b[0m\u001b[0;34m\u001b[0m\u001b[0m\n\u001b[0;32m--> 703\u001b[0;31m             httplib_response = self._make_request(\n\u001b[0m\u001b[1;32m    704\u001b[0m                 \u001b[0mconn\u001b[0m\u001b[0;34m,\u001b[0m\u001b[0;34m\u001b[0m\u001b[0;34m\u001b[0m\u001b[0m\n",
      "\u001b[0;32m~/opt/anaconda3/lib/python3.9/site-packages/urllib3/connectionpool.py\u001b[0m in \u001b[0;36m_make_request\u001b[0;34m(self, conn, method, url, timeout, chunked, **httplib_request_kw)\u001b[0m\n\u001b[1;32m    450\u001b[0m         \u001b[0;32mexcept\u001b[0m \u001b[0;34m(\u001b[0m\u001b[0mSocketTimeout\u001b[0m\u001b[0;34m,\u001b[0m \u001b[0mBaseSSLError\u001b[0m\u001b[0;34m,\u001b[0m \u001b[0mSocketError\u001b[0m\u001b[0;34m)\u001b[0m \u001b[0;32mas\u001b[0m \u001b[0me\u001b[0m\u001b[0;34m:\u001b[0m\u001b[0;34m\u001b[0m\u001b[0;34m\u001b[0m\u001b[0m\n\u001b[0;32m--> 451\u001b[0;31m             \u001b[0mself\u001b[0m\u001b[0;34m.\u001b[0m\u001b[0m_raise_timeout\u001b[0m\u001b[0;34m(\u001b[0m\u001b[0merr\u001b[0m\u001b[0;34m=\u001b[0m\u001b[0me\u001b[0m\u001b[0;34m,\u001b[0m \u001b[0murl\u001b[0m\u001b[0;34m=\u001b[0m\u001b[0murl\u001b[0m\u001b[0;34m,\u001b[0m \u001b[0mtimeout_value\u001b[0m\u001b[0;34m=\u001b[0m\u001b[0mread_timeout\u001b[0m\u001b[0;34m)\u001b[0m\u001b[0;34m\u001b[0m\u001b[0;34m\u001b[0m\u001b[0m\n\u001b[0m\u001b[1;32m    452\u001b[0m             \u001b[0;32mraise\u001b[0m\u001b[0;34m\u001b[0m\u001b[0;34m\u001b[0m\u001b[0m\n",
      "\u001b[0;32m~/opt/anaconda3/lib/python3.9/site-packages/urllib3/connectionpool.py\u001b[0m in \u001b[0;36m_raise_timeout\u001b[0;34m(self, err, url, timeout_value)\u001b[0m\n\u001b[1;32m    339\u001b[0m         \u001b[0;32mif\u001b[0m \u001b[0misinstance\u001b[0m\u001b[0;34m(\u001b[0m\u001b[0merr\u001b[0m\u001b[0;34m,\u001b[0m \u001b[0mSocketTimeout\u001b[0m\u001b[0;34m)\u001b[0m\u001b[0;34m:\u001b[0m\u001b[0;34m\u001b[0m\u001b[0;34m\u001b[0m\u001b[0m\n\u001b[0;32m--> 340\u001b[0;31m             raise ReadTimeoutError(\n\u001b[0m\u001b[1;32m    341\u001b[0m                 \u001b[0mself\u001b[0m\u001b[0;34m,\u001b[0m \u001b[0murl\u001b[0m\u001b[0;34m,\u001b[0m \u001b[0;34m\"Read timed out. (read timeout=%s)\"\u001b[0m \u001b[0;34m%\u001b[0m \u001b[0mtimeout_value\u001b[0m\u001b[0;34m\u001b[0m\u001b[0;34m\u001b[0m\u001b[0m\n",
      "\u001b[0;31mReadTimeoutError\u001b[0m: HTTPSConnectionPool(host='api.binance.com', port=443): Read timed out. (read timeout=10)",
      "\nDuring handling of the above exception, another exception occurred:\n",
      "\u001b[0;31mReadTimeout\u001b[0m                               Traceback (most recent call last)",
      "\u001b[0;32m~/opt/anaconda3/lib/python3.9/site-packages/ccxt/base/exchange.py\u001b[0m in \u001b[0;36mfetch\u001b[0;34m(self, url, method, headers, body)\u001b[0m\n\u001b[1;32m    598\u001b[0m         \u001b[0;32mtry\u001b[0m\u001b[0;34m:\u001b[0m\u001b[0;34m\u001b[0m\u001b[0;34m\u001b[0m\u001b[0m\n\u001b[0;32m--> 599\u001b[0;31m             response = self.session.request(\n\u001b[0m\u001b[1;32m    600\u001b[0m                 \u001b[0mmethod\u001b[0m\u001b[0;34m,\u001b[0m\u001b[0;34m\u001b[0m\u001b[0;34m\u001b[0m\u001b[0m\n",
      "\u001b[0;32m~/opt/anaconda3/lib/python3.9/site-packages/requests/sessions.py\u001b[0m in \u001b[0;36mrequest\u001b[0;34m(self, method, url, params, data, headers, cookies, files, auth, timeout, allow_redirects, proxies, hooks, stream, verify, cert, json)\u001b[0m\n\u001b[1;32m    586\u001b[0m         \u001b[0msend_kwargs\u001b[0m\u001b[0;34m.\u001b[0m\u001b[0mupdate\u001b[0m\u001b[0;34m(\u001b[0m\u001b[0msettings\u001b[0m\u001b[0;34m)\u001b[0m\u001b[0;34m\u001b[0m\u001b[0;34m\u001b[0m\u001b[0m\n\u001b[0;32m--> 587\u001b[0;31m         \u001b[0mresp\u001b[0m \u001b[0;34m=\u001b[0m \u001b[0mself\u001b[0m\u001b[0;34m.\u001b[0m\u001b[0msend\u001b[0m\u001b[0;34m(\u001b[0m\u001b[0mprep\u001b[0m\u001b[0;34m,\u001b[0m \u001b[0;34m**\u001b[0m\u001b[0msend_kwargs\u001b[0m\u001b[0;34m)\u001b[0m\u001b[0;34m\u001b[0m\u001b[0;34m\u001b[0m\u001b[0m\n\u001b[0m\u001b[1;32m    588\u001b[0m \u001b[0;34m\u001b[0m\u001b[0m\n",
      "\u001b[0;32m~/opt/anaconda3/lib/python3.9/site-packages/requests/sessions.py\u001b[0m in \u001b[0;36msend\u001b[0;34m(self, request, **kwargs)\u001b[0m\n\u001b[1;32m    700\u001b[0m         \u001b[0;31m# Send the request\u001b[0m\u001b[0;34m\u001b[0m\u001b[0;34m\u001b[0m\u001b[0m\n\u001b[0;32m--> 701\u001b[0;31m         \u001b[0mr\u001b[0m \u001b[0;34m=\u001b[0m \u001b[0madapter\u001b[0m\u001b[0;34m.\u001b[0m\u001b[0msend\u001b[0m\u001b[0;34m(\u001b[0m\u001b[0mrequest\u001b[0m\u001b[0;34m,\u001b[0m \u001b[0;34m**\u001b[0m\u001b[0mkwargs\u001b[0m\u001b[0;34m)\u001b[0m\u001b[0;34m\u001b[0m\u001b[0;34m\u001b[0m\u001b[0m\n\u001b[0m\u001b[1;32m    702\u001b[0m \u001b[0;34m\u001b[0m\u001b[0m\n",
      "\u001b[0;32m~/opt/anaconda3/lib/python3.9/site-packages/requests/adapters.py\u001b[0m in \u001b[0;36msend\u001b[0;34m(self, request, stream, timeout, verify, cert, proxies)\u001b[0m\n\u001b[1;32m    577\u001b[0m             \u001b[0;32melif\u001b[0m \u001b[0misinstance\u001b[0m\u001b[0;34m(\u001b[0m\u001b[0me\u001b[0m\u001b[0;34m,\u001b[0m \u001b[0mReadTimeoutError\u001b[0m\u001b[0;34m)\u001b[0m\u001b[0;34m:\u001b[0m\u001b[0;34m\u001b[0m\u001b[0;34m\u001b[0m\u001b[0m\n\u001b[0;32m--> 578\u001b[0;31m                 \u001b[0;32mraise\u001b[0m \u001b[0mReadTimeout\u001b[0m\u001b[0;34m(\u001b[0m\u001b[0me\u001b[0m\u001b[0;34m,\u001b[0m \u001b[0mrequest\u001b[0m\u001b[0;34m=\u001b[0m\u001b[0mrequest\u001b[0m\u001b[0;34m)\u001b[0m\u001b[0;34m\u001b[0m\u001b[0;34m\u001b[0m\u001b[0m\n\u001b[0m\u001b[1;32m    579\u001b[0m             \u001b[0;32melif\u001b[0m \u001b[0misinstance\u001b[0m\u001b[0;34m(\u001b[0m\u001b[0me\u001b[0m\u001b[0;34m,\u001b[0m \u001b[0m_InvalidHeader\u001b[0m\u001b[0;34m)\u001b[0m\u001b[0;34m:\u001b[0m\u001b[0;34m\u001b[0m\u001b[0;34m\u001b[0m\u001b[0m\n",
      "\u001b[0;31mReadTimeout\u001b[0m: HTTPSConnectionPool(host='api.binance.com', port=443): Read timed out. (read timeout=10)",
      "\nThe above exception was the direct cause of the following exception:\n",
      "\u001b[0;31mRequestTimeout\u001b[0m                            Traceback (most recent call last)",
      "\u001b[0;32m/var/folders/7n/bl1bmjc529z84jd3bmqcjvdm0000gn/T/ipykernel_973/1478777322.py\u001b[0m in \u001b[0;36m<cell line: 89>\u001b[0;34m()\u001b[0m\n\u001b[1;32m     87\u001b[0m \u001b[0;34m\u001b[0m\u001b[0m\n\u001b[1;32m     88\u001b[0m \u001b[0;32mwhile\u001b[0m \u001b[0;32mTrue\u001b[0m\u001b[0;34m:\u001b[0m\u001b[0;34m\u001b[0m\u001b[0;34m\u001b[0m\u001b[0m\n\u001b[0;32m---> 89\u001b[0;31m     \u001b[0mschedule\u001b[0m\u001b[0;34m.\u001b[0m\u001b[0mrun_pending\u001b[0m\u001b[0;34m(\u001b[0m\u001b[0;34m)\u001b[0m\u001b[0;34m\u001b[0m\u001b[0;34m\u001b[0m\u001b[0m\n\u001b[0m\u001b[1;32m     90\u001b[0m     \u001b[0mtime\u001b[0m\u001b[0;34m.\u001b[0m\u001b[0msleep\u001b[0m\u001b[0;34m(\u001b[0m\u001b[0;36m1\u001b[0m\u001b[0;34m)\u001b[0m\u001b[0;34m\u001b[0m\u001b[0;34m\u001b[0m\u001b[0m\n",
      "\u001b[0;32m~/opt/anaconda3/lib/python3.9/site-packages/schedule/__init__.py\u001b[0m in \u001b[0;36mrun_pending\u001b[0;34m()\u001b[0m\n\u001b[1;32m    778\u001b[0m     \u001b[0;34m:\u001b[0m\u001b[0mdata\u001b[0m\u001b[0;34m:\u001b[0m\u001b[0;31m`\u001b[0m\u001b[0mdefault\u001b[0m \u001b[0mscheduler\u001b[0m \u001b[0minstance\u001b[0m \u001b[0;34m<\u001b[0m\u001b[0mdefault_scheduler\u001b[0m\u001b[0;34m>\u001b[0m\u001b[0;31m`\u001b[0m\u001b[0;34m.\u001b[0m\u001b[0;34m\u001b[0m\u001b[0;34m\u001b[0m\u001b[0m\n\u001b[1;32m    779\u001b[0m     \"\"\"\n\u001b[0;32m--> 780\u001b[0;31m     \u001b[0mdefault_scheduler\u001b[0m\u001b[0;34m.\u001b[0m\u001b[0mrun_pending\u001b[0m\u001b[0;34m(\u001b[0m\u001b[0;34m)\u001b[0m\u001b[0;34m\u001b[0m\u001b[0;34m\u001b[0m\u001b[0m\n\u001b[0m\u001b[1;32m    781\u001b[0m \u001b[0;34m\u001b[0m\u001b[0m\n\u001b[1;32m    782\u001b[0m \u001b[0;34m\u001b[0m\u001b[0m\n",
      "\u001b[0;32m~/opt/anaconda3/lib/python3.9/site-packages/schedule/__init__.py\u001b[0m in \u001b[0;36mrun_pending\u001b[0;34m(self)\u001b[0m\n\u001b[1;32m     98\u001b[0m         \u001b[0mrunnable_jobs\u001b[0m \u001b[0;34m=\u001b[0m \u001b[0;34m(\u001b[0m\u001b[0mjob\u001b[0m \u001b[0;32mfor\u001b[0m \u001b[0mjob\u001b[0m \u001b[0;32min\u001b[0m \u001b[0mself\u001b[0m\u001b[0;34m.\u001b[0m\u001b[0mjobs\u001b[0m \u001b[0;32mif\u001b[0m \u001b[0mjob\u001b[0m\u001b[0;34m.\u001b[0m\u001b[0mshould_run\u001b[0m\u001b[0;34m)\u001b[0m\u001b[0;34m\u001b[0m\u001b[0;34m\u001b[0m\u001b[0m\n\u001b[1;32m     99\u001b[0m         \u001b[0;32mfor\u001b[0m \u001b[0mjob\u001b[0m \u001b[0;32min\u001b[0m \u001b[0msorted\u001b[0m\u001b[0;34m(\u001b[0m\u001b[0mrunnable_jobs\u001b[0m\u001b[0;34m)\u001b[0m\u001b[0;34m:\u001b[0m\u001b[0;34m\u001b[0m\u001b[0;34m\u001b[0m\u001b[0m\n\u001b[0;32m--> 100\u001b[0;31m             \u001b[0mself\u001b[0m\u001b[0;34m.\u001b[0m\u001b[0m_run_job\u001b[0m\u001b[0;34m(\u001b[0m\u001b[0mjob\u001b[0m\u001b[0;34m)\u001b[0m\u001b[0;34m\u001b[0m\u001b[0;34m\u001b[0m\u001b[0m\n\u001b[0m\u001b[1;32m    101\u001b[0m \u001b[0;34m\u001b[0m\u001b[0m\n\u001b[1;32m    102\u001b[0m     \u001b[0;32mdef\u001b[0m \u001b[0mrun_all\u001b[0m\u001b[0;34m(\u001b[0m\u001b[0mself\u001b[0m\u001b[0;34m,\u001b[0m \u001b[0mdelay_seconds\u001b[0m\u001b[0;34m:\u001b[0m \u001b[0mint\u001b[0m \u001b[0;34m=\u001b[0m \u001b[0;36m0\u001b[0m\u001b[0;34m)\u001b[0m \u001b[0;34m->\u001b[0m \u001b[0;32mNone\u001b[0m\u001b[0;34m:\u001b[0m\u001b[0;34m\u001b[0m\u001b[0;34m\u001b[0m\u001b[0m\n",
      "\u001b[0;32m~/opt/anaconda3/lib/python3.9/site-packages/schedule/__init__.py\u001b[0m in \u001b[0;36m_run_job\u001b[0;34m(self, job)\u001b[0m\n\u001b[1;32m    170\u001b[0m \u001b[0;34m\u001b[0m\u001b[0m\n\u001b[1;32m    171\u001b[0m     \u001b[0;32mdef\u001b[0m \u001b[0m_run_job\u001b[0m\u001b[0;34m(\u001b[0m\u001b[0mself\u001b[0m\u001b[0;34m,\u001b[0m \u001b[0mjob\u001b[0m\u001b[0;34m:\u001b[0m \u001b[0;34m\"Job\"\u001b[0m\u001b[0;34m)\u001b[0m \u001b[0;34m->\u001b[0m \u001b[0;32mNone\u001b[0m\u001b[0;34m:\u001b[0m\u001b[0;34m\u001b[0m\u001b[0;34m\u001b[0m\u001b[0m\n\u001b[0;32m--> 172\u001b[0;31m         \u001b[0mret\u001b[0m \u001b[0;34m=\u001b[0m \u001b[0mjob\u001b[0m\u001b[0;34m.\u001b[0m\u001b[0mrun\u001b[0m\u001b[0;34m(\u001b[0m\u001b[0;34m)\u001b[0m\u001b[0;34m\u001b[0m\u001b[0;34m\u001b[0m\u001b[0m\n\u001b[0m\u001b[1;32m    173\u001b[0m         \u001b[0;32mif\u001b[0m \u001b[0misinstance\u001b[0m\u001b[0;34m(\u001b[0m\u001b[0mret\u001b[0m\u001b[0;34m,\u001b[0m \u001b[0mCancelJob\u001b[0m\u001b[0;34m)\u001b[0m \u001b[0;32mor\u001b[0m \u001b[0mret\u001b[0m \u001b[0;32mis\u001b[0m \u001b[0mCancelJob\u001b[0m\u001b[0;34m:\u001b[0m\u001b[0;34m\u001b[0m\u001b[0;34m\u001b[0m\u001b[0m\n\u001b[1;32m    174\u001b[0m             \u001b[0mself\u001b[0m\u001b[0;34m.\u001b[0m\u001b[0mcancel_job\u001b[0m\u001b[0;34m(\u001b[0m\u001b[0mjob\u001b[0m\u001b[0;34m)\u001b[0m\u001b[0;34m\u001b[0m\u001b[0;34m\u001b[0m\u001b[0m\n",
      "\u001b[0;32m~/opt/anaconda3/lib/python3.9/site-packages/schedule/__init__.py\u001b[0m in \u001b[0;36mrun\u001b[0;34m(self)\u001b[0m\n\u001b[1;32m    659\u001b[0m \u001b[0;34m\u001b[0m\u001b[0m\n\u001b[1;32m    660\u001b[0m         \u001b[0mlogger\u001b[0m\u001b[0;34m.\u001b[0m\u001b[0mdebug\u001b[0m\u001b[0;34m(\u001b[0m\u001b[0;34m\"Running job %s\"\u001b[0m\u001b[0;34m,\u001b[0m \u001b[0mself\u001b[0m\u001b[0;34m)\u001b[0m\u001b[0;34m\u001b[0m\u001b[0;34m\u001b[0m\u001b[0m\n\u001b[0;32m--> 661\u001b[0;31m         \u001b[0mret\u001b[0m \u001b[0;34m=\u001b[0m \u001b[0mself\u001b[0m\u001b[0;34m.\u001b[0m\u001b[0mjob_func\u001b[0m\u001b[0;34m(\u001b[0m\u001b[0;34m)\u001b[0m\u001b[0;34m\u001b[0m\u001b[0;34m\u001b[0m\u001b[0m\n\u001b[0m\u001b[1;32m    662\u001b[0m         \u001b[0mself\u001b[0m\u001b[0;34m.\u001b[0m\u001b[0mlast_run\u001b[0m \u001b[0;34m=\u001b[0m \u001b[0mdatetime\u001b[0m\u001b[0;34m.\u001b[0m\u001b[0mdatetime\u001b[0m\u001b[0;34m.\u001b[0m\u001b[0mnow\u001b[0m\u001b[0;34m(\u001b[0m\u001b[0;34m)\u001b[0m\u001b[0;34m\u001b[0m\u001b[0;34m\u001b[0m\u001b[0m\n\u001b[1;32m    663\u001b[0m         \u001b[0mself\u001b[0m\u001b[0;34m.\u001b[0m\u001b[0m_schedule_next_run\u001b[0m\u001b[0;34m(\u001b[0m\u001b[0;34m)\u001b[0m\u001b[0;34m\u001b[0m\u001b[0;34m\u001b[0m\u001b[0m\n",
      "\u001b[0;32m/var/folders/7n/bl1bmjc529z84jd3bmqcjvdm0000gn/T/ipykernel_973/379892748.py\u001b[0m in \u001b[0;36mrun_bot\u001b[0;34m()\u001b[0m\n\u001b[1;32m     96\u001b[0m \u001b[0;32mdef\u001b[0m \u001b[0mrun_bot\u001b[0m\u001b[0;34m(\u001b[0m\u001b[0;34m)\u001b[0m\u001b[0;34m:\u001b[0m\u001b[0;34m\u001b[0m\u001b[0;34m\u001b[0m\u001b[0m\n\u001b[1;32m     97\u001b[0m     \u001b[0mprint\u001b[0m\u001b[0;34m(\u001b[0m\u001b[0;34mf\"Fetching new bars for {datetime.now().isoformat()}\"\u001b[0m\u001b[0;34m)\u001b[0m\u001b[0;34m\u001b[0m\u001b[0;34m\u001b[0m\u001b[0m\n\u001b[0;32m---> 98\u001b[0;31m     \u001b[0mbars\u001b[0m \u001b[0;34m=\u001b[0m \u001b[0mexchange\u001b[0m\u001b[0;34m.\u001b[0m\u001b[0mfetch_ohlcv\u001b[0m\u001b[0;34m(\u001b[0m\u001b[0;34m'ETH/USDT'\u001b[0m\u001b[0;34m,\u001b[0m \u001b[0mtimeframe\u001b[0m\u001b[0;34m=\u001b[0m\u001b[0;34m'1m'\u001b[0m\u001b[0;34m,\u001b[0m \u001b[0mlimit\u001b[0m\u001b[0;34m=\u001b[0m\u001b[0;36m100\u001b[0m\u001b[0;34m)\u001b[0m\u001b[0;34m\u001b[0m\u001b[0;34m\u001b[0m\u001b[0m\n\u001b[0m\u001b[1;32m     99\u001b[0m     \u001b[0mdf\u001b[0m \u001b[0;34m=\u001b[0m \u001b[0mpd\u001b[0m\u001b[0;34m.\u001b[0m\u001b[0mDataFrame\u001b[0m\u001b[0;34m(\u001b[0m\u001b[0mbars\u001b[0m\u001b[0;34m[\u001b[0m\u001b[0;34m:\u001b[0m\u001b[0;34m-\u001b[0m\u001b[0;36m1\u001b[0m\u001b[0;34m]\u001b[0m\u001b[0;34m,\u001b[0m \u001b[0mcolumns\u001b[0m\u001b[0;34m=\u001b[0m\u001b[0;34m[\u001b[0m\u001b[0;34m'timestamp'\u001b[0m\u001b[0;34m,\u001b[0m \u001b[0;34m'open'\u001b[0m\u001b[0;34m,\u001b[0m \u001b[0;34m'high'\u001b[0m\u001b[0;34m,\u001b[0m \u001b[0;34m'low'\u001b[0m\u001b[0;34m,\u001b[0m \u001b[0;34m'close'\u001b[0m\u001b[0;34m,\u001b[0m \u001b[0;34m'volume'\u001b[0m\u001b[0;34m]\u001b[0m\u001b[0;34m)\u001b[0m\u001b[0;34m\u001b[0m\u001b[0;34m\u001b[0m\u001b[0m\n\u001b[1;32m    100\u001b[0m     \u001b[0mdf\u001b[0m\u001b[0;34m[\u001b[0m\u001b[0;34m'timestamp'\u001b[0m\u001b[0;34m]\u001b[0m \u001b[0;34m=\u001b[0m \u001b[0mpd\u001b[0m\u001b[0;34m.\u001b[0m\u001b[0mto_datetime\u001b[0m\u001b[0;34m(\u001b[0m\u001b[0mdf\u001b[0m\u001b[0;34m[\u001b[0m\u001b[0;34m'timestamp'\u001b[0m\u001b[0;34m]\u001b[0m\u001b[0;34m,\u001b[0m \u001b[0munit\u001b[0m\u001b[0;34m=\u001b[0m\u001b[0;34m'ms'\u001b[0m\u001b[0;34m)\u001b[0m\u001b[0;34m\u001b[0m\u001b[0;34m\u001b[0m\u001b[0m\n",
      "\u001b[0;32m~/opt/anaconda3/lib/python3.9/site-packages/ccxt/binance.py\u001b[0m in \u001b[0;36mfetch_ohlcv\u001b[0;34m(self, symbol, timeframe, since, limit, params)\u001b[0m\n\u001b[1;32m   3044\u001b[0m         \u001b[0;32melif\u001b[0m \u001b[0mmarket\u001b[0m\u001b[0;34m[\u001b[0m\u001b[0;34m'inverse'\u001b[0m\u001b[0;34m]\u001b[0m\u001b[0;34m:\u001b[0m\u001b[0;34m\u001b[0m\u001b[0;34m\u001b[0m\u001b[0m\n\u001b[1;32m   3045\u001b[0m             \u001b[0mmethod\u001b[0m \u001b[0;34m=\u001b[0m \u001b[0;34m'dapiPublicGetKlines'\u001b[0m\u001b[0;34m\u001b[0m\u001b[0;34m\u001b[0m\u001b[0m\n\u001b[0;32m-> 3046\u001b[0;31m         \u001b[0mresponse\u001b[0m \u001b[0;34m=\u001b[0m \u001b[0mgetattr\u001b[0m\u001b[0;34m(\u001b[0m\u001b[0mself\u001b[0m\u001b[0;34m,\u001b[0m \u001b[0mmethod\u001b[0m\u001b[0;34m)\u001b[0m\u001b[0;34m(\u001b[0m\u001b[0mself\u001b[0m\u001b[0;34m.\u001b[0m\u001b[0mextend\u001b[0m\u001b[0;34m(\u001b[0m\u001b[0mrequest\u001b[0m\u001b[0;34m,\u001b[0m \u001b[0mparams\u001b[0m\u001b[0;34m)\u001b[0m\u001b[0;34m)\u001b[0m\u001b[0;34m\u001b[0m\u001b[0;34m\u001b[0m\u001b[0m\n\u001b[0m\u001b[1;32m   3047\u001b[0m         \u001b[0;31m#\u001b[0m\u001b[0;34m\u001b[0m\u001b[0;34m\u001b[0m\u001b[0m\n\u001b[1;32m   3048\u001b[0m         \u001b[0;31m#     [\u001b[0m\u001b[0;34m\u001b[0m\u001b[0;34m\u001b[0m\u001b[0m\n",
      "\u001b[0;32m~/opt/anaconda3/lib/python3.9/site-packages/ccxt/base/exchange.py\u001b[0m in \u001b[0;36minner\u001b[0;34m(_self, params, context)\u001b[0m\n\u001b[1;32m    503\u001b[0m                 \u001b[0;32mif\u001b[0m \u001b[0mcontext\u001b[0m \u001b[0;32mis\u001b[0m \u001b[0;32mnot\u001b[0m \u001b[0;32mNone\u001b[0m\u001b[0;34m:\u001b[0m\u001b[0;34m\u001b[0m\u001b[0;34m\u001b[0m\u001b[0m\n\u001b[1;32m    504\u001b[0m                     \u001b[0minner_kwargs\u001b[0m\u001b[0;34m[\u001b[0m\u001b[0;34m'context'\u001b[0m\u001b[0;34m]\u001b[0m \u001b[0;34m=\u001b[0m \u001b[0mparams\u001b[0m\u001b[0;34m\u001b[0m\u001b[0;34m\u001b[0m\u001b[0m\n\u001b[0;32m--> 505\u001b[0;31m                 \u001b[0;32mreturn\u001b[0m \u001b[0mentry\u001b[0m\u001b[0;34m(\u001b[0m\u001b[0m_self\u001b[0m\u001b[0;34m,\u001b[0m \u001b[0;34m**\u001b[0m\u001b[0minner_kwargs\u001b[0m\u001b[0;34m)\u001b[0m\u001b[0;34m\u001b[0m\u001b[0;34m\u001b[0m\u001b[0m\n\u001b[0m\u001b[1;32m    506\u001b[0m             \u001b[0;32mreturn\u001b[0m \u001b[0minner\u001b[0m\u001b[0;34m\u001b[0m\u001b[0;34m\u001b[0m\u001b[0m\n\u001b[1;32m    507\u001b[0m         \u001b[0mto_bind\u001b[0m \u001b[0;34m=\u001b[0m \u001b[0mpartialer\u001b[0m\u001b[0;34m(\u001b[0m\u001b[0;34m)\u001b[0m\u001b[0;34m\u001b[0m\u001b[0;34m\u001b[0m\u001b[0m\n",
      "\u001b[0;32m~/opt/anaconda3/lib/python3.9/site-packages/ccxt/binance.py\u001b[0m in \u001b[0;36mrequest\u001b[0;34m(self, path, api, method, params, headers, body, config, context)\u001b[0m\n\u001b[1;32m   6934\u001b[0m \u001b[0;34m\u001b[0m\u001b[0m\n\u001b[1;32m   6935\u001b[0m     \u001b[0;32mdef\u001b[0m \u001b[0mrequest\u001b[0m\u001b[0;34m(\u001b[0m\u001b[0mself\u001b[0m\u001b[0;34m,\u001b[0m \u001b[0mpath\u001b[0m\u001b[0;34m,\u001b[0m \u001b[0mapi\u001b[0m\u001b[0;34m=\u001b[0m\u001b[0;34m'public'\u001b[0m\u001b[0;34m,\u001b[0m \u001b[0mmethod\u001b[0m\u001b[0;34m=\u001b[0m\u001b[0;34m'GET'\u001b[0m\u001b[0;34m,\u001b[0m \u001b[0mparams\u001b[0m\u001b[0;34m=\u001b[0m\u001b[0;34m{\u001b[0m\u001b[0;34m}\u001b[0m\u001b[0;34m,\u001b[0m \u001b[0mheaders\u001b[0m\u001b[0;34m=\u001b[0m\u001b[0;32mNone\u001b[0m\u001b[0;34m,\u001b[0m \u001b[0mbody\u001b[0m\u001b[0;34m=\u001b[0m\u001b[0;32mNone\u001b[0m\u001b[0;34m,\u001b[0m \u001b[0mconfig\u001b[0m\u001b[0;34m=\u001b[0m\u001b[0;34m{\u001b[0m\u001b[0;34m}\u001b[0m\u001b[0;34m,\u001b[0m \u001b[0mcontext\u001b[0m\u001b[0;34m=\u001b[0m\u001b[0;34m{\u001b[0m\u001b[0;34m}\u001b[0m\u001b[0;34m)\u001b[0m\u001b[0;34m:\u001b[0m\u001b[0;34m\u001b[0m\u001b[0;34m\u001b[0m\u001b[0m\n\u001b[0;32m-> 6936\u001b[0;31m         \u001b[0mresponse\u001b[0m \u001b[0;34m=\u001b[0m \u001b[0mself\u001b[0m\u001b[0;34m.\u001b[0m\u001b[0mfetch2\u001b[0m\u001b[0;34m(\u001b[0m\u001b[0mpath\u001b[0m\u001b[0;34m,\u001b[0m \u001b[0mapi\u001b[0m\u001b[0;34m,\u001b[0m \u001b[0mmethod\u001b[0m\u001b[0;34m,\u001b[0m \u001b[0mparams\u001b[0m\u001b[0;34m,\u001b[0m \u001b[0mheaders\u001b[0m\u001b[0;34m,\u001b[0m \u001b[0mbody\u001b[0m\u001b[0;34m,\u001b[0m \u001b[0mconfig\u001b[0m\u001b[0;34m,\u001b[0m \u001b[0mcontext\u001b[0m\u001b[0;34m)\u001b[0m\u001b[0;34m\u001b[0m\u001b[0;34m\u001b[0m\u001b[0m\n\u001b[0m\u001b[1;32m   6937\u001b[0m         \u001b[0;31m# a workaround for {\"code\":-2015,\"msg\":\"Invalid API-key, IP, or permissions for action.\"}\u001b[0m\u001b[0;34m\u001b[0m\u001b[0;34m\u001b[0m\u001b[0m\n\u001b[1;32m   6938\u001b[0m         \u001b[0;32mif\u001b[0m \u001b[0;34m(\u001b[0m\u001b[0mapi\u001b[0m \u001b[0;34m==\u001b[0m \u001b[0;34m'private'\u001b[0m\u001b[0;34m)\u001b[0m \u001b[0;32mor\u001b[0m \u001b[0;34m(\u001b[0m\u001b[0mapi\u001b[0m \u001b[0;34m==\u001b[0m \u001b[0;34m'wapi'\u001b[0m\u001b[0;34m)\u001b[0m\u001b[0;34m:\u001b[0m\u001b[0;34m\u001b[0m\u001b[0;34m\u001b[0m\u001b[0m\n",
      "\u001b[0;32m~/opt/anaconda3/lib/python3.9/site-packages/ccxt/base/exchange.py\u001b[0m in \u001b[0;36mfetch2\u001b[0;34m(self, path, api, method, params, headers, body, config, context)\u001b[0m\n\u001b[1;32m   2826\u001b[0m         \u001b[0mself\u001b[0m\u001b[0;34m.\u001b[0m\u001b[0mlastRestRequestTimestamp\u001b[0m \u001b[0;34m=\u001b[0m \u001b[0mself\u001b[0m\u001b[0;34m.\u001b[0m\u001b[0mmilliseconds\u001b[0m\u001b[0;34m(\u001b[0m\u001b[0;34m)\u001b[0m\u001b[0;34m\u001b[0m\u001b[0;34m\u001b[0m\u001b[0m\n\u001b[1;32m   2827\u001b[0m         \u001b[0mrequest\u001b[0m \u001b[0;34m=\u001b[0m \u001b[0mself\u001b[0m\u001b[0;34m.\u001b[0m\u001b[0msign\u001b[0m\u001b[0;34m(\u001b[0m\u001b[0mpath\u001b[0m\u001b[0;34m,\u001b[0m \u001b[0mapi\u001b[0m\u001b[0;34m,\u001b[0m \u001b[0mmethod\u001b[0m\u001b[0;34m,\u001b[0m \u001b[0mparams\u001b[0m\u001b[0;34m,\u001b[0m \u001b[0mheaders\u001b[0m\u001b[0;34m,\u001b[0m \u001b[0mbody\u001b[0m\u001b[0;34m)\u001b[0m\u001b[0;34m\u001b[0m\u001b[0;34m\u001b[0m\u001b[0m\n\u001b[0;32m-> 2828\u001b[0;31m         \u001b[0;32mreturn\u001b[0m \u001b[0mself\u001b[0m\u001b[0;34m.\u001b[0m\u001b[0mfetch\u001b[0m\u001b[0;34m(\u001b[0m\u001b[0mrequest\u001b[0m\u001b[0;34m[\u001b[0m\u001b[0;34m'url'\u001b[0m\u001b[0;34m]\u001b[0m\u001b[0;34m,\u001b[0m \u001b[0mrequest\u001b[0m\u001b[0;34m[\u001b[0m\u001b[0;34m'method'\u001b[0m\u001b[0;34m]\u001b[0m\u001b[0;34m,\u001b[0m \u001b[0mrequest\u001b[0m\u001b[0;34m[\u001b[0m\u001b[0;34m'headers'\u001b[0m\u001b[0;34m]\u001b[0m\u001b[0;34m,\u001b[0m \u001b[0mrequest\u001b[0m\u001b[0;34m[\u001b[0m\u001b[0;34m'body'\u001b[0m\u001b[0;34m]\u001b[0m\u001b[0;34m)\u001b[0m\u001b[0;34m\u001b[0m\u001b[0;34m\u001b[0m\u001b[0m\n\u001b[0m\u001b[1;32m   2829\u001b[0m \u001b[0;34m\u001b[0m\u001b[0m\n\u001b[1;32m   2830\u001b[0m     \u001b[0;32mdef\u001b[0m \u001b[0mrequest\u001b[0m\u001b[0;34m(\u001b[0m\u001b[0mself\u001b[0m\u001b[0;34m,\u001b[0m \u001b[0mpath\u001b[0m\u001b[0;34m,\u001b[0m \u001b[0mapi\u001b[0m\u001b[0;34m=\u001b[0m\u001b[0;34m'public'\u001b[0m\u001b[0;34m,\u001b[0m \u001b[0mmethod\u001b[0m\u001b[0;34m=\u001b[0m\u001b[0;34m'GET'\u001b[0m\u001b[0;34m,\u001b[0m \u001b[0mparams\u001b[0m\u001b[0;34m=\u001b[0m\u001b[0;34m{\u001b[0m\u001b[0;34m}\u001b[0m\u001b[0;34m,\u001b[0m \u001b[0mheaders\u001b[0m\u001b[0;34m=\u001b[0m\u001b[0;32mNone\u001b[0m\u001b[0;34m,\u001b[0m \u001b[0mbody\u001b[0m\u001b[0;34m=\u001b[0m\u001b[0;32mNone\u001b[0m\u001b[0;34m,\u001b[0m \u001b[0mconfig\u001b[0m\u001b[0;34m=\u001b[0m\u001b[0;34m{\u001b[0m\u001b[0;34m}\u001b[0m\u001b[0;34m,\u001b[0m \u001b[0mcontext\u001b[0m\u001b[0;34m=\u001b[0m\u001b[0;34m{\u001b[0m\u001b[0;34m}\u001b[0m\u001b[0;34m)\u001b[0m\u001b[0;34m:\u001b[0m\u001b[0;34m\u001b[0m\u001b[0;34m\u001b[0m\u001b[0m\n",
      "\u001b[0;32m~/opt/anaconda3/lib/python3.9/site-packages/ccxt/base/exchange.py\u001b[0m in \u001b[0;36mfetch\u001b[0;34m(self, url, method, headers, body)\u001b[0m\n\u001b[1;32m    627\u001b[0m         \u001b[0;32mexcept\u001b[0m \u001b[0mTimeout\u001b[0m \u001b[0;32mas\u001b[0m \u001b[0me\u001b[0m\u001b[0;34m:\u001b[0m\u001b[0;34m\u001b[0m\u001b[0;34m\u001b[0m\u001b[0m\n\u001b[1;32m    628\u001b[0m             \u001b[0mdetails\u001b[0m \u001b[0;34m=\u001b[0m \u001b[0;34m' '\u001b[0m\u001b[0;34m.\u001b[0m\u001b[0mjoin\u001b[0m\u001b[0;34m(\u001b[0m\u001b[0;34m[\u001b[0m\u001b[0mself\u001b[0m\u001b[0;34m.\u001b[0m\u001b[0mid\u001b[0m\u001b[0;34m,\u001b[0m \u001b[0mmethod\u001b[0m\u001b[0;34m,\u001b[0m \u001b[0murl\u001b[0m\u001b[0;34m]\u001b[0m\u001b[0;34m)\u001b[0m\u001b[0;34m\u001b[0m\u001b[0;34m\u001b[0m\u001b[0m\n\u001b[0;32m--> 629\u001b[0;31m             \u001b[0;32mraise\u001b[0m \u001b[0mRequestTimeout\u001b[0m\u001b[0;34m(\u001b[0m\u001b[0mdetails\u001b[0m\u001b[0;34m)\u001b[0m \u001b[0;32mfrom\u001b[0m \u001b[0me\u001b[0m\u001b[0;34m\u001b[0m\u001b[0;34m\u001b[0m\u001b[0m\n\u001b[0m\u001b[1;32m    630\u001b[0m \u001b[0;34m\u001b[0m\u001b[0m\n\u001b[1;32m    631\u001b[0m         \u001b[0;32mexcept\u001b[0m \u001b[0mTooManyRedirects\u001b[0m \u001b[0;32mas\u001b[0m \u001b[0me\u001b[0m\u001b[0;34m:\u001b[0m\u001b[0;34m\u001b[0m\u001b[0;34m\u001b[0m\u001b[0m\n",
      "\u001b[0;31mRequestTimeout\u001b[0m: binance GET https://api.binance.com/api/v3/klines?interval=1m&limit=100&symbol=ETHUSDT"
     ]
    }
   ],
   "source": [
    "\n",
    "def tr(data):\n",
    "    data['previous_close'] = data['close'].shift(1)\n",
    "    data['high-low'] = abs(data['high'] - data['low'])\n",
    "    data['high-pc'] = abs(data['high'] - data['previous_close'])\n",
    "    data['low-pc'] = abs(data['low'] - data['previous_close'])\n",
    "\n",
    "    tr = data[['high-low', 'high-pc', 'low-pc']].max(axis=1)\n",
    "\n",
    "    return tr\n",
    "\n",
    "def atr(data, period):\n",
    "    data['tr'] = tr(data)\n",
    "    atr = data['tr'].rolling(period).mean()\n",
    "\n",
    "    return atr\n",
    "\n",
    "def supertrend(df, period=7, atr_multiplier=3):\n",
    "    hl2 = (df['high'] + df['low']) / 2\n",
    "    df['atr'] = atr(df, period)\n",
    "    df['upperband'] = hl2 + (atr_multiplier * df['atr'])\n",
    "    df['lowerband'] = hl2 - (atr_multiplier * df['atr'])\n",
    "    df['in_uptrend'] = True\n",
    "\n",
    "    for current in range(1, len(df.index)):\n",
    "        previous = current - 1\n",
    "\n",
    "        if df['close'][current] > df['upperband'][previous]:\n",
    "            df['in_uptrend'][current] = True\n",
    "        elif df['close'][current] < df['lowerband'][previous]:\n",
    "            df['in_uptrend'][current] = False\n",
    "        else:\n",
    "            df['in_uptrend'][current] = df['in_uptrend'][previous]\n",
    "\n",
    "            if df['in_uptrend'][current] and df['lowerband'][current] < df['lowerband'][previous]:\n",
    "                df['lowerband'][current] = df['lowerband'][previous]\n",
    "\n",
    "            if not df['in_uptrend'][current] and df['upperband'][current] > df['upperband'][previous]:\n",
    "                df['upperband'][current] = df['upperband'][previous]\n",
    "        \n",
    "    return df\n",
    "\n",
    "\n",
    "in_position = False\n",
    "balance=[100]\n",
    "def check_buy_sell_signals(df):\n",
    "    global in_position\n",
    "    global balance\n",
    "    print(\"checking for buy and sell signals\")\n",
    "    print(df.tail(5))\n",
    "    last_row_index = len(df.index) - 1\n",
    "    previous_row_index = last_row_index - 1\n",
    "\n",
    "    if not df['in_uptrend'][previous_row_index] and df['in_uptrend'][last_row_index]:\n",
    "        print(\"changed to uptrend, buy\")\n",
    "        if not in_position:\n",
    "            #order = exchange.create_market_buy_order('ETH/USD', 0.05)\n",
    "            p=df[last_row_index][\"close\"]\n",
    "            balance.append(balance-p)\n",
    "            #print(order)\n",
    "            in_position = True\n",
    "        else:\n",
    "            print(\"already in position, nothing to do\")\n",
    "    \n",
    "    if df['in_uptrend'][previous_row_index] and not df['in_uptrend'][last_row_index]:\n",
    "        if in_position:\n",
    "            print(\"changed to downtrend, sell\")\n",
    "            p=df[last_row_index][\"close\"]\n",
    "            balance.append(balance+p)\n",
    "            #order = exchange.create_market_sell_order('ETH/USD', 0.05)\n",
    "            #print(order)\n",
    "            in_position = False\n",
    "        else:\n",
    "            print(\"You aren't in position, nothing to sell\")\n",
    "\n",
    "def run_bot():\n",
    "    print(f\"Fetching new bars for {datetime.now().isoformat()}\")\n",
    "    bars = exchange.fetch_ohlcv('ETH/USDT', timeframe='1m', limit=100)\n",
    "    df = pd.DataFrame(bars[:-1], columns=['timestamp', 'open', 'high', 'low', 'close', 'volume'])\n",
    "    df['timestamp'] = pd.to_datetime(df['timestamp'], unit='ms')\n",
    "    supertrend_data = supertrend(df)\n",
    "    \n",
    "    check_buy_sell_signals(supertrend_data)\n",
    "\n",
    "\n",
    "schedule.every(10).seconds.do(run_bot)\n",
    "\n",
    "\n",
    "while True:\n",
    "    schedule.run_pending()\n",
    "    time.sleep(1)"
   ]
  },
  {
   "cell_type": "code",
   "execution_count": 6,
   "id": "7d9af86c",
   "metadata": {},
   "outputs": [
    {
     "data": {
      "text/plain": [
       "[100]"
      ]
     },
     "execution_count": 6,
     "metadata": {},
     "output_type": "execute_result"
    }
   ],
   "source": [
    "import pandas as pd\n",
    "import sqlalchemy\n",
    "from binance.client import Client\n",
    "from binance import BinanceSocketManager"
   ]
  },
  {
   "cell_type": "code",
   "execution_count": 1,
   "id": "121e335e",
   "metadata": {},
   "outputs": [],
   "source": [
    "import ccxt\n",
    "import pandas as pd\n",
    "import numpy as np"
   ]
  },
  {
   "cell_type": "code",
   "execution_count": 2,
   "id": "d69c8637",
   "metadata": {},
   "outputs": [
    {
     "name": "stdout",
     "output_type": "stream",
     "text": [
      "['ace', 'alpaca', 'ascendex', 'bequant', 'bigone', 'binance', 'binancecoinm', 'binanceus', 'binanceusdm', 'bit2c', 'bitbank', 'bitbay', 'bitbns', 'bitcoincom', 'bitfinex', 'bitfinex2', 'bitflyer', 'bitforex', 'bitget', 'bithumb', 'bitmart', 'bitmex', 'bitopro', 'bitpanda', 'bitrue', 'bitso', 'bitstamp', 'bitstamp1', 'bittrex', 'bitvavo', 'bkex', 'bl3p', 'blockchaincom', 'btcalpha', 'btcbox', 'btcex', 'btcmarkets', 'btctradeua', 'btcturk', 'buda', 'bybit', 'cex', 'coinbase', 'coinbaseprime', 'coinbasepro', 'coincheck', 'coinex', 'coinfalcon', 'coinmate', 'coinone', 'coinspot', 'cryptocom', 'currencycom', 'delta', 'deribit', 'digifinex', 'exmo', 'flowbtc', 'fmfwio', 'gate', 'gateio', 'gemini', 'hitbtc', 'hitbtc3', 'hollaex', 'huobi', 'huobijp', 'huobipro', 'idex', 'independentreserve', 'indodax', 'itbit', 'kraken', 'krakenfutures', 'kucoin', 'kucoinfutures', 'kuna', 'latoken', 'lbank', 'lbank2', 'luno', 'lykke', 'mercado', 'mexc', 'mexc3', 'ndax', 'novadax', 'oceanex', 'okcoin', 'okex', 'okex5', 'okx', 'paymium', 'phemex', 'poloniex', 'poloniexfutures', 'probit', 'ripio', 'stex', 'tidex', 'timex', 'tokocrypto', 'upbit', 'wavesexchange', 'wazirx', 'whitebit', 'woo', 'yobit', 'zaif', 'zb', 'zonda']\n"
     ]
    }
   ],
   "source": [
    "print(ccxt.exchanges) # print a list of all available exchange classes"
   ]
  },
  {
   "cell_type": "code",
   "execution_count": 29,
   "id": "58796277",
   "metadata": {},
   "outputs": [],
   "source": [
    "binance = ccxt.binance()"
   ]
  },
  {
   "cell_type": "code",
   "execution_count": 34,
   "id": "3ee1e91d",
   "metadata": {},
   "outputs": [
    {
     "data": {
      "text/plain": [
       "0    2.0\n",
       "1    3.0\n",
       "2    4.0\n",
       "3    NaN\n",
       "Name: a, dtype: float64"
      ]
     },
     "execution_count": 34,
     "metadata": {},
     "output_type": "execute_result"
    }
   ],
   "source": [
    "a=pd.DataFrame({\"a\":[1,2,3,4]})\n",
    "a[\"a\"].shift(-1)"
   ]
  },
  {
   "cell_type": "code",
   "execution_count": 32,
   "id": "ca7e8470",
   "metadata": {},
   "outputs": [
    {
     "data": {
      "text/plain": [
       "<coroutine object binance.fetch_currencies at 0x7fe7ebc72540>"
      ]
     },
     "execution_count": 32,
     "metadata": {},
     "output_type": "execute_result"
    }
   ],
   "source": [
    "binance.fetchCurrencies(\"ETH\")"
   ]
  },
  {
   "cell_type": "code",
   "execution_count": 4,
   "id": "323382b1",
   "metadata": {},
   "outputs": [
    {
     "data": {
      "text/plain": [
       "ccxt.binance()"
      ]
     },
     "execution_count": 4,
     "metadata": {},
     "output_type": "execute_result"
    }
   ],
   "source": [
    "binance"
   ]
  },
  {
   "cell_type": "code",
   "execution_count": 5,
   "id": "d56c0edf",
   "metadata": {},
   "outputs": [],
   "source": [
    "btc_ticker = binance.fetch_ticker('BTC/USDT')"
   ]
  },
  {
   "cell_type": "code",
   "execution_count": 6,
   "id": "499c128f",
   "metadata": {},
   "outputs": [
    {
     "data": {
      "text/plain": [
       "{'symbol': 'BTC/USDT',\n",
       " 'timestamp': 1678623600598,\n",
       " 'datetime': '2023-03-12T12:20:00.598Z',\n",
       " 'high': 20529.91,\n",
       " 'low': 19992.24,\n",
       " 'bid': 20383.83,\n",
       " 'bidVolume': 0.07,\n",
       " 'ask': 20385.21,\n",
       " 'askVolume': 0.00197,\n",
       " 'vwap': 20294.01866749,\n",
       " 'open': 20046.21,\n",
       " 'close': 20385.2,\n",
       " 'last': 20385.2,\n",
       " 'previousClose': 20046.2,\n",
       " 'change': 338.99,\n",
       " 'percentage': 1.691,\n",
       " 'average': 20215.705,\n",
       " 'baseVolume': 301852.23318,\n",
       " 'quoteVolume': 6125794854.979467,\n",
       " 'info': {'symbol': 'BTCUSDT',\n",
       "  'priceChange': '338.99000000',\n",
       "  'priceChangePercent': '1.691',\n",
       "  'weightedAvgPrice': '20294.01866749',\n",
       "  'prevClosePrice': '20046.20000000',\n",
       "  'lastPrice': '20385.20000000',\n",
       "  'lastQty': '0.04759000',\n",
       "  'bidPrice': '20383.83000000',\n",
       "  'bidQty': '0.07000000',\n",
       "  'askPrice': '20385.21000000',\n",
       "  'askQty': '0.00197000',\n",
       "  'openPrice': '20046.21000000',\n",
       "  'highPrice': '20529.91000000',\n",
       "  'lowPrice': '19992.24000000',\n",
       "  'volume': '301852.23318000',\n",
       "  'quoteVolume': '6125794854.97946780',\n",
       "  'openTime': '1678537200598',\n",
       "  'closeTime': '1678623600598',\n",
       "  'firstId': '2925997671',\n",
       "  'lastId': '2933734594',\n",
       "  'count': '7736924'}}"
      ]
     },
     "execution_count": 6,
     "metadata": {},
     "output_type": "execute_result"
    }
   ],
   "source": [
    "btc_ticker"
   ]
  },
  {
   "cell_type": "code",
   "execution_count": 28,
   "id": "7db1f7e5",
   "metadata": {},
   "outputs": [
    {
     "ename": "TypeError",
     "evalue": "fetch_ticker() missing 1 required positional argument: 'symbol'",
     "output_type": "error",
     "traceback": [
      "\u001b[0;31m---------------------------------------------------------------------------\u001b[0m",
      "\u001b[0;31mTypeError\u001b[0m                                 Traceback (most recent call last)",
      "\u001b[0;32m/var/folders/7n/bl1bmjc529z84jd3bmqcjvdm0000gn/T/ipykernel_1479/2160784055.py\u001b[0m in \u001b[0;36m<cell line: 3>\u001b[0;34m()\u001b[0m\n\u001b[1;32m      1\u001b[0m \u001b[0;32mimport\u001b[0m \u001b[0mpandas\u001b[0m \u001b[0;32mas\u001b[0m \u001b[0mpd\u001b[0m\u001b[0;34m\u001b[0m\u001b[0;34m\u001b[0m\u001b[0m\n\u001b[1;32m      2\u001b[0m \u001b[0;32mimport\u001b[0m \u001b[0mnumpy\u001b[0m \u001b[0;32mas\u001b[0m \u001b[0mnp\u001b[0m\u001b[0;34m\u001b[0m\u001b[0;34m\u001b[0m\u001b[0m\n\u001b[0;32m----> 3\u001b[0;31m \u001b[0mall_pairs\u001b[0m\u001b[0;34m=\u001b[0m\u001b[0mpd\u001b[0m\u001b[0;34m.\u001b[0m\u001b[0mDataFrame\u001b[0m\u001b[0;34m(\u001b[0m\u001b[0mccxt\u001b[0m\u001b[0;34m.\u001b[0m\u001b[0mbinance\u001b[0m\u001b[0;34m(\u001b[0m\u001b[0;34m)\u001b[0m\u001b[0;34m.\u001b[0m\u001b[0mfetch_ticker\u001b[0m\u001b[0;34m(\u001b[0m\u001b[0;34m)\u001b[0m\u001b[0;34m)\u001b[0m\u001b[0;34m\u001b[0m\u001b[0;34m\u001b[0m\u001b[0m\n\u001b[0m",
      "\u001b[0;31mTypeError\u001b[0m: fetch_ticker() missing 1 required positional argument: 'symbol'"
     ]
    }
   ],
   "source": [
    "import pandas as pd\n",
    "import numpy as np\n",
    "all_pairs=pd.DataFrame(ccxt.binance().fetch_ticker())"
   ]
  },
  {
   "cell_type": "code",
   "execution_count": 25,
   "id": "89d85b9b",
   "metadata": {},
   "outputs": [
    {
     "name": "stdout",
     "output_type": "stream",
     "text": [
      "{'symbol': 'BTC/USD:BTC', 'timestamp': 1678642157205, 'datetime': '2023-03-12T17:29:17.205Z', 'high': 20922.2, 'low': 20271.7, 'bid': None, 'bidVolume': None, 'ask': None, 'askVolume': None, 'vwap': 20533.07909924, 'open': 20277.5, 'close': 20801.1, 'last': 20801.1, 'previousClose': None, 'change': 523.6, 'percentage': 2.582, 'average': 20539.3, 'baseVolume': 57000.29666001, 'quoteVolume': 11703916.0, 'info': {'symbol': 'BTCUSD_PERP', 'pair': 'BTCUSD', 'priceChange': '523.6', 'priceChangePercent': '2.582', 'weightedAvgPrice': '20533.07909924', 'lastPrice': '20801.1', 'lastQty': '1', 'openPrice': '20277.5', 'highPrice': '20922.2', 'lowPrice': '20271.7', 'volume': '11703916', 'baseVolume': '57000.29666001', 'openTime': '1678555740000', 'closeTime': '1678642157205', 'firstId': '597703551', 'lastId': '598010472', 'count': '306922'}}\n",
      "{'symbol': 'BTC/USD:BTC', 'timestamp': 1678642157205, 'datetime': '2023-03-12T17:29:17.205Z', 'high': 20922.2, 'low': 20271.7, 'bid': None, 'bidVolume': None, 'ask': None, 'askVolume': None, 'vwap': 20533.07909924, 'open': 20277.5, 'close': 20801.1, 'last': 20801.1, 'previousClose': None, 'change': 523.6, 'percentage': 2.582, 'average': 20539.3, 'baseVolume': 57000.29666001, 'quoteVolume': 11703916.0, 'info': {'symbol': 'BTCUSD_PERP', 'pair': 'BTCUSD', 'priceChange': '523.6', 'priceChangePercent': '2.582', 'weightedAvgPrice': '20533.07909924', 'lastPrice': '20801.1', 'lastQty': '1', 'openPrice': '20277.5', 'highPrice': '20922.2', 'lowPrice': '20271.7', 'volume': '11703916', 'baseVolume': '57000.29666001', 'openTime': '1678555740000', 'closeTime': '1678642157205', 'firstId': '597703551', 'lastId': '598010472', 'count': '306922'}}\n",
      "{'symbol': 'BTC/USD:BTC', 'timestamp': 1678642158189, 'datetime': '2023-03-12T17:29:18.189Z', 'high': 20922.2, 'low': 20271.7, 'bid': None, 'bidVolume': None, 'ask': None, 'askVolume': None, 'vwap': 20533.09084936, 'open': 20277.5, 'close': 20801.0, 'last': 20801.0, 'previousClose': None, 'change': 523.5, 'percentage': 2.582, 'average': 20539.25, 'baseVolume': 57002.79653885, 'quoteVolume': 11704436.0, 'info': {'symbol': 'BTCUSD_PERP', 'pair': 'BTCUSD', 'priceChange': '523.5', 'priceChangePercent': '2.582', 'weightedAvgPrice': '20533.09084936', 'lastPrice': '20801.0', 'lastQty': '3', 'openPrice': '20277.5', 'highPrice': '20922.2', 'lowPrice': '20271.7', 'volume': '11704436', 'baseVolume': '57002.79653885', 'openTime': '1678555740000', 'closeTime': '1678642158189', 'firstId': '597703551', 'lastId': '598010491', 'count': '306941'}}\n",
      "{'symbol': 'BTC/USD:BTC', 'timestamp': 1678642159295, 'datetime': '2023-03-12T17:29:19.295Z', 'high': 20922.2, 'low': 20271.7, 'bid': None, 'bidVolume': None, 'ask': None, 'askVolume': None, 'vwap': 20533.10750678, 'open': 20277.5, 'close': 20801.1, 'last': 20801.1, 'previousClose': None, 'change': 523.6, 'percentage': 2.582, 'average': 20539.3, 'baseVolume': 57006.33962071, 'quoteVolume': 11705173.0, 'info': {'symbol': 'BTCUSD_PERP', 'pair': 'BTCUSD', 'priceChange': '523.6', 'priceChangePercent': '2.582', 'weightedAvgPrice': '20533.10750678', 'lastPrice': '20801.1', 'lastQty': '27', 'openPrice': '20277.5', 'highPrice': '20922.2', 'lowPrice': '20271.7', 'volume': '11705173', 'baseVolume': '57006.33962071', 'openTime': '1678555740000', 'closeTime': '1678642159295', 'firstId': '597703551', 'lastId': '598010504', 'count': '306954'}}\n",
      "{'symbol': 'BTC/USD:BTC', 'timestamp': 1678642160431, 'datetime': '2023-03-12T17:29:20.431Z', 'high': 20922.2, 'low': 20271.7, 'bid': None, 'bidVolume': None, 'ask': None, 'askVolume': None, 'vwap': 20533.19062444, 'open': 20277.5, 'close': 20808.5, 'last': 20808.5, 'previousClose': None, 'change': 531.0, 'percentage': 2.619, 'average': 20543.0, 'baseVolume': 57023.9434005, 'quoteVolume': 11708835.0, 'info': {'symbol': 'BTCUSD_PERP', 'pair': 'BTCUSD', 'priceChange': '531.0', 'priceChangePercent': '2.619', 'weightedAvgPrice': '20533.19062444', 'lastPrice': '20808.5', 'lastQty': '5', 'openPrice': '20277.5', 'highPrice': '20922.2', 'lowPrice': '20271.7', 'volume': '11708835', 'baseVolume': '57023.94340050', 'openTime': '1678555740000', 'closeTime': '1678642160431', 'firstId': '597703551', 'lastId': '598010559', 'count': '307009'}}\n",
      "{'symbol': 'BTC/USD:BTC', 'timestamp': 1678642161094, 'datetime': '2023-03-12T17:29:21.094Z', 'high': 20922.2, 'low': 20271.7, 'bid': None, 'bidVolume': None, 'ask': None, 'askVolume': None, 'vwap': 20533.33495859, 'open': 20277.5, 'close': 20811.0, 'last': 20811.0, 'previousClose': None, 'change': 533.5, 'percentage': 2.631, 'average': 20544.25, 'baseVolume': 57054.29256196, 'quoteVolume': 11715149.0, 'info': {'symbol': 'BTCUSD_PERP', 'pair': 'BTCUSD', 'priceChange': '533.5', 'priceChangePercent': '2.631', 'weightedAvgPrice': '20533.33495859', 'lastPrice': '20811.0', 'lastQty': '5', 'openPrice': '20277.5', 'highPrice': '20922.2', 'lowPrice': '20271.7', 'volume': '11715149', 'baseVolume': '57054.29256196', 'openTime': '1678555740000', 'closeTime': '1678642161094', 'firstId': '597703551', 'lastId': '598010665', 'count': '307115'}}\n",
      "{'symbol': 'BTC/USD:BTC', 'timestamp': 1678642162346, 'datetime': '2023-03-12T17:29:22.346Z', 'high': 20922.2, 'low': 20271.7, 'bid': None, 'bidVolume': None, 'ask': None, 'askVolume': None, 'vwap': 20533.34384607, 'open': 20277.5, 'close': 20814.2, 'last': 20814.2, 'previousClose': None, 'change': 536.7, 'percentage': 2.647, 'average': 20545.85, 'baseVolume': 57056.10877521, 'quoteVolume': 11715527.0, 'info': {'symbol': 'BTCUSD_PERP', 'pair': 'BTCUSD', 'priceChange': '536.7', 'priceChangePercent': '2.647', 'weightedAvgPrice': '20533.34384607', 'lastPrice': '20814.2', 'lastQty': '148', 'openPrice': '20277.5', 'highPrice': '20922.2', 'lowPrice': '20271.7', 'volume': '11715527', 'baseVolume': '57056.10877521', 'openTime': '1678555740000', 'closeTime': '1678642162346', 'firstId': '597703551', 'lastId': '598010694', 'count': '307144'}}\n",
      "{'symbol': 'BTC/USD:BTC', 'timestamp': 1678642162346, 'datetime': '2023-03-12T17:29:22.346Z', 'high': 20922.2, 'low': 20271.7, 'bid': None, 'bidVolume': None, 'ask': None, 'askVolume': None, 'vwap': 20533.34384607, 'open': 20277.5, 'close': 20814.2, 'last': 20814.2, 'previousClose': None, 'change': 536.7, 'percentage': 2.647, 'average': 20545.85, 'baseVolume': 57056.10877521, 'quoteVolume': 11715527.0, 'info': {'symbol': 'BTCUSD_PERP', 'pair': 'BTCUSD', 'priceChange': '536.7', 'priceChangePercent': '2.647', 'weightedAvgPrice': '20533.34384607', 'lastPrice': '20814.2', 'lastQty': '148', 'openPrice': '20277.5', 'highPrice': '20922.2', 'lowPrice': '20271.7', 'volume': '11715527', 'baseVolume': '57056.10877521', 'openTime': '1678555740000', 'closeTime': '1678642162346', 'firstId': '597703551', 'lastId': '598010694', 'count': '307144'}}\n",
      "{'symbol': 'BTC/USD:BTC', 'timestamp': 1678642164290, 'datetime': '2023-03-12T17:29:24.290Z', 'high': 20922.2, 'low': 20271.7, 'bid': None, 'bidVolume': None, 'ask': None, 'askVolume': None, 'vwap': 20533.35401591, 'open': 20277.5, 'close': 20815.7, 'last': 20815.7, 'previousClose': None, 'change': 538.2, 'percentage': 2.654, 'average': 20546.6, 'baseVolume': 57058.16492972, 'quoteVolume': 11715955.0, 'info': {'symbol': 'BTCUSD_PERP', 'pair': 'BTCUSD', 'priceChange': '538.2', 'priceChangePercent': '2.654', 'weightedAvgPrice': '20533.35401591', 'lastPrice': '20815.7', 'lastQty': '2', 'openPrice': '20277.5', 'highPrice': '20922.2', 'lowPrice': '20271.7', 'volume': '11715955', 'baseVolume': '57058.16492972', 'openTime': '1678555740000', 'closeTime': '1678642164290', 'firstId': '597703551', 'lastId': '598010704', 'count': '307154'}}\n",
      "{'symbol': 'BTC/USD:BTC', 'timestamp': 1678642165564, 'datetime': '2023-03-12T17:29:25.564Z', 'high': 20922.2, 'low': 20271.7, 'bid': None, 'bidVolume': None, 'ask': None, 'askVolume': None, 'vwap': 20533.49091949, 'open': 20277.5, 'close': 20810.7, 'last': 20810.7, 'previousClose': None, 'change': 533.2, 'percentage': 2.63, 'average': 20544.1, 'baseVolume': 57085.88980783, 'quoteVolume': 11721726.0, 'info': {'symbol': 'BTCUSD_PERP', 'pair': 'BTCUSD', 'priceChange': '533.2', 'priceChangePercent': '2.630', 'weightedAvgPrice': '20533.49091949', 'lastPrice': '20810.7', 'lastQty': '144', 'openPrice': '20277.5', 'highPrice': '20922.2', 'lowPrice': '20271.7', 'volume': '11721726', 'baseVolume': '57085.88980783', 'openTime': '1678555740000', 'closeTime': '1678642165564', 'firstId': '597703551', 'lastId': '598010774', 'count': '307224'}}\n"
     ]
    },
    {
     "name": "stdout",
     "output_type": "stream",
     "text": [
      "{'symbol': 'BTC/USD:BTC', 'timestamp': 1678642165564, 'datetime': '2023-03-12T17:29:25.564Z', 'high': 20922.2, 'low': 20271.7, 'bid': None, 'bidVolume': None, 'ask': None, 'askVolume': None, 'vwap': 20533.49091949, 'open': 20277.5, 'close': 20810.7, 'last': 20810.7, 'previousClose': None, 'change': 533.2, 'percentage': 2.63, 'average': 20544.1, 'baseVolume': 57085.88980783, 'quoteVolume': 11721726.0, 'info': {'symbol': 'BTCUSD_PERP', 'pair': 'BTCUSD', 'priceChange': '533.2', 'priceChangePercent': '2.630', 'weightedAvgPrice': '20533.49091949', 'lastPrice': '20810.7', 'lastQty': '144', 'openPrice': '20277.5', 'highPrice': '20922.2', 'lowPrice': '20271.7', 'volume': '11721726', 'baseVolume': '57085.88980783', 'openTime': '1678555740000', 'closeTime': '1678642165564', 'firstId': '597703551', 'lastId': '598010774', 'count': '307224'}}\n",
      "{'symbol': 'BTC/USD:BTC', 'timestamp': 1678642166599, 'datetime': '2023-03-12T17:29:26.599Z', 'high': 20922.2, 'low': 20271.7, 'bid': None, 'bidVolume': None, 'ask': None, 'askVolume': None, 'vwap': 20533.49688859, 'open': 20277.5, 'close': 20802.5, 'last': 20802.5, 'previousClose': None, 'change': 525.0, 'percentage': 2.589, 'average': 20540.0, 'baseVolume': 57087.1345665, 'quoteVolume': 11721985.0, 'info': {'symbol': 'BTCUSD_PERP', 'pair': 'BTCUSD', 'priceChange': '525.0', 'priceChangePercent': '2.589', 'weightedAvgPrice': '20533.49688859', 'lastPrice': '20802.5', 'lastQty': '6', 'openPrice': '20277.5', 'highPrice': '20922.2', 'lowPrice': '20271.7', 'volume': '11721985', 'baseVolume': '57087.13456650', 'openTime': '1678555740000', 'closeTime': '1678642166599', 'firstId': '597703551', 'lastId': '598010807', 'count': '307257'}}\n",
      "{'symbol': 'BTC/USD:BTC', 'timestamp': 1678642167387, 'datetime': '2023-03-12T17:29:27.387Z', 'high': 20922.2, 'low': 20271.7, 'bid': None, 'bidVolume': None, 'ask': None, 'askVolume': None, 'vwap': 20533.49711511, 'open': 20277.5, 'close': 20802.5, 'last': 20802.5, 'previousClose': None, 'change': 525.0, 'percentage': 2.589, 'average': 20540.0, 'baseVolume': 57087.18263765, 'quoteVolume': 11721995.0, 'info': {'symbol': 'BTCUSD_PERP', 'pair': 'BTCUSD', 'priceChange': '525.0', 'priceChangePercent': '2.589', 'weightedAvgPrice': '20533.49711511', 'lastPrice': '20802.5', 'lastQty': '6', 'openPrice': '20277.5', 'highPrice': '20922.2', 'lowPrice': '20271.7', 'volume': '11721995', 'baseVolume': '57087.18263765', 'openTime': '1678555740000', 'closeTime': '1678642167387', 'firstId': '597703551', 'lastId': '598010809', 'count': '307259'}}\n",
      "{'symbol': 'BTC/USD:BTC', 'timestamp': 1678642168341, 'datetime': '2023-03-12T17:29:28.341Z', 'high': 20922.2, 'low': 20271.7, 'bid': None, 'bidVolume': None, 'ask': None, 'askVolume': None, 'vwap': 20533.49752284, 'open': 20277.5, 'close': 20802.5, 'last': 20802.5, 'previousClose': None, 'change': 525.0, 'percentage': 2.589, 'average': 20540.0, 'baseVolume': 57087.26916571, 'quoteVolume': 11722013.0, 'info': {'symbol': 'BTCUSD_PERP', 'pair': 'BTCUSD', 'priceChange': '525.0', 'priceChangePercent': '2.589', 'weightedAvgPrice': '20533.49752284', 'lastPrice': '20802.5', 'lastQty': '2', 'openPrice': '20277.5', 'highPrice': '20922.2', 'lowPrice': '20271.7', 'volume': '11722013', 'baseVolume': '57087.26916571', 'openTime': '1678555740000', 'closeTime': '1678642168341', 'firstId': '597703551', 'lastId': '598010812', 'count': '307262'}}\n",
      "{'symbol': 'BTC/USD:BTC', 'timestamp': 1678642169646, 'datetime': '2023-03-12T17:29:29.646Z', 'high': 20922.2, 'low': 20271.7, 'bid': None, 'bidVolume': None, 'ask': None, 'askVolume': None, 'vwap': 20533.49937962, 'open': 20277.5, 'close': 20802.5, 'last': 20802.5, 'previousClose': None, 'change': 525.0, 'percentage': 2.589, 'average': 20540.0, 'baseVolume': 57087.6633509, 'quoteVolume': 11722095.0, 'info': {'symbol': 'BTCUSD_PERP', 'pair': 'BTCUSD', 'priceChange': '525.0', 'priceChangePercent': '2.589', 'weightedAvgPrice': '20533.49937962', 'lastPrice': '20802.5', 'lastQty': '1', 'openPrice': '20277.5', 'highPrice': '20922.2', 'lowPrice': '20271.7', 'volume': '11722095', 'baseVolume': '57087.66335090', 'openTime': '1678555740000', 'closeTime': '1678642169646', 'firstId': '597703551', 'lastId': '598010823', 'count': '307273'}}\n",
      "{'symbol': 'BTC/USD:BTC', 'timestamp': 1678642170663, 'datetime': '2023-03-12T17:29:30.663Z', 'high': 20922.2, 'low': 20271.7, 'bid': None, 'bidVolume': None, 'ask': None, 'askVolume': None, 'vwap': 20533.51323504, 'open': 20277.5, 'close': 20800.7, 'last': 20800.7, 'previousClose': None, 'change': 523.2, 'percentage': 2.58, 'average': 20539.1, 'baseVolume': 57090.60532318, 'quoteVolume': 11722707.0, 'info': {'symbol': 'BTCUSD_PERP', 'pair': 'BTCUSD', 'priceChange': '523.2', 'priceChangePercent': '2.580', 'weightedAvgPrice': '20533.51323504', 'lastPrice': '20800.7', 'lastQty': '1', 'openPrice': '20277.5', 'highPrice': '20922.2', 'lowPrice': '20271.7', 'volume': '11722707', 'baseVolume': '57090.60532318', 'openTime': '1678555740000', 'closeTime': '1678642170663', 'firstId': '597703551', 'lastId': '598010841', 'count': '307291'}}\n",
      "{'symbol': 'BTC/USD:BTC', 'timestamp': 1678642171718, 'datetime': '2023-03-12T17:29:31.718Z', 'high': 20922.2, 'low': 20271.7, 'bid': None, 'bidVolume': None, 'ask': None, 'askVolume': None, 'vwap': 20533.52060759, 'open': 20277.5, 'close': 20796.6, 'last': 20796.6, 'previousClose': None, 'change': 519.1, 'percentage': 2.56, 'average': 20537.05, 'baseVolume': 57092.19195303, 'quoteVolume': 11723037.0, 'info': {'symbol': 'BTCUSD_PERP', 'pair': 'BTCUSD', 'priceChange': '519.1', 'priceChangePercent': '2.560', 'weightedAvgPrice': '20533.52060759', 'lastPrice': '20796.6', 'lastQty': '7', 'openPrice': '20277.5', 'highPrice': '20922.2', 'lowPrice': '20271.7', 'volume': '11723037', 'baseVolume': '57092.19195303', 'openTime': '1678555740000', 'closeTime': '1678642171718', 'firstId': '597703551', 'lastId': '598010867', 'count': '307317'}}\n",
      "{'symbol': 'BTC/USD:BTC', 'timestamp': 1678642172746, 'datetime': '2023-03-12T17:29:32.746Z', 'high': 20922.2, 'low': 20271.7, 'bid': None, 'bidVolume': None, 'ask': None, 'askVolume': None, 'vwap': 20533.5252824, 'open': 20277.5, 'close': 20792.7, 'last': 20792.7, 'previousClose': None, 'change': 515.2, 'percentage': 2.541, 'average': 20535.1, 'baseVolume': 57093.21141288, 'quoteVolume': 11723249.0, 'info': {'symbol': 'BTCUSD_PERP', 'pair': 'BTCUSD', 'priceChange': '515.2', 'priceChangePercent': '2.541', 'weightedAvgPrice': '20533.52528240', 'lastPrice': '20792.7', 'lastQty': '21', 'openPrice': '20277.5', 'highPrice': '20922.2', 'lowPrice': '20271.7', 'volume': '11723249', 'baseVolume': '57093.21141288', 'openTime': '1678555740000', 'closeTime': '1678642172746', 'firstId': '597703551', 'lastId': '598010881', 'count': '307331'}}\n",
      "{'symbol': 'BTC/USD:BTC', 'timestamp': 1678642173563, 'datetime': '2023-03-12T17:29:33.563Z', 'high': 20922.2, 'low': 20271.7, 'bid': None, 'bidVolume': None, 'ask': None, 'askVolume': None, 'vwap': 20533.56110546, 'open': 20277.5, 'close': 20783.5, 'last': 20783.5, 'previousClose': None, 'change': 506.0, 'percentage': 2.495, 'average': 20530.5, 'baseVolume': 57101.22048379, 'quoteVolume': 11724914.0, 'info': {'symbol': 'BTCUSD_PERP', 'pair': 'BTCUSD', 'priceChange': '506.0', 'priceChangePercent': '2.495', 'weightedAvgPrice': '20533.56110546', 'lastPrice': '20783.5', 'lastQty': '2', 'openPrice': '20277.5', 'highPrice': '20922.2', 'lowPrice': '20271.7', 'volume': '11724914', 'baseVolume': '57101.22048379', 'openTime': '1678555740000', 'closeTime': '1678642173563', 'firstId': '597703551', 'lastId': '598010926', 'count': '307376'}}\n",
      "{'symbol': 'BTC/USD:BTC', 'timestamp': 1678642174564, 'datetime': '2023-03-12T17:29:34.564Z', 'high': 20922.2, 'low': 20271.7, 'bid': None, 'bidVolume': None, 'ask': None, 'askVolume': None, 'vwap': 20533.56557592, 'open': 20277.5, 'close': 20778.6, 'last': 20778.6, 'previousClose': None, 'change': 501.1, 'percentage': 2.471, 'average': 20528.05, 'baseVolume': 57102.25024799, 'quoteVolume': 11725128.0, 'info': {'symbol': 'BTCUSD_PERP', 'pair': 'BTCUSD', 'priceChange': '501.1', 'priceChangePercent': '2.471', 'weightedAvgPrice': '20533.56557592', 'lastPrice': '20778.6', 'lastQty': '1', 'openPrice': '20277.5', 'highPrice': '20922.2', 'lowPrice': '20271.7', 'volume': '11725128', 'baseVolume': '57102.25024799', 'openTime': '1678555740000', 'closeTime': '1678642174564', 'firstId': '597703551', 'lastId': '598010947', 'count': '307397'}}\n"
     ]
    },
    {
     "name": "stdout",
     "output_type": "stream",
     "text": [
      "{'symbol': 'BTC/USD:BTC', 'timestamp': 1678642175389, 'datetime': '2023-03-12T17:29:35.389Z', 'high': 20922.2, 'low': 20271.7, 'bid': None, 'bidVolume': None, 'ask': None, 'askVolume': None, 'vwap': 20533.56813679, 'open': 20277.5, 'close': 20774.8, 'last': 20774.8, 'previousClose': None, 'change': 497.3, 'percentage': 2.452, 'average': 20526.15, 'baseVolume': 57102.85188571, 'quoteVolume': 11725253.0, 'info': {'symbol': 'BTCUSD_PERP', 'pair': 'BTCUSD', 'priceChange': '497.3', 'priceChangePercent': '2.452', 'weightedAvgPrice': '20533.56813679', 'lastPrice': '20774.8', 'lastQty': '8', 'openPrice': '20277.5', 'highPrice': '20922.2', 'lowPrice': '20271.7', 'volume': '11725253', 'baseVolume': '57102.85188571', 'openTime': '1678555740000', 'closeTime': '1678642175389', 'firstId': '597703551', 'lastId': '598010961', 'count': '307411'}}\n",
      "{'symbol': 'BTC/USD:BTC', 'timestamp': 1678642176835, 'datetime': '2023-03-12T17:29:36.835Z', 'high': 20922.2, 'low': 20271.7, 'bid': None, 'bidVolume': None, 'ask': None, 'askVolume': None, 'vwap': 20533.79654246, 'open': 20277.5, 'close': 20760.4, 'last': 20760.4, 'previousClose': None, 'change': 482.9, 'percentage': 2.381, 'average': 20518.95, 'baseVolume': 57159.90209472, 'quoteVolume': 11737098.0, 'info': {'symbol': 'BTCUSD_PERP', 'pair': 'BTCUSD', 'priceChange': '482.9', 'priceChangePercent': '2.381', 'weightedAvgPrice': '20533.79654246', 'lastPrice': '20760.4', 'lastQty': '38', 'openPrice': '20277.5', 'highPrice': '20922.2', 'lowPrice': '20271.7', 'volume': '11737098', 'baseVolume': '57159.90209472', 'openTime': '1678555740000', 'closeTime': '1678642176835', 'firstId': '597703551', 'lastId': '598011177', 'count': '307627'}}\n"
     ]
    },
    {
     "ename": "CancelledError",
     "evalue": "",
     "output_type": "error",
     "traceback": [
      "\u001b[0;31m---------------------------------------------------------------------------\u001b[0m",
      "\u001b[0;31mCancelledError\u001b[0m                            Traceback (most recent call last)",
      "\u001b[0;32m/var/folders/7n/bl1bmjc529z84jd3bmqcjvdm0000gn/T/ipykernel_1479/2539110077.py\u001b[0m in \u001b[0;36m<cell line: 13>\u001b[0;34m()\u001b[0m\n\u001b[1;32m     11\u001b[0m         \u001b[0mprint\u001b[0m\u001b[0;34m(\u001b[0m\u001b[0mticker\u001b[0m\u001b[0;34m)\u001b[0m\u001b[0;34m\u001b[0m\u001b[0;34m\u001b[0m\u001b[0m\n\u001b[1;32m     12\u001b[0m \u001b[0;34m\u001b[0m\u001b[0m\n\u001b[0;32m---> 13\u001b[0;31m \u001b[0;32mawait\u001b[0m \u001b[0mmain\u001b[0m\u001b[0;34m(\u001b[0m\u001b[0;34m)\u001b[0m\u001b[0;34m\u001b[0m\u001b[0;34m\u001b[0m\u001b[0m\n\u001b[0m",
      "\u001b[0;32m/var/folders/7n/bl1bmjc529z84jd3bmqcjvdm0000gn/T/ipykernel_1479/2539110077.py\u001b[0m in \u001b[0;36mmain\u001b[0;34m()\u001b[0m\n\u001b[1;32m      8\u001b[0m \u001b[0;34m\u001b[0m\u001b[0m\n\u001b[1;32m      9\u001b[0m \u001b[0;32masync\u001b[0m \u001b[0;32mdef\u001b[0m \u001b[0mmain\u001b[0m\u001b[0;34m(\u001b[0m\u001b[0;34m)\u001b[0m\u001b[0;34m:\u001b[0m\u001b[0;34m\u001b[0m\u001b[0;34m\u001b[0m\u001b[0m\n\u001b[0;32m---> 10\u001b[0;31m     \u001b[0;32masync\u001b[0m \u001b[0;32mfor\u001b[0m \u001b[0mticker\u001b[0m \u001b[0;32min\u001b[0m \u001b[0mpoll\u001b[0m\u001b[0;34m(\u001b[0m\u001b[0;34m)\u001b[0m\u001b[0;34m:\u001b[0m\u001b[0;34m\u001b[0m\u001b[0;34m\u001b[0m\u001b[0m\n\u001b[0m\u001b[1;32m     11\u001b[0m         \u001b[0mprint\u001b[0m\u001b[0;34m(\u001b[0m\u001b[0mticker\u001b[0m\u001b[0;34m)\u001b[0m\u001b[0;34m\u001b[0m\u001b[0;34m\u001b[0m\u001b[0m\n\u001b[1;32m     12\u001b[0m \u001b[0;34m\u001b[0m\u001b[0m\n",
      "\u001b[0;32m/var/folders/7n/bl1bmjc529z84jd3bmqcjvdm0000gn/T/ipykernel_1479/2539110077.py\u001b[0m in \u001b[0;36mpoll\u001b[0;34m()\u001b[0m\n\u001b[1;32m      4\u001b[0m     \u001b[0mbinance\u001b[0m \u001b[0;34m=\u001b[0m \u001b[0mccxt\u001b[0m\u001b[0;34m.\u001b[0m\u001b[0mbinance\u001b[0m\u001b[0;34m(\u001b[0m\u001b[0;34m)\u001b[0m\u001b[0;34m\u001b[0m\u001b[0;34m\u001b[0m\u001b[0m\n\u001b[1;32m      5\u001b[0m     \u001b[0;32mwhile\u001b[0m \u001b[0;32mTrue\u001b[0m\u001b[0;34m:\u001b[0m\u001b[0;34m\u001b[0m\u001b[0;34m\u001b[0m\u001b[0m\n\u001b[0;32m----> 6\u001b[0;31m         \u001b[0;32myield\u001b[0m \u001b[0;32mawait\u001b[0m \u001b[0mbinance\u001b[0m\u001b[0;34m.\u001b[0m\u001b[0mfetch_ticker\u001b[0m\u001b[0;34m(\u001b[0m\u001b[0;34m'BTC/USD'\u001b[0m\u001b[0;34m)\u001b[0m\u001b[0;34m\u001b[0m\u001b[0;34m\u001b[0m\u001b[0m\n\u001b[0m\u001b[1;32m      7\u001b[0m         \u001b[0;32mawait\u001b[0m \u001b[0masyncio\u001b[0m\u001b[0;34m.\u001b[0m\u001b[0msleep\u001b[0m\u001b[0;34m(\u001b[0m\u001b[0mbinance\u001b[0m\u001b[0;34m.\u001b[0m\u001b[0mrateLimit\u001b[0m \u001b[0;34m/\u001b[0m \u001b[0;36m1000\u001b[0m\u001b[0;34m)\u001b[0m\u001b[0;34m\u001b[0m\u001b[0;34m\u001b[0m\u001b[0m\n\u001b[1;32m      8\u001b[0m \u001b[0;34m\u001b[0m\u001b[0m\n",
      "\u001b[0;32m~/opt/anaconda3/lib/python3.9/site-packages/ccxt/async_support/binance.py\u001b[0m in \u001b[0;36mfetch_ticker\u001b[0;34m(self, symbol, params)\u001b[0m\n\u001b[1;32m   2772\u001b[0m         \u001b[0;32melif\u001b[0m \u001b[0mmarket\u001b[0m\u001b[0;34m[\u001b[0m\u001b[0;34m'inverse'\u001b[0m\u001b[0;34m]\u001b[0m\u001b[0;34m:\u001b[0m\u001b[0;34m\u001b[0m\u001b[0;34m\u001b[0m\u001b[0m\n\u001b[1;32m   2773\u001b[0m             \u001b[0mmethod\u001b[0m \u001b[0;34m=\u001b[0m \u001b[0;34m'dapiPublicGetTicker24hr'\u001b[0m\u001b[0;34m\u001b[0m\u001b[0;34m\u001b[0m\u001b[0m\n\u001b[0;32m-> 2774\u001b[0;31m         \u001b[0mresponse\u001b[0m \u001b[0;34m=\u001b[0m \u001b[0;32mawait\u001b[0m \u001b[0mgetattr\u001b[0m\u001b[0;34m(\u001b[0m\u001b[0mself\u001b[0m\u001b[0;34m,\u001b[0m \u001b[0mmethod\u001b[0m\u001b[0;34m)\u001b[0m\u001b[0;34m(\u001b[0m\u001b[0mself\u001b[0m\u001b[0;34m.\u001b[0m\u001b[0mextend\u001b[0m\u001b[0;34m(\u001b[0m\u001b[0mrequest\u001b[0m\u001b[0;34m,\u001b[0m \u001b[0mparams\u001b[0m\u001b[0;34m)\u001b[0m\u001b[0;34m)\u001b[0m\u001b[0;34m\u001b[0m\u001b[0;34m\u001b[0m\u001b[0m\n\u001b[0m\u001b[1;32m   2775\u001b[0m         \u001b[0;32mif\u001b[0m \u001b[0misinstance\u001b[0m\u001b[0;34m(\u001b[0m\u001b[0mresponse\u001b[0m\u001b[0;34m,\u001b[0m \u001b[0mlist\u001b[0m\u001b[0;34m)\u001b[0m\u001b[0;34m:\u001b[0m\u001b[0;34m\u001b[0m\u001b[0;34m\u001b[0m\u001b[0m\n\u001b[1;32m   2776\u001b[0m             \u001b[0mfirstTicker\u001b[0m \u001b[0;34m=\u001b[0m \u001b[0mself\u001b[0m\u001b[0;34m.\u001b[0m\u001b[0msafe_value\u001b[0m\u001b[0;34m(\u001b[0m\u001b[0mresponse\u001b[0m\u001b[0;34m,\u001b[0m \u001b[0;36m0\u001b[0m\u001b[0;34m,\u001b[0m \u001b[0;34m{\u001b[0m\u001b[0;34m}\u001b[0m\u001b[0;34m)\u001b[0m\u001b[0;34m\u001b[0m\u001b[0;34m\u001b[0m\u001b[0m\n",
      "\u001b[0;32m~/opt/anaconda3/lib/python3.9/site-packages/ccxt/async_support/binance.py\u001b[0m in \u001b[0;36mrequest\u001b[0;34m(self, path, api, method, params, headers, body, config, context)\u001b[0m\n\u001b[1;32m   6936\u001b[0m \u001b[0;34m\u001b[0m\u001b[0m\n\u001b[1;32m   6937\u001b[0m     \u001b[0;32masync\u001b[0m \u001b[0;32mdef\u001b[0m \u001b[0mrequest\u001b[0m\u001b[0;34m(\u001b[0m\u001b[0mself\u001b[0m\u001b[0;34m,\u001b[0m \u001b[0mpath\u001b[0m\u001b[0;34m,\u001b[0m \u001b[0mapi\u001b[0m\u001b[0;34m=\u001b[0m\u001b[0;34m'public'\u001b[0m\u001b[0;34m,\u001b[0m \u001b[0mmethod\u001b[0m\u001b[0;34m=\u001b[0m\u001b[0;34m'GET'\u001b[0m\u001b[0;34m,\u001b[0m \u001b[0mparams\u001b[0m\u001b[0;34m=\u001b[0m\u001b[0;34m{\u001b[0m\u001b[0;34m}\u001b[0m\u001b[0;34m,\u001b[0m \u001b[0mheaders\u001b[0m\u001b[0;34m=\u001b[0m\u001b[0;32mNone\u001b[0m\u001b[0;34m,\u001b[0m \u001b[0mbody\u001b[0m\u001b[0;34m=\u001b[0m\u001b[0;32mNone\u001b[0m\u001b[0;34m,\u001b[0m \u001b[0mconfig\u001b[0m\u001b[0;34m=\u001b[0m\u001b[0;34m{\u001b[0m\u001b[0;34m}\u001b[0m\u001b[0;34m,\u001b[0m \u001b[0mcontext\u001b[0m\u001b[0;34m=\u001b[0m\u001b[0;34m{\u001b[0m\u001b[0;34m}\u001b[0m\u001b[0;34m)\u001b[0m\u001b[0;34m:\u001b[0m\u001b[0;34m\u001b[0m\u001b[0;34m\u001b[0m\u001b[0m\n\u001b[0;32m-> 6938\u001b[0;31m         \u001b[0mresponse\u001b[0m \u001b[0;34m=\u001b[0m \u001b[0;32mawait\u001b[0m \u001b[0mself\u001b[0m\u001b[0;34m.\u001b[0m\u001b[0mfetch2\u001b[0m\u001b[0;34m(\u001b[0m\u001b[0mpath\u001b[0m\u001b[0;34m,\u001b[0m \u001b[0mapi\u001b[0m\u001b[0;34m,\u001b[0m \u001b[0mmethod\u001b[0m\u001b[0;34m,\u001b[0m \u001b[0mparams\u001b[0m\u001b[0;34m,\u001b[0m \u001b[0mheaders\u001b[0m\u001b[0;34m,\u001b[0m \u001b[0mbody\u001b[0m\u001b[0;34m,\u001b[0m \u001b[0mconfig\u001b[0m\u001b[0;34m,\u001b[0m \u001b[0mcontext\u001b[0m\u001b[0;34m)\u001b[0m\u001b[0;34m\u001b[0m\u001b[0;34m\u001b[0m\u001b[0m\n\u001b[0m\u001b[1;32m   6939\u001b[0m         \u001b[0;31m# a workaround for {\"code\":-2015,\"msg\":\"Invalid API-key, IP, or permissions for action.\"}\u001b[0m\u001b[0;34m\u001b[0m\u001b[0;34m\u001b[0m\u001b[0m\n\u001b[1;32m   6940\u001b[0m         \u001b[0;32mif\u001b[0m \u001b[0;34m(\u001b[0m\u001b[0mapi\u001b[0m \u001b[0;34m==\u001b[0m \u001b[0;34m'private'\u001b[0m\u001b[0;34m)\u001b[0m \u001b[0;32mor\u001b[0m \u001b[0;34m(\u001b[0m\u001b[0mapi\u001b[0m \u001b[0;34m==\u001b[0m \u001b[0;34m'wapi'\u001b[0m\u001b[0;34m)\u001b[0m\u001b[0;34m:\u001b[0m\u001b[0;34m\u001b[0m\u001b[0;34m\u001b[0m\u001b[0m\n",
      "\u001b[0;32m~/opt/anaconda3/lib/python3.9/site-packages/ccxt/async_support/base/exchange.py\u001b[0m in \u001b[0;36mfetch2\u001b[0;34m(self, path, api, method, params, headers, body, config, context)\u001b[0m\n\u001b[1;32m   1312\u001b[0m         \u001b[0mself\u001b[0m\u001b[0;34m.\u001b[0m\u001b[0mlastRestRequestTimestamp\u001b[0m \u001b[0;34m=\u001b[0m \u001b[0mself\u001b[0m\u001b[0;34m.\u001b[0m\u001b[0mmilliseconds\u001b[0m\u001b[0;34m(\u001b[0m\u001b[0;34m)\u001b[0m\u001b[0;34m\u001b[0m\u001b[0;34m\u001b[0m\u001b[0m\n\u001b[1;32m   1313\u001b[0m         \u001b[0mrequest\u001b[0m \u001b[0;34m=\u001b[0m \u001b[0mself\u001b[0m\u001b[0;34m.\u001b[0m\u001b[0msign\u001b[0m\u001b[0;34m(\u001b[0m\u001b[0mpath\u001b[0m\u001b[0;34m,\u001b[0m \u001b[0mapi\u001b[0m\u001b[0;34m,\u001b[0m \u001b[0mmethod\u001b[0m\u001b[0;34m,\u001b[0m \u001b[0mparams\u001b[0m\u001b[0;34m,\u001b[0m \u001b[0mheaders\u001b[0m\u001b[0;34m,\u001b[0m \u001b[0mbody\u001b[0m\u001b[0;34m)\u001b[0m\u001b[0;34m\u001b[0m\u001b[0;34m\u001b[0m\u001b[0m\n\u001b[0;32m-> 1314\u001b[0;31m         \u001b[0;32mreturn\u001b[0m \u001b[0;32mawait\u001b[0m \u001b[0mself\u001b[0m\u001b[0;34m.\u001b[0m\u001b[0mfetch\u001b[0m\u001b[0;34m(\u001b[0m\u001b[0mrequest\u001b[0m\u001b[0;34m[\u001b[0m\u001b[0;34m'url'\u001b[0m\u001b[0;34m]\u001b[0m\u001b[0;34m,\u001b[0m \u001b[0mrequest\u001b[0m\u001b[0;34m[\u001b[0m\u001b[0;34m'method'\u001b[0m\u001b[0;34m]\u001b[0m\u001b[0;34m,\u001b[0m \u001b[0mrequest\u001b[0m\u001b[0;34m[\u001b[0m\u001b[0;34m'headers'\u001b[0m\u001b[0;34m]\u001b[0m\u001b[0;34m,\u001b[0m \u001b[0mrequest\u001b[0m\u001b[0;34m[\u001b[0m\u001b[0;34m'body'\u001b[0m\u001b[0;34m]\u001b[0m\u001b[0;34m)\u001b[0m\u001b[0;34m\u001b[0m\u001b[0;34m\u001b[0m\u001b[0m\n\u001b[0m\u001b[1;32m   1315\u001b[0m \u001b[0;34m\u001b[0m\u001b[0m\n\u001b[1;32m   1316\u001b[0m     \u001b[0;32masync\u001b[0m \u001b[0;32mdef\u001b[0m \u001b[0mrequest\u001b[0m\u001b[0;34m(\u001b[0m\u001b[0mself\u001b[0m\u001b[0;34m,\u001b[0m \u001b[0mpath\u001b[0m\u001b[0;34m,\u001b[0m \u001b[0mapi\u001b[0m\u001b[0;34m=\u001b[0m\u001b[0;34m'public'\u001b[0m\u001b[0;34m,\u001b[0m \u001b[0mmethod\u001b[0m\u001b[0;34m=\u001b[0m\u001b[0;34m'GET'\u001b[0m\u001b[0;34m,\u001b[0m \u001b[0mparams\u001b[0m\u001b[0;34m=\u001b[0m\u001b[0;34m{\u001b[0m\u001b[0;34m}\u001b[0m\u001b[0;34m,\u001b[0m \u001b[0mheaders\u001b[0m\u001b[0;34m=\u001b[0m\u001b[0;32mNone\u001b[0m\u001b[0;34m,\u001b[0m \u001b[0mbody\u001b[0m\u001b[0;34m=\u001b[0m\u001b[0;32mNone\u001b[0m\u001b[0;34m,\u001b[0m \u001b[0mconfig\u001b[0m\u001b[0;34m=\u001b[0m\u001b[0;34m{\u001b[0m\u001b[0;34m}\u001b[0m\u001b[0;34m,\u001b[0m \u001b[0mcontext\u001b[0m\u001b[0;34m=\u001b[0m\u001b[0;34m{\u001b[0m\u001b[0;34m}\u001b[0m\u001b[0;34m)\u001b[0m\u001b[0;34m:\u001b[0m\u001b[0;34m\u001b[0m\u001b[0;34m\u001b[0m\u001b[0m\n",
      "\u001b[0;32m~/opt/anaconda3/lib/python3.9/site-packages/ccxt/async_support/base/exchange.py\u001b[0m in \u001b[0;36mfetch\u001b[0;34m(self, url, method, headers, body)\u001b[0m\n\u001b[1;32m    117\u001b[0m         \u001b[0mjson_response\u001b[0m \u001b[0;34m=\u001b[0m \u001b[0;32mNone\u001b[0m\u001b[0;34m\u001b[0m\u001b[0;34m\u001b[0m\u001b[0m\n\u001b[1;32m    118\u001b[0m         \u001b[0;32mtry\u001b[0m\u001b[0;34m:\u001b[0m\u001b[0;34m\u001b[0m\u001b[0;34m\u001b[0m\u001b[0m\n\u001b[0;32m--> 119\u001b[0;31m             async with session_method(yarl.URL(url, encoded=True),\n\u001b[0m\u001b[1;32m    120\u001b[0m                                       \u001b[0mdata\u001b[0m\u001b[0;34m=\u001b[0m\u001b[0mencoded_body\u001b[0m\u001b[0;34m,\u001b[0m\u001b[0;34m\u001b[0m\u001b[0;34m\u001b[0m\u001b[0m\n\u001b[1;32m    121\u001b[0m                                       \u001b[0mheaders\u001b[0m\u001b[0;34m=\u001b[0m\u001b[0mrequest_headers\u001b[0m\u001b[0;34m,\u001b[0m\u001b[0;34m\u001b[0m\u001b[0;34m\u001b[0m\u001b[0m\n",
      "\u001b[0;32m~/opt/anaconda3/lib/python3.9/site-packages/aiohttp/client.py\u001b[0m in \u001b[0;36m__aenter__\u001b[0;34m(self)\u001b[0m\n\u001b[1;32m   1136\u001b[0m \u001b[0;34m\u001b[0m\u001b[0m\n\u001b[1;32m   1137\u001b[0m     \u001b[0;32masync\u001b[0m \u001b[0;32mdef\u001b[0m \u001b[0m__aenter__\u001b[0m\u001b[0;34m(\u001b[0m\u001b[0mself\u001b[0m\u001b[0;34m)\u001b[0m \u001b[0;34m->\u001b[0m \u001b[0m_RetType\u001b[0m\u001b[0;34m:\u001b[0m\u001b[0;34m\u001b[0m\u001b[0;34m\u001b[0m\u001b[0m\n\u001b[0;32m-> 1138\u001b[0;31m         \u001b[0mself\u001b[0m\u001b[0;34m.\u001b[0m\u001b[0m_resp\u001b[0m \u001b[0;34m=\u001b[0m \u001b[0;32mawait\u001b[0m \u001b[0mself\u001b[0m\u001b[0;34m.\u001b[0m\u001b[0m_coro\u001b[0m\u001b[0;34m\u001b[0m\u001b[0;34m\u001b[0m\u001b[0m\n\u001b[0m\u001b[1;32m   1139\u001b[0m         \u001b[0;32mreturn\u001b[0m \u001b[0mself\u001b[0m\u001b[0;34m.\u001b[0m\u001b[0m_resp\u001b[0m\u001b[0;34m\u001b[0m\u001b[0;34m\u001b[0m\u001b[0m\n\u001b[1;32m   1140\u001b[0m \u001b[0;34m\u001b[0m\u001b[0m\n",
      "\u001b[0;32m~/opt/anaconda3/lib/python3.9/site-packages/aiohttp/client.py\u001b[0m in \u001b[0;36m_request\u001b[0;34m(self, method, str_or_url, params, data, json, cookies, headers, skip_auto_headers, auth, allow_redirects, max_redirects, compress, chunked, expect100, raise_for_status, read_until_eof, proxy, proxy_auth, timeout, verify_ssl, fingerprint, ssl_context, ssl, proxy_headers, trace_request_ctx, read_bufsize)\u001b[0m\n\u001b[1;32m    557\u001b[0m                             \u001b[0mresp\u001b[0m \u001b[0;34m=\u001b[0m \u001b[0;32mawait\u001b[0m \u001b[0mreq\u001b[0m\u001b[0;34m.\u001b[0m\u001b[0msend\u001b[0m\u001b[0;34m(\u001b[0m\u001b[0mconn\u001b[0m\u001b[0;34m)\u001b[0m\u001b[0;34m\u001b[0m\u001b[0;34m\u001b[0m\u001b[0m\n\u001b[1;32m    558\u001b[0m                             \u001b[0;32mtry\u001b[0m\u001b[0;34m:\u001b[0m\u001b[0;34m\u001b[0m\u001b[0;34m\u001b[0m\u001b[0m\n\u001b[0;32m--> 559\u001b[0;31m                                 \u001b[0;32mawait\u001b[0m \u001b[0mresp\u001b[0m\u001b[0;34m.\u001b[0m\u001b[0mstart\u001b[0m\u001b[0;34m(\u001b[0m\u001b[0mconn\u001b[0m\u001b[0;34m)\u001b[0m\u001b[0;34m\u001b[0m\u001b[0;34m\u001b[0m\u001b[0m\n\u001b[0m\u001b[1;32m    560\u001b[0m                             \u001b[0;32mexcept\u001b[0m \u001b[0mBaseException\u001b[0m\u001b[0;34m:\u001b[0m\u001b[0;34m\u001b[0m\u001b[0;34m\u001b[0m\u001b[0m\n\u001b[1;32m    561\u001b[0m                                 \u001b[0mresp\u001b[0m\u001b[0;34m.\u001b[0m\u001b[0mclose\u001b[0m\u001b[0;34m(\u001b[0m\u001b[0;34m)\u001b[0m\u001b[0;34m\u001b[0m\u001b[0;34m\u001b[0m\u001b[0m\n",
      "\u001b[0;32m~/opt/anaconda3/lib/python3.9/site-packages/aiohttp/client_reqrep.py\u001b[0m in \u001b[0;36mstart\u001b[0;34m(self, connection)\u001b[0m\n\u001b[1;32m    896\u001b[0m                 \u001b[0;32mtry\u001b[0m\u001b[0;34m:\u001b[0m\u001b[0;34m\u001b[0m\u001b[0;34m\u001b[0m\u001b[0m\n\u001b[1;32m    897\u001b[0m                     \u001b[0mprotocol\u001b[0m \u001b[0;34m=\u001b[0m \u001b[0mself\u001b[0m\u001b[0;34m.\u001b[0m\u001b[0m_protocol\u001b[0m\u001b[0;34m\u001b[0m\u001b[0;34m\u001b[0m\u001b[0m\n\u001b[0;32m--> 898\u001b[0;31m                     \u001b[0mmessage\u001b[0m\u001b[0;34m,\u001b[0m \u001b[0mpayload\u001b[0m \u001b[0;34m=\u001b[0m \u001b[0;32mawait\u001b[0m \u001b[0mprotocol\u001b[0m\u001b[0;34m.\u001b[0m\u001b[0mread\u001b[0m\u001b[0;34m(\u001b[0m\u001b[0;34m)\u001b[0m  \u001b[0;31m# type: ignore[union-attr]\u001b[0m\u001b[0;34m\u001b[0m\u001b[0;34m\u001b[0m\u001b[0m\n\u001b[0m\u001b[1;32m    899\u001b[0m                 \u001b[0;32mexcept\u001b[0m \u001b[0mhttp\u001b[0m\u001b[0;34m.\u001b[0m\u001b[0mHttpProcessingError\u001b[0m \u001b[0;32mas\u001b[0m \u001b[0mexc\u001b[0m\u001b[0;34m:\u001b[0m\u001b[0;34m\u001b[0m\u001b[0;34m\u001b[0m\u001b[0m\n\u001b[1;32m    900\u001b[0m                     raise ClientResponseError(\n",
      "\u001b[0;32m~/opt/anaconda3/lib/python3.9/site-packages/aiohttp/streams.py\u001b[0m in \u001b[0;36mread\u001b[0;34m(self)\u001b[0m\n\u001b[1;32m    614\u001b[0m             \u001b[0mself\u001b[0m\u001b[0;34m.\u001b[0m\u001b[0m_waiter\u001b[0m \u001b[0;34m=\u001b[0m \u001b[0mself\u001b[0m\u001b[0;34m.\u001b[0m\u001b[0m_loop\u001b[0m\u001b[0;34m.\u001b[0m\u001b[0mcreate_future\u001b[0m\u001b[0;34m(\u001b[0m\u001b[0;34m)\u001b[0m\u001b[0;34m\u001b[0m\u001b[0;34m\u001b[0m\u001b[0m\n\u001b[1;32m    615\u001b[0m             \u001b[0;32mtry\u001b[0m\u001b[0;34m:\u001b[0m\u001b[0;34m\u001b[0m\u001b[0;34m\u001b[0m\u001b[0m\n\u001b[0;32m--> 616\u001b[0;31m                 \u001b[0;32mawait\u001b[0m \u001b[0mself\u001b[0m\u001b[0;34m.\u001b[0m\u001b[0m_waiter\u001b[0m\u001b[0;34m\u001b[0m\u001b[0;34m\u001b[0m\u001b[0m\n\u001b[0m\u001b[1;32m    617\u001b[0m             \u001b[0;32mexcept\u001b[0m \u001b[0;34m(\u001b[0m\u001b[0masyncio\u001b[0m\u001b[0;34m.\u001b[0m\u001b[0mCancelledError\u001b[0m\u001b[0;34m,\u001b[0m \u001b[0masyncio\u001b[0m\u001b[0;34m.\u001b[0m\u001b[0mTimeoutError\u001b[0m\u001b[0;34m)\u001b[0m\u001b[0;34m:\u001b[0m\u001b[0;34m\u001b[0m\u001b[0;34m\u001b[0m\u001b[0m\n\u001b[1;32m    618\u001b[0m                 \u001b[0mself\u001b[0m\u001b[0;34m.\u001b[0m\u001b[0m_waiter\u001b[0m \u001b[0;34m=\u001b[0m \u001b[0;32mNone\u001b[0m\u001b[0;34m\u001b[0m\u001b[0;34m\u001b[0m\u001b[0m\n",
      "\u001b[0;31mCancelledError\u001b[0m: "
     ]
    }
   ],
   "source": [
    "import ccxt.async_support as ccxt  # noqa: E402\n",
    "\n",
    "async def poll():\n",
    "    binance = ccxt.binance()\n",
    "    while True:\n",
    "        yield await binance.fetch_ticker('BTC/USD')\n",
    "        await asyncio.sleep(binance.rateLimit / 1000)\n",
    "\n",
    "async def main():\n",
    "    async for ticker in poll():\n",
    "        print(ticker)\n",
    "\n",
    "await main()"
   ]
  },
  {
   "cell_type": "code",
   "execution_count": 23,
   "id": "0b8a6891",
   "metadata": {},
   "outputs": [
    {
     "name": "stdout",
     "output_type": "stream",
     "text": [
      "{'ask': 1498.5,\n",
      " 'askVolume': 1.102,\n",
      " 'average': 1469.26,\n",
      " 'baseVolume': 728796.327,\n",
      " 'bid': 1498.49,\n",
      " 'bidVolume': 7.825,\n",
      " 'change': 58.46,\n",
      " 'close': 1498.49,\n",
      " 'datetime': '2023-03-12T17:26:30.710Z',\n",
      " 'high': 1504.18,\n",
      " 'info': {'askPrice': '1498.50000000',\n",
      "          'askQty': '1.10200000',\n",
      "          'bidPrice': '1498.49000000',\n",
      "          'bidQty': '7.82500000',\n",
      "          'closeTime': '1678641990710',\n",
      "          'count': '834147',\n",
      "          'firstId': '1097104329',\n",
      "          'highPrice': '1504.18000000',\n",
      "          'lastId': '1097938475',\n",
      "          'lastPrice': '1498.49000000',\n",
      "          'lastQty': '0.01010000',\n",
      "          'lowPrice': '1438.99000000',\n",
      "          'openPrice': '1440.03000000',\n",
      "          'openTime': '1678555590710',\n",
      "          'prevClosePrice': '1440.03000000',\n",
      "          'priceChange': '58.46000000',\n",
      "          'priceChangePercent': '4.060',\n",
      "          'quoteVolume': '1064449275.78610500',\n",
      "          'symbol': 'ETHUSDT',\n",
      "          'volume': '728796.32700000',\n",
      "          'weightedAvgPrice': '1460.55795886'},\n",
      " 'last': 1498.49,\n",
      " 'low': 1438.99,\n",
      " 'open': 1440.03,\n",
      " 'percentage': 4.06,\n",
      " 'previousClose': 1440.03,\n",
      " 'quoteVolume': 1064449275.786105,\n",
      " 'symbol': 'ETH/USDT',\n",
      " 'timestamp': 1678641990710,\n",
      " 'vwap': 1460.55795886}\n"
     ]
    }
   ],
   "source": [
    "import asyncio\n",
    "import os\n",
    "import sys\n",
    "from pprint import pprint\n",
    "\n",
    "#root = os.path.dirname(os.path.dirname(os.path.dirname(os.path.abspath(__file__))))\n",
    "#sys.path.append(root + '/python')\n",
    "\n",
    "import ccxt.async_support as ccxt  # noqa: E402\n",
    "\n",
    "async def show(): \n",
    "    binance=ccxt.binance()\n",
    "    pprint(await binance.fetch_ticker('ETH/USDT'))\n",
    "    await binance.close()\n",
    "    return\n",
    "\n",
    "t=await show()\n",
    "t"
   ]
  },
  {
   "cell_type": "code",
   "execution_count": 13,
   "id": "291dd77f",
   "metadata": {},
   "outputs": [
    {
     "data": {
      "text/plain": [
       "datetime.datetime(2023, 3, 12, 18, 15, 11, 111000)"
      ]
     },
     "execution_count": 13,
     "metadata": {},
     "output_type": "execute_result"
    }
   ],
   "source": [
    "from datetime import datetime\n",
    "datetime.fromtimestamp(1678641311111/1000)"
   ]
  },
  {
   "cell_type": "code",
   "execution_count": null,
   "id": "7fd3bd3b",
   "metadata": {},
   "outputs": [],
   "source": []
  }
 ],
 "metadata": {
  "kernelspec": {
   "display_name": "Python 3 (ipykernel)",
   "language": "python",
   "name": "python3"
  },
  "language_info": {
   "codemirror_mode": {
    "name": "ipython",
    "version": 3
   },
   "file_extension": ".py",
   "mimetype": "text/x-python",
   "name": "python",
   "nbconvert_exporter": "python",
   "pygments_lexer": "ipython3",
   "version": "3.9.7"
  }
 },
 "nbformat": 4,
 "nbformat_minor": 5
}
