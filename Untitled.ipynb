{
 "cells": [
  {
   "cell_type": "code",
   "execution_count": 3,
   "id": "ddaabfc4",
   "metadata": {},
   "outputs": [],
   "source": [
    "#client=Client(api_key,api_secret)\n",
    "#engine=sqlalchemy.create_engine(\"sqlite:///BTCUDSTstream.db\")\n",
    "\n",
    "import ccxt\n",
    "import schedule\n",
    "import pandas as pd\n",
    "pd.set_option('display.max_rows', None)\n",
    "\n",
    "import warnings\n",
    "warnings.filterwarnings('ignore')\n",
    "\n",
    "import numpy as np\n",
    "from datetime import datetime\n",
    "import time\n",
    "\n",
    "import os\n",
    "\n",
    "exchange = ccxt.binance({\n",
    "    \"apiKey\": os.environ.get('pk'),\n",
    "    \"secret\": os.environ.get('ps')\n",
    "})"
   ]
  },
  {
   "cell_type": "code",
   "execution_count": 4,
   "id": "0b8dbb10",
   "metadata": {},
   "outputs": [
    {
     "name": "stdout",
     "output_type": "stream",
     "text": [
      "Fetching new bars for 2023-03-20T12:27:36.197258\n",
      "checking for buy and sell signals\n",
      "             timestamp     open     high      low    close    volume  \\\n",
      "94 2023-03-20 11:22:00  1784.04  1784.75  1783.10  1783.38  259.0609   \n",
      "95 2023-03-20 11:23:00  1783.39  1783.66  1782.86  1782.93  310.7180   \n",
      "96 2023-03-20 11:24:00  1782.93  1785.71  1782.24  1785.07  584.1530   \n",
      "97 2023-03-20 11:25:00  1785.06  1786.66  1783.27  1783.27  451.2663   \n",
      "98 2023-03-20 11:26:00  1783.28  1784.08  1783.17  1783.80  380.9710   \n",
      "\n",
      "    previous_close  high-low  high-pc  low-pc    tr       atr    upperband  \\\n",
      "94         1784.04      1.65     0.71    0.94  1.65  2.000000  1789.925000   \n",
      "95         1783.38      0.80     0.28    0.52  0.80  1.798571  1788.655714   \n",
      "96         1782.93      3.47     2.78    0.69  3.47  2.012857  1790.013571   \n",
      "97         1785.07      3.39     1.59    1.80  3.39  2.172857  1791.483571   \n",
      "98         1783.27      0.91     0.81    0.10  0.91  2.094286  1789.907857   \n",
      "\n",
      "      lowerband  in_uptrend  \n",
      "94  1778.086429        True  \n",
      "95  1778.086429        True  \n",
      "96  1778.086429        True  \n",
      "97  1778.446429        True  \n",
      "98  1778.446429        True  \n",
      "Fetching new bars for 2023-03-20T12:27:48.609252\n",
      "checking for buy and sell signals\n",
      "             timestamp     open     high      low    close    volume  \\\n",
      "94 2023-03-20 11:22:00  1784.04  1784.75  1783.10  1783.38  259.0609   \n",
      "95 2023-03-20 11:23:00  1783.39  1783.66  1782.86  1782.93  310.7180   \n",
      "96 2023-03-20 11:24:00  1782.93  1785.71  1782.24  1785.07  584.1530   \n",
      "97 2023-03-20 11:25:00  1785.06  1786.66  1783.27  1783.27  451.2663   \n",
      "98 2023-03-20 11:26:00  1783.28  1784.08  1783.17  1783.80  380.9710   \n",
      "\n",
      "    previous_close  high-low  high-pc  low-pc    tr       atr    upperband  \\\n",
      "94         1784.04      1.65     0.71    0.94  1.65  2.000000  1789.925000   \n",
      "95         1783.38      0.80     0.28    0.52  0.80  1.798571  1788.655714   \n",
      "96         1782.93      3.47     2.78    0.69  3.47  2.012857  1790.013571   \n",
      "97         1785.07      3.39     1.59    1.80  3.39  2.172857  1791.483571   \n",
      "98         1783.27      0.91     0.81    0.10  0.91  2.094286  1789.907857   \n",
      "\n",
      "      lowerband  in_uptrend  \n",
      "94  1778.086429        True  \n",
      "95  1778.086429        True  \n",
      "96  1778.086429        True  \n",
      "97  1778.446429        True  \n",
      "98  1778.446429        True  \n",
      "Fetching new bars for 2023-03-20T12:27:59.057271\n",
      "checking for buy and sell signals\n",
      "             timestamp     open     high      low    close    volume  \\\n",
      "94 2023-03-20 11:22:00  1784.04  1784.75  1783.10  1783.38  259.0609   \n",
      "95 2023-03-20 11:23:00  1783.39  1783.66  1782.86  1782.93  310.7180   \n",
      "96 2023-03-20 11:24:00  1782.93  1785.71  1782.24  1785.07  584.1530   \n",
      "97 2023-03-20 11:25:00  1785.06  1786.66  1783.27  1783.27  451.2663   \n",
      "98 2023-03-20 11:26:00  1783.28  1784.08  1783.17  1783.80  380.9710   \n",
      "\n",
      "    previous_close  high-low  high-pc  low-pc    tr       atr    upperband  \\\n",
      "94         1784.04      1.65     0.71    0.94  1.65  2.000000  1789.925000   \n",
      "95         1783.38      0.80     0.28    0.52  0.80  1.798571  1788.655714   \n",
      "96         1782.93      3.47     2.78    0.69  3.47  2.012857  1790.013571   \n",
      "97         1785.07      3.39     1.59    1.80  3.39  2.172857  1791.483571   \n",
      "98         1783.27      0.91     0.81    0.10  0.91  2.094286  1789.907857   \n",
      "\n",
      "      lowerband  in_uptrend  \n",
      "94  1778.086429        True  \n",
      "95  1778.086429        True  \n",
      "96  1778.086429        True  \n",
      "97  1778.446429        True  \n",
      "98  1778.446429        True  \n",
      "Fetching new bars for 2023-03-20T12:28:09.513239\n",
      "checking for buy and sell signals\n",
      "             timestamp     open     high      low    close    volume  \\\n",
      "94 2023-03-20 11:23:00  1783.39  1783.66  1782.86  1782.93  310.7180   \n",
      "95 2023-03-20 11:24:00  1782.93  1785.71  1782.24  1785.07  584.1530   \n",
      "96 2023-03-20 11:25:00  1785.06  1786.66  1783.27  1783.27  451.2663   \n",
      "97 2023-03-20 11:26:00  1783.28  1784.08  1783.17  1783.80  380.9710   \n",
      "98 2023-03-20 11:27:00  1783.80  1784.63  1783.49  1784.62  232.4394   \n",
      "\n",
      "    previous_close  high-low  high-pc  low-pc    tr       atr    upperband  \\\n",
      "94         1783.38      0.80     0.28    0.52  0.80  1.798571  1788.655714   \n",
      "95         1782.93      3.47     2.78    0.69  3.47  2.012857  1790.013571   \n",
      "96         1785.07      3.39     1.59    1.80  3.39  2.172857  1791.483571   \n",
      "97         1783.27      0.91     0.81    0.10  0.91  2.094286  1789.907857   \n",
      "98         1783.80      1.14     0.83    0.31  1.14  2.035714  1790.167143   \n",
      "\n",
      "      lowerband  in_uptrend  \n",
      "94  1778.086429        True  \n",
      "95  1778.086429        True  \n",
      "96  1778.446429        True  \n",
      "97  1778.446429        True  \n",
      "98  1778.446429        True  \n",
      "Fetching new bars for 2023-03-20T12:28:19.957727\n",
      "checking for buy and sell signals\n",
      "             timestamp     open     high      low    close    volume  \\\n",
      "94 2023-03-20 11:23:00  1783.39  1783.66  1782.86  1782.93  310.7180   \n",
      "95 2023-03-20 11:24:00  1782.93  1785.71  1782.24  1785.07  584.1530   \n",
      "96 2023-03-20 11:25:00  1785.06  1786.66  1783.27  1783.27  451.2663   \n",
      "97 2023-03-20 11:26:00  1783.28  1784.08  1783.17  1783.80  380.9710   \n",
      "98 2023-03-20 11:27:00  1783.80  1784.63  1783.49  1784.62  232.4394   \n",
      "\n",
      "    previous_close  high-low  high-pc  low-pc    tr       atr    upperband  \\\n",
      "94         1783.38      0.80     0.28    0.52  0.80  1.798571  1788.655714   \n",
      "95         1782.93      3.47     2.78    0.69  3.47  2.012857  1790.013571   \n",
      "96         1785.07      3.39     1.59    1.80  3.39  2.172857  1791.483571   \n",
      "97         1783.27      0.91     0.81    0.10  0.91  2.094286  1789.907857   \n",
      "98         1783.80      1.14     0.83    0.31  1.14  2.035714  1790.167143   \n",
      "\n",
      "      lowerband  in_uptrend  \n",
      "94  1778.086429        True  \n",
      "95  1778.086429        True  \n",
      "96  1778.446429        True  \n",
      "97  1778.446429        True  \n",
      "98  1778.446429        True  \n",
      "Fetching new bars for 2023-03-20T12:28:30.505025\n",
      "checking for buy and sell signals\n",
      "             timestamp     open     high      low    close    volume  \\\n",
      "94 2023-03-20 11:23:00  1783.39  1783.66  1782.86  1782.93  310.7180   \n",
      "95 2023-03-20 11:24:00  1782.93  1785.71  1782.24  1785.07  584.1530   \n",
      "96 2023-03-20 11:25:00  1785.06  1786.66  1783.27  1783.27  451.2663   \n",
      "97 2023-03-20 11:26:00  1783.28  1784.08  1783.17  1783.80  380.9710   \n",
      "98 2023-03-20 11:27:00  1783.80  1784.63  1783.49  1784.62  232.4394   \n",
      "\n",
      "    previous_close  high-low  high-pc  low-pc    tr       atr    upperband  \\\n",
      "94         1783.38      0.80     0.28    0.52  0.80  1.798571  1788.655714   \n",
      "95         1782.93      3.47     2.78    0.69  3.47  2.012857  1790.013571   \n",
      "96         1785.07      3.39     1.59    1.80  3.39  2.172857  1791.483571   \n",
      "97         1783.27      0.91     0.81    0.10  0.91  2.094286  1789.907857   \n",
      "98         1783.80      1.14     0.83    0.31  1.14  2.035714  1790.167143   \n",
      "\n",
      "      lowerband  in_uptrend  \n",
      "94  1778.086429        True  \n",
      "95  1778.086429        True  \n",
      "96  1778.446429        True  \n",
      "97  1778.446429        True  \n",
      "98  1778.446429        True  \n",
      "Fetching new bars for 2023-03-20T12:28:40.943323\n",
      "checking for buy and sell signals\n",
      "             timestamp     open     high      low    close    volume  \\\n",
      "94 2023-03-20 11:23:00  1783.39  1783.66  1782.86  1782.93  310.7180   \n",
      "95 2023-03-20 11:24:00  1782.93  1785.71  1782.24  1785.07  584.1530   \n",
      "96 2023-03-20 11:25:00  1785.06  1786.66  1783.27  1783.27  451.2663   \n",
      "97 2023-03-20 11:26:00  1783.28  1784.08  1783.17  1783.80  380.9710   \n",
      "98 2023-03-20 11:27:00  1783.80  1784.63  1783.49  1784.62  232.4394   \n",
      "\n",
      "    previous_close  high-low  high-pc  low-pc    tr       atr    upperband  \\\n",
      "94         1783.38      0.80     0.28    0.52  0.80  1.798571  1788.655714   \n",
      "95         1782.93      3.47     2.78    0.69  3.47  2.012857  1790.013571   \n",
      "96         1785.07      3.39     1.59    1.80  3.39  2.172857  1791.483571   \n",
      "97         1783.27      0.91     0.81    0.10  0.91  2.094286  1789.907857   \n",
      "98         1783.80      1.14     0.83    0.31  1.14  2.035714  1790.167143   \n",
      "\n",
      "      lowerband  in_uptrend  \n",
      "94  1778.086429        True  \n",
      "95  1778.086429        True  \n",
      "96  1778.446429        True  \n",
      "97  1778.446429        True  \n",
      "98  1778.446429        True  \n",
      "Fetching new bars for 2023-03-20T12:28:51.394017\n"
     ]
    },
    {
     "name": "stdout",
     "output_type": "stream",
     "text": [
      "checking for buy and sell signals\n",
      "             timestamp     open     high      low    close    volume  \\\n",
      "94 2023-03-20 11:23:00  1783.39  1783.66  1782.86  1782.93  310.7180   \n",
      "95 2023-03-20 11:24:00  1782.93  1785.71  1782.24  1785.07  584.1530   \n",
      "96 2023-03-20 11:25:00  1785.06  1786.66  1783.27  1783.27  451.2663   \n",
      "97 2023-03-20 11:26:00  1783.28  1784.08  1783.17  1783.80  380.9710   \n",
      "98 2023-03-20 11:27:00  1783.80  1784.63  1783.49  1784.62  232.4394   \n",
      "\n",
      "    previous_close  high-low  high-pc  low-pc    tr       atr    upperband  \\\n",
      "94         1783.38      0.80     0.28    0.52  0.80  1.798571  1788.655714   \n",
      "95         1782.93      3.47     2.78    0.69  3.47  2.012857  1790.013571   \n",
      "96         1785.07      3.39     1.59    1.80  3.39  2.172857  1791.483571   \n",
      "97         1783.27      0.91     0.81    0.10  0.91  2.094286  1789.907857   \n",
      "98         1783.80      1.14     0.83    0.31  1.14  2.035714  1790.167143   \n",
      "\n",
      "      lowerband  in_uptrend  \n",
      "94  1778.086429        True  \n",
      "95  1778.086429        True  \n",
      "96  1778.446429        True  \n",
      "97  1778.446429        True  \n",
      "98  1778.446429        True  \n"
     ]
    },
    {
     "ename": "KeyboardInterrupt",
     "evalue": "",
     "output_type": "error",
     "traceback": [
      "\u001b[0;31m---------------------------------------------------------------------------\u001b[0m",
      "\u001b[0;31mKeyboardInterrupt\u001b[0m                         Traceback (most recent call last)",
      "\u001b[0;32m/var/folders/vs/tzsf1v8j0x7cxxg0jh48sd8r0000gn/T/ipykernel_13239/1478777322.py\u001b[0m in \u001b[0;36m<module>\u001b[0;34m\u001b[0m\n\u001b[1;32m     88\u001b[0m \u001b[0;32mwhile\u001b[0m \u001b[0;32mTrue\u001b[0m\u001b[0;34m:\u001b[0m\u001b[0;34m\u001b[0m\u001b[0;34m\u001b[0m\u001b[0m\n\u001b[1;32m     89\u001b[0m     \u001b[0mschedule\u001b[0m\u001b[0;34m.\u001b[0m\u001b[0mrun_pending\u001b[0m\u001b[0;34m(\u001b[0m\u001b[0;34m)\u001b[0m\u001b[0;34m\u001b[0m\u001b[0;34m\u001b[0m\u001b[0m\n\u001b[0;32m---> 90\u001b[0;31m     \u001b[0mtime\u001b[0m\u001b[0;34m.\u001b[0m\u001b[0msleep\u001b[0m\u001b[0;34m(\u001b[0m\u001b[0;36m1\u001b[0m\u001b[0;34m)\u001b[0m\u001b[0;34m\u001b[0m\u001b[0;34m\u001b[0m\u001b[0m\n\u001b[0m",
      "\u001b[0;31mKeyboardInterrupt\u001b[0m: "
     ]
    }
   ],
   "source": [
    "\n",
    "def tr(data):\n",
    "    data['previous_close'] = data['close'].shift(1)\n",
    "    data['high-low'] = abs(data['high'] - data['low'])\n",
    "    data['high-pc'] = abs(data['high'] - data['previous_close'])\n",
    "    data['low-pc'] = abs(data['low'] - data['previous_close'])\n",
    "\n",
    "    tr = data[['high-low', 'high-pc', 'low-pc']].max(axis=1)\n",
    "\n",
    "    return tr\n",
    "\n",
    "def atr(data, period):\n",
    "    data['tr'] = tr(data)\n",
    "    atr = data['tr'].rolling(period).mean()\n",
    "\n",
    "    return atr\n",
    "\n",
    "def supertrend(df, period=7, atr_multiplier=3):\n",
    "    hl2 = (df['high'] + df['low']) / 2\n",
    "    df['atr'] = atr(df, period)\n",
    "    df['upperband'] = hl2 + (atr_multiplier * df['atr'])\n",
    "    df['lowerband'] = hl2 - (atr_multiplier * df['atr'])\n",
    "    df['in_uptrend'] = True\n",
    "\n",
    "    for current in range(1, len(df.index)):\n",
    "        previous = current - 1\n",
    "\n",
    "        if df['close'][current] > df['upperband'][previous]:\n",
    "            df['in_uptrend'][current] = True\n",
    "        elif df['close'][current] < df['lowerband'][previous]:\n",
    "            df['in_uptrend'][current] = False\n",
    "        else:\n",
    "            df['in_uptrend'][current] = df['in_uptrend'][previous]\n",
    "\n",
    "            if df['in_uptrend'][current] and df['lowerband'][current] < df['lowerband'][previous]:\n",
    "                df['lowerband'][current] = df['lowerband'][previous]\n",
    "\n",
    "            if not df['in_uptrend'][current] and df['upperband'][current] > df['upperband'][previous]:\n",
    "                df['upperband'][current] = df['upperband'][previous]\n",
    "        \n",
    "    return df\n",
    "\n",
    "\n",
    "in_position = False\n",
    "balance=[100]\n",
    "def check_buy_sell_signals(df):\n",
    "    global in_position\n",
    "    global balance\n",
    "    print(\"checking for buy and sell signals\")\n",
    "    print(df.tail(5))\n",
    "    last_row_index = len(df.index) - 1\n",
    "    previous_row_index = last_row_index - 1\n",
    "\n",
    "    if not df['in_uptrend'][previous_row_index] and df['in_uptrend'][last_row_index]:\n",
    "        print(\"changed to uptrend, buy\")\n",
    "        if not in_position:\n",
    "            #order = exchange.create_market_buy_order('ETH/USD', 0.05)\n",
    "            p=df[last_row_index][\"close\"]\n",
    "            balance.append(balance-p)\n",
    "            #print(order)\n",
    "            in_position = True\n",
    "        else:\n",
    "            print(\"already in position, nothing to do\")\n",
    "    \n",
    "    if df['in_uptrend'][previous_row_index] and not df['in_uptrend'][last_row_index]:\n",
    "        if in_position:\n",
    "            print(\"changed to downtrend, sell\")\n",
    "            p=df[last_row_index][\"close\"]\n",
    "            balance.append(balance+p)\n",
    "            #order = exchange.create_market_sell_order('ETH/USD', 0.05)\n",
    "            #print(order)\n",
    "            in_position = False\n",
    "        else:\n",
    "            print(\"You aren't in position, nothing to sell\")\n",
    "\n",
    "def run_bot():\n",
    "    print(f\"Fetching new bars for {datetime.now().isoformat()}\")\n",
    "    bars = exchange.fetch_ohlcv('ETH/USDT', timeframe='1m', limit=100)\n",
    "    df = pd.DataFrame(bars[:-1], columns=['timestamp', 'open', 'high', 'low', 'close', 'volume'])\n",
    "    df['timestamp'] = pd.to_datetime(df['timestamp'], unit='ms')\n",
    "    supertrend_data = supertrend(df)\n",
    "    \n",
    "    check_buy_sell_signals(supertrend_data)\n",
    "\n",
    "\n",
    "schedule.every(10).seconds.do(run_bot)\n",
    "\n",
    "\n",
    "while True:\n",
    "    schedule.run_pending()\n",
    "    time.sleep(1)"
   ]
  },
  {
   "cell_type": "code",
   "execution_count": 6,
   "id": "7d9af86c",
   "metadata": {},
   "outputs": [
    {
     "data": {
      "text/plain": [
       "[100]"
      ]
     },
     "execution_count": 6,
     "metadata": {},
     "output_type": "execute_result"
    }
   ],
   "source": [
    "import pandas as pd\n",
    "import sqlalchemy\n",
    "from binance.client import Client\n",
    "from binance import BinanceSocketManager"
   ]
  },
  {
   "cell_type": "code",
   "execution_count": 1,
   "id": "121e335e",
   "metadata": {},
   "outputs": [],
   "source": [
    "import ccxt\n",
    "import pandas as pd\n",
    "import numpy as np"
   ]
  },
  {
   "cell_type": "code",
   "execution_count": 2,
   "id": "d69c8637",
   "metadata": {},
   "outputs": [
    {
     "name": "stdout",
     "output_type": "stream",
     "text": [
      "['ace', 'alpaca', 'ascendex', 'bequant', 'bigone', 'binance', 'binancecoinm', 'binanceus', 'binanceusdm', 'bit2c', 'bitbank', 'bitbay', 'bitbns', 'bitcoincom', 'bitfinex', 'bitfinex2', 'bitflyer', 'bitforex', 'bitget', 'bithumb', 'bitmart', 'bitmex', 'bitopro', 'bitpanda', 'bitrue', 'bitso', 'bitstamp', 'bitstamp1', 'bittrex', 'bitvavo', 'bkex', 'bl3p', 'blockchaincom', 'btcalpha', 'btcbox', 'btcex', 'btcmarkets', 'btctradeua', 'btcturk', 'buda', 'bybit', 'cex', 'coinbase', 'coinbaseprime', 'coinbasepro', 'coincheck', 'coinex', 'coinfalcon', 'coinmate', 'coinone', 'coinspot', 'cryptocom', 'currencycom', 'delta', 'deribit', 'digifinex', 'exmo', 'flowbtc', 'fmfwio', 'gate', 'gateio', 'gemini', 'hitbtc', 'hitbtc3', 'hollaex', 'huobi', 'huobijp', 'huobipro', 'idex', 'independentreserve', 'indodax', 'itbit', 'kraken', 'krakenfutures', 'kucoin', 'kucoinfutures', 'kuna', 'latoken', 'lbank', 'lbank2', 'luno', 'lykke', 'mercado', 'mexc', 'mexc3', 'ndax', 'novadax', 'oceanex', 'okcoin', 'okex', 'okex5', 'okx', 'paymium', 'phemex', 'poloniex', 'poloniexfutures', 'probit', 'ripio', 'stex', 'tidex', 'timex', 'tokocrypto', 'upbit', 'wavesexchange', 'wazirx', 'whitebit', 'woo', 'yobit', 'zaif', 'zb', 'zonda']\n"
     ]
    }
   ],
   "source": [
    "print(ccxt.exchanges) # print a list of all available exchange classes"
   ]
  },
  {
   "cell_type": "code",
   "execution_count": 29,
   "id": "58796277",
   "metadata": {},
   "outputs": [],
   "source": [
    "binance = ccxt.binance()"
   ]
  },
  {
   "cell_type": "code",
   "execution_count": 34,
   "id": "3ee1e91d",
   "metadata": {},
   "outputs": [
    {
     "data": {
      "text/plain": [
       "0    2.0\n",
       "1    3.0\n",
       "2    4.0\n",
       "3    NaN\n",
       "Name: a, dtype: float64"
      ]
     },
     "execution_count": 34,
     "metadata": {},
     "output_type": "execute_result"
    }
   ],
   "source": [
    "a=pd.DataFrame({\"a\":[1,2,3,4]})\n",
    "a[\"a\"].shift(-1)"
   ]
  },
  {
   "cell_type": "code",
   "execution_count": 32,
   "id": "ca7e8470",
   "metadata": {},
   "outputs": [
    {
     "data": {
      "text/plain": [
       "<coroutine object binance.fetch_currencies at 0x7fe7ebc72540>"
      ]
     },
     "execution_count": 32,
     "metadata": {},
     "output_type": "execute_result"
    }
   ],
   "source": [
    "binance.fetchCurrencies(\"ETH\")"
   ]
  },
  {
   "cell_type": "code",
   "execution_count": 4,
   "id": "323382b1",
   "metadata": {},
   "outputs": [
    {
     "data": {
      "text/plain": [
       "ccxt.binance()"
      ]
     },
     "execution_count": 4,
     "metadata": {},
     "output_type": "execute_result"
    }
   ],
   "source": [
    "binance"
   ]
  },
  {
   "cell_type": "code",
   "execution_count": 5,
   "id": "d56c0edf",
   "metadata": {},
   "outputs": [],
   "source": [
    "btc_ticker = binance.fetch_ticker('BTC/USDT')"
   ]
  },
  {
   "cell_type": "code",
   "execution_count": 6,
   "id": "499c128f",
   "metadata": {},
   "outputs": [
    {
     "data": {
      "text/plain": [
       "{'symbol': 'BTC/USDT',\n",
       " 'timestamp': 1678623600598,\n",
       " 'datetime': '2023-03-12T12:20:00.598Z',\n",
       " 'high': 20529.91,\n",
       " 'low': 19992.24,\n",
       " 'bid': 20383.83,\n",
       " 'bidVolume': 0.07,\n",
       " 'ask': 20385.21,\n",
       " 'askVolume': 0.00197,\n",
       " 'vwap': 20294.01866749,\n",
       " 'open': 20046.21,\n",
       " 'close': 20385.2,\n",
       " 'last': 20385.2,\n",
       " 'previousClose': 20046.2,\n",
       " 'change': 338.99,\n",
       " 'percentage': 1.691,\n",
       " 'average': 20215.705,\n",
       " 'baseVolume': 301852.23318,\n",
       " 'quoteVolume': 6125794854.979467,\n",
       " 'info': {'symbol': 'BTCUSDT',\n",
       "  'priceChange': '338.99000000',\n",
       "  'priceChangePercent': '1.691',\n",
       "  'weightedAvgPrice': '20294.01866749',\n",
       "  'prevClosePrice': '20046.20000000',\n",
       "  'lastPrice': '20385.20000000',\n",
       "  'lastQty': '0.04759000',\n",
       "  'bidPrice': '20383.83000000',\n",
       "  'bidQty': '0.07000000',\n",
       "  'askPrice': '20385.21000000',\n",
       "  'askQty': '0.00197000',\n",
       "  'openPrice': '20046.21000000',\n",
       "  'highPrice': '20529.91000000',\n",
       "  'lowPrice': '19992.24000000',\n",
       "  'volume': '301852.23318000',\n",
       "  'quoteVolume': '6125794854.97946780',\n",
       "  'openTime': '1678537200598',\n",
       "  'closeTime': '1678623600598',\n",
       "  'firstId': '2925997671',\n",
       "  'lastId': '2933734594',\n",
       "  'count': '7736924'}}"
      ]
     },
     "execution_count": 6,
     "metadata": {},
     "output_type": "execute_result"
    }
   ],
   "source": [
    "btc_ticker"
   ]
  },
  {
   "cell_type": "code",
   "execution_count": 28,
   "id": "7db1f7e5",
   "metadata": {},
   "outputs": [
    {
     "ename": "TypeError",
     "evalue": "fetch_ticker() missing 1 required positional argument: 'symbol'",
     "output_type": "error",
     "traceback": [
      "\u001b[0;31m---------------------------------------------------------------------------\u001b[0m",
      "\u001b[0;31mTypeError\u001b[0m                                 Traceback (most recent call last)",
      "\u001b[0;32m/var/folders/7n/bl1bmjc529z84jd3bmqcjvdm0000gn/T/ipykernel_1479/2160784055.py\u001b[0m in \u001b[0;36m<cell line: 3>\u001b[0;34m()\u001b[0m\n\u001b[1;32m      1\u001b[0m \u001b[0;32mimport\u001b[0m \u001b[0mpandas\u001b[0m \u001b[0;32mas\u001b[0m \u001b[0mpd\u001b[0m\u001b[0;34m\u001b[0m\u001b[0;34m\u001b[0m\u001b[0m\n\u001b[1;32m      2\u001b[0m \u001b[0;32mimport\u001b[0m \u001b[0mnumpy\u001b[0m \u001b[0;32mas\u001b[0m \u001b[0mnp\u001b[0m\u001b[0;34m\u001b[0m\u001b[0;34m\u001b[0m\u001b[0m\n\u001b[0;32m----> 3\u001b[0;31m \u001b[0mall_pairs\u001b[0m\u001b[0;34m=\u001b[0m\u001b[0mpd\u001b[0m\u001b[0;34m.\u001b[0m\u001b[0mDataFrame\u001b[0m\u001b[0;34m(\u001b[0m\u001b[0mccxt\u001b[0m\u001b[0;34m.\u001b[0m\u001b[0mbinance\u001b[0m\u001b[0;34m(\u001b[0m\u001b[0;34m)\u001b[0m\u001b[0;34m.\u001b[0m\u001b[0mfetch_ticker\u001b[0m\u001b[0;34m(\u001b[0m\u001b[0;34m)\u001b[0m\u001b[0;34m)\u001b[0m\u001b[0;34m\u001b[0m\u001b[0;34m\u001b[0m\u001b[0m\n\u001b[0m",
      "\u001b[0;31mTypeError\u001b[0m: fetch_ticker() missing 1 required positional argument: 'symbol'"
     ]
    }
   ],
   "source": [
    "import pandas as pd\n",
    "import numpy as np\n",
    "all_pairs=pd.DataFrame(ccxt.binance().fetch_ticker())"
   ]
  },
  {
   "cell_type": "code",
   "execution_count": 25,
   "id": "89d85b9b",
   "metadata": {},
   "outputs": [
    {
     "name": "stdout",
     "output_type": "stream",
     "text": [
      "{'symbol': 'BTC/USD:BTC', 'timestamp': 1678642157205, 'datetime': '2023-03-12T17:29:17.205Z', 'high': 20922.2, 'low': 20271.7, 'bid': None, 'bidVolume': None, 'ask': None, 'askVolume': None, 'vwap': 20533.07909924, 'open': 20277.5, 'close': 20801.1, 'last': 20801.1, 'previousClose': None, 'change': 523.6, 'percentage': 2.582, 'average': 20539.3, 'baseVolume': 57000.29666001, 'quoteVolume': 11703916.0, 'info': {'symbol': 'BTCUSD_PERP', 'pair': 'BTCUSD', 'priceChange': '523.6', 'priceChangePercent': '2.582', 'weightedAvgPrice': '20533.07909924', 'lastPrice': '20801.1', 'lastQty': '1', 'openPrice': '20277.5', 'highPrice': '20922.2', 'lowPrice': '20271.7', 'volume': '11703916', 'baseVolume': '57000.29666001', 'openTime': '1678555740000', 'closeTime': '1678642157205', 'firstId': '597703551', 'lastId': '598010472', 'count': '306922'}}\n",
      "{'symbol': 'BTC/USD:BTC', 'timestamp': 1678642157205, 'datetime': '2023-03-12T17:29:17.205Z', 'high': 20922.2, 'low': 20271.7, 'bid': None, 'bidVolume': None, 'ask': None, 'askVolume': None, 'vwap': 20533.07909924, 'open': 20277.5, 'close': 20801.1, 'last': 20801.1, 'previousClose': None, 'change': 523.6, 'percentage': 2.582, 'average': 20539.3, 'baseVolume': 57000.29666001, 'quoteVolume': 11703916.0, 'info': {'symbol': 'BTCUSD_PERP', 'pair': 'BTCUSD', 'priceChange': '523.6', 'priceChangePercent': '2.582', 'weightedAvgPrice': '20533.07909924', 'lastPrice': '20801.1', 'lastQty': '1', 'openPrice': '20277.5', 'highPrice': '20922.2', 'lowPrice': '20271.7', 'volume': '11703916', 'baseVolume': '57000.29666001', 'openTime': '1678555740000', 'closeTime': '1678642157205', 'firstId': '597703551', 'lastId': '598010472', 'count': '306922'}}\n",
      "{'symbol': 'BTC/USD:BTC', 'timestamp': 1678642158189, 'datetime': '2023-03-12T17:29:18.189Z', 'high': 20922.2, 'low': 20271.7, 'bid': None, 'bidVolume': None, 'ask': None, 'askVolume': None, 'vwap': 20533.09084936, 'open': 20277.5, 'close': 20801.0, 'last': 20801.0, 'previousClose': None, 'change': 523.5, 'percentage': 2.582, 'average': 20539.25, 'baseVolume': 57002.79653885, 'quoteVolume': 11704436.0, 'info': {'symbol': 'BTCUSD_PERP', 'pair': 'BTCUSD', 'priceChange': '523.5', 'priceChangePercent': '2.582', 'weightedAvgPrice': '20533.09084936', 'lastPrice': '20801.0', 'lastQty': '3', 'openPrice': '20277.5', 'highPrice': '20922.2', 'lowPrice': '20271.7', 'volume': '11704436', 'baseVolume': '57002.79653885', 'openTime': '1678555740000', 'closeTime': '1678642158189', 'firstId': '597703551', 'lastId': '598010491', 'count': '306941'}}\n",
      "{'symbol': 'BTC/USD:BTC', 'timestamp': 1678642159295, 'datetime': '2023-03-12T17:29:19.295Z', 'high': 20922.2, 'low': 20271.7, 'bid': None, 'bidVolume': None, 'ask': None, 'askVolume': None, 'vwap': 20533.10750678, 'open': 20277.5, 'close': 20801.1, 'last': 20801.1, 'previousClose': None, 'change': 523.6, 'percentage': 2.582, 'average': 20539.3, 'baseVolume': 57006.33962071, 'quoteVolume': 11705173.0, 'info': {'symbol': 'BTCUSD_PERP', 'pair': 'BTCUSD', 'priceChange': '523.6', 'priceChangePercent': '2.582', 'weightedAvgPrice': '20533.10750678', 'lastPrice': '20801.1', 'lastQty': '27', 'openPrice': '20277.5', 'highPrice': '20922.2', 'lowPrice': '20271.7', 'volume': '11705173', 'baseVolume': '57006.33962071', 'openTime': '1678555740000', 'closeTime': '1678642159295', 'firstId': '597703551', 'lastId': '598010504', 'count': '306954'}}\n",
      "{'symbol': 'BTC/USD:BTC', 'timestamp': 1678642160431, 'datetime': '2023-03-12T17:29:20.431Z', 'high': 20922.2, 'low': 20271.7, 'bid': None, 'bidVolume': None, 'ask': None, 'askVolume': None, 'vwap': 20533.19062444, 'open': 20277.5, 'close': 20808.5, 'last': 20808.5, 'previousClose': None, 'change': 531.0, 'percentage': 2.619, 'average': 20543.0, 'baseVolume': 57023.9434005, 'quoteVolume': 11708835.0, 'info': {'symbol': 'BTCUSD_PERP', 'pair': 'BTCUSD', 'priceChange': '531.0', 'priceChangePercent': '2.619', 'weightedAvgPrice': '20533.19062444', 'lastPrice': '20808.5', 'lastQty': '5', 'openPrice': '20277.5', 'highPrice': '20922.2', 'lowPrice': '20271.7', 'volume': '11708835', 'baseVolume': '57023.94340050', 'openTime': '1678555740000', 'closeTime': '1678642160431', 'firstId': '597703551', 'lastId': '598010559', 'count': '307009'}}\n",
      "{'symbol': 'BTC/USD:BTC', 'timestamp': 1678642161094, 'datetime': '2023-03-12T17:29:21.094Z', 'high': 20922.2, 'low': 20271.7, 'bid': None, 'bidVolume': None, 'ask': None, 'askVolume': None, 'vwap': 20533.33495859, 'open': 20277.5, 'close': 20811.0, 'last': 20811.0, 'previousClose': None, 'change': 533.5, 'percentage': 2.631, 'average': 20544.25, 'baseVolume': 57054.29256196, 'quoteVolume': 11715149.0, 'info': {'symbol': 'BTCUSD_PERP', 'pair': 'BTCUSD', 'priceChange': '533.5', 'priceChangePercent': '2.631', 'weightedAvgPrice': '20533.33495859', 'lastPrice': '20811.0', 'lastQty': '5', 'openPrice': '20277.5', 'highPrice': '20922.2', 'lowPrice': '20271.7', 'volume': '11715149', 'baseVolume': '57054.29256196', 'openTime': '1678555740000', 'closeTime': '1678642161094', 'firstId': '597703551', 'lastId': '598010665', 'count': '307115'}}\n",
      "{'symbol': 'BTC/USD:BTC', 'timestamp': 1678642162346, 'datetime': '2023-03-12T17:29:22.346Z', 'high': 20922.2, 'low': 20271.7, 'bid': None, 'bidVolume': None, 'ask': None, 'askVolume': None, 'vwap': 20533.34384607, 'open': 20277.5, 'close': 20814.2, 'last': 20814.2, 'previousClose': None, 'change': 536.7, 'percentage': 2.647, 'average': 20545.85, 'baseVolume': 57056.10877521, 'quoteVolume': 11715527.0, 'info': {'symbol': 'BTCUSD_PERP', 'pair': 'BTCUSD', 'priceChange': '536.7', 'priceChangePercent': '2.647', 'weightedAvgPrice': '20533.34384607', 'lastPrice': '20814.2', 'lastQty': '148', 'openPrice': '20277.5', 'highPrice': '20922.2', 'lowPrice': '20271.7', 'volume': '11715527', 'baseVolume': '57056.10877521', 'openTime': '1678555740000', 'closeTime': '1678642162346', 'firstId': '597703551', 'lastId': '598010694', 'count': '307144'}}\n",
      "{'symbol': 'BTC/USD:BTC', 'timestamp': 1678642162346, 'datetime': '2023-03-12T17:29:22.346Z', 'high': 20922.2, 'low': 20271.7, 'bid': None, 'bidVolume': None, 'ask': None, 'askVolume': None, 'vwap': 20533.34384607, 'open': 20277.5, 'close': 20814.2, 'last': 20814.2, 'previousClose': None, 'change': 536.7, 'percentage': 2.647, 'average': 20545.85, 'baseVolume': 57056.10877521, 'quoteVolume': 11715527.0, 'info': {'symbol': 'BTCUSD_PERP', 'pair': 'BTCUSD', 'priceChange': '536.7', 'priceChangePercent': '2.647', 'weightedAvgPrice': '20533.34384607', 'lastPrice': '20814.2', 'lastQty': '148', 'openPrice': '20277.5', 'highPrice': '20922.2', 'lowPrice': '20271.7', 'volume': '11715527', 'baseVolume': '57056.10877521', 'openTime': '1678555740000', 'closeTime': '1678642162346', 'firstId': '597703551', 'lastId': '598010694', 'count': '307144'}}\n",
      "{'symbol': 'BTC/USD:BTC', 'timestamp': 1678642164290, 'datetime': '2023-03-12T17:29:24.290Z', 'high': 20922.2, 'low': 20271.7, 'bid': None, 'bidVolume': None, 'ask': None, 'askVolume': None, 'vwap': 20533.35401591, 'open': 20277.5, 'close': 20815.7, 'last': 20815.7, 'previousClose': None, 'change': 538.2, 'percentage': 2.654, 'average': 20546.6, 'baseVolume': 57058.16492972, 'quoteVolume': 11715955.0, 'info': {'symbol': 'BTCUSD_PERP', 'pair': 'BTCUSD', 'priceChange': '538.2', 'priceChangePercent': '2.654', 'weightedAvgPrice': '20533.35401591', 'lastPrice': '20815.7', 'lastQty': '2', 'openPrice': '20277.5', 'highPrice': '20922.2', 'lowPrice': '20271.7', 'volume': '11715955', 'baseVolume': '57058.16492972', 'openTime': '1678555740000', 'closeTime': '1678642164290', 'firstId': '597703551', 'lastId': '598010704', 'count': '307154'}}\n",
      "{'symbol': 'BTC/USD:BTC', 'timestamp': 1678642165564, 'datetime': '2023-03-12T17:29:25.564Z', 'high': 20922.2, 'low': 20271.7, 'bid': None, 'bidVolume': None, 'ask': None, 'askVolume': None, 'vwap': 20533.49091949, 'open': 20277.5, 'close': 20810.7, 'last': 20810.7, 'previousClose': None, 'change': 533.2, 'percentage': 2.63, 'average': 20544.1, 'baseVolume': 57085.88980783, 'quoteVolume': 11721726.0, 'info': {'symbol': 'BTCUSD_PERP', 'pair': 'BTCUSD', 'priceChange': '533.2', 'priceChangePercent': '2.630', 'weightedAvgPrice': '20533.49091949', 'lastPrice': '20810.7', 'lastQty': '144', 'openPrice': '20277.5', 'highPrice': '20922.2', 'lowPrice': '20271.7', 'volume': '11721726', 'baseVolume': '57085.88980783', 'openTime': '1678555740000', 'closeTime': '1678642165564', 'firstId': '597703551', 'lastId': '598010774', 'count': '307224'}}\n"
     ]
    },
    {
     "name": "stdout",
     "output_type": "stream",
     "text": [
      "{'symbol': 'BTC/USD:BTC', 'timestamp': 1678642165564, 'datetime': '2023-03-12T17:29:25.564Z', 'high': 20922.2, 'low': 20271.7, 'bid': None, 'bidVolume': None, 'ask': None, 'askVolume': None, 'vwap': 20533.49091949, 'open': 20277.5, 'close': 20810.7, 'last': 20810.7, 'previousClose': None, 'change': 533.2, 'percentage': 2.63, 'average': 20544.1, 'baseVolume': 57085.88980783, 'quoteVolume': 11721726.0, 'info': {'symbol': 'BTCUSD_PERP', 'pair': 'BTCUSD', 'priceChange': '533.2', 'priceChangePercent': '2.630', 'weightedAvgPrice': '20533.49091949', 'lastPrice': '20810.7', 'lastQty': '144', 'openPrice': '20277.5', 'highPrice': '20922.2', 'lowPrice': '20271.7', 'volume': '11721726', 'baseVolume': '57085.88980783', 'openTime': '1678555740000', 'closeTime': '1678642165564', 'firstId': '597703551', 'lastId': '598010774', 'count': '307224'}}\n",
      "{'symbol': 'BTC/USD:BTC', 'timestamp': 1678642166599, 'datetime': '2023-03-12T17:29:26.599Z', 'high': 20922.2, 'low': 20271.7, 'bid': None, 'bidVolume': None, 'ask': None, 'askVolume': None, 'vwap': 20533.49688859, 'open': 20277.5, 'close': 20802.5, 'last': 20802.5, 'previousClose': None, 'change': 525.0, 'percentage': 2.589, 'average': 20540.0, 'baseVolume': 57087.1345665, 'quoteVolume': 11721985.0, 'info': {'symbol': 'BTCUSD_PERP', 'pair': 'BTCUSD', 'priceChange': '525.0', 'priceChangePercent': '2.589', 'weightedAvgPrice': '20533.49688859', 'lastPrice': '20802.5', 'lastQty': '6', 'openPrice': '20277.5', 'highPrice': '20922.2', 'lowPrice': '20271.7', 'volume': '11721985', 'baseVolume': '57087.13456650', 'openTime': '1678555740000', 'closeTime': '1678642166599', 'firstId': '597703551', 'lastId': '598010807', 'count': '307257'}}\n",
      "{'symbol': 'BTC/USD:BTC', 'timestamp': 1678642167387, 'datetime': '2023-03-12T17:29:27.387Z', 'high': 20922.2, 'low': 20271.7, 'bid': None, 'bidVolume': None, 'ask': None, 'askVolume': None, 'vwap': 20533.49711511, 'open': 20277.5, 'close': 20802.5, 'last': 20802.5, 'previousClose': None, 'change': 525.0, 'percentage': 2.589, 'average': 20540.0, 'baseVolume': 57087.18263765, 'quoteVolume': 11721995.0, 'info': {'symbol': 'BTCUSD_PERP', 'pair': 'BTCUSD', 'priceChange': '525.0', 'priceChangePercent': '2.589', 'weightedAvgPrice': '20533.49711511', 'lastPrice': '20802.5', 'lastQty': '6', 'openPrice': '20277.5', 'highPrice': '20922.2', 'lowPrice': '20271.7', 'volume': '11721995', 'baseVolume': '57087.18263765', 'openTime': '1678555740000', 'closeTime': '1678642167387', 'firstId': '597703551', 'lastId': '598010809', 'count': '307259'}}\n",
      "{'symbol': 'BTC/USD:BTC', 'timestamp': 1678642168341, 'datetime': '2023-03-12T17:29:28.341Z', 'high': 20922.2, 'low': 20271.7, 'bid': None, 'bidVolume': None, 'ask': None, 'askVolume': None, 'vwap': 20533.49752284, 'open': 20277.5, 'close': 20802.5, 'last': 20802.5, 'previousClose': None, 'change': 525.0, 'percentage': 2.589, 'average': 20540.0, 'baseVolume': 57087.26916571, 'quoteVolume': 11722013.0, 'info': {'symbol': 'BTCUSD_PERP', 'pair': 'BTCUSD', 'priceChange': '525.0', 'priceChangePercent': '2.589', 'weightedAvgPrice': '20533.49752284', 'lastPrice': '20802.5', 'lastQty': '2', 'openPrice': '20277.5', 'highPrice': '20922.2', 'lowPrice': '20271.7', 'volume': '11722013', 'baseVolume': '57087.26916571', 'openTime': '1678555740000', 'closeTime': '1678642168341', 'firstId': '597703551', 'lastId': '598010812', 'count': '307262'}}\n",
      "{'symbol': 'BTC/USD:BTC', 'timestamp': 1678642169646, 'datetime': '2023-03-12T17:29:29.646Z', 'high': 20922.2, 'low': 20271.7, 'bid': None, 'bidVolume': None, 'ask': None, 'askVolume': None, 'vwap': 20533.49937962, 'open': 20277.5, 'close': 20802.5, 'last': 20802.5, 'previousClose': None, 'change': 525.0, 'percentage': 2.589, 'average': 20540.0, 'baseVolume': 57087.6633509, 'quoteVolume': 11722095.0, 'info': {'symbol': 'BTCUSD_PERP', 'pair': 'BTCUSD', 'priceChange': '525.0', 'priceChangePercent': '2.589', 'weightedAvgPrice': '20533.49937962', 'lastPrice': '20802.5', 'lastQty': '1', 'openPrice': '20277.5', 'highPrice': '20922.2', 'lowPrice': '20271.7', 'volume': '11722095', 'baseVolume': '57087.66335090', 'openTime': '1678555740000', 'closeTime': '1678642169646', 'firstId': '597703551', 'lastId': '598010823', 'count': '307273'}}\n",
      "{'symbol': 'BTC/USD:BTC', 'timestamp': 1678642170663, 'datetime': '2023-03-12T17:29:30.663Z', 'high': 20922.2, 'low': 20271.7, 'bid': None, 'bidVolume': None, 'ask': None, 'askVolume': None, 'vwap': 20533.51323504, 'open': 20277.5, 'close': 20800.7, 'last': 20800.7, 'previousClose': None, 'change': 523.2, 'percentage': 2.58, 'average': 20539.1, 'baseVolume': 57090.60532318, 'quoteVolume': 11722707.0, 'info': {'symbol': 'BTCUSD_PERP', 'pair': 'BTCUSD', 'priceChange': '523.2', 'priceChangePercent': '2.580', 'weightedAvgPrice': '20533.51323504', 'lastPrice': '20800.7', 'lastQty': '1', 'openPrice': '20277.5', 'highPrice': '20922.2', 'lowPrice': '20271.7', 'volume': '11722707', 'baseVolume': '57090.60532318', 'openTime': '1678555740000', 'closeTime': '1678642170663', 'firstId': '597703551', 'lastId': '598010841', 'count': '307291'}}\n",
      "{'symbol': 'BTC/USD:BTC', 'timestamp': 1678642171718, 'datetime': '2023-03-12T17:29:31.718Z', 'high': 20922.2, 'low': 20271.7, 'bid': None, 'bidVolume': None, 'ask': None, 'askVolume': None, 'vwap': 20533.52060759, 'open': 20277.5, 'close': 20796.6, 'last': 20796.6, 'previousClose': None, 'change': 519.1, 'percentage': 2.56, 'average': 20537.05, 'baseVolume': 57092.19195303, 'quoteVolume': 11723037.0, 'info': {'symbol': 'BTCUSD_PERP', 'pair': 'BTCUSD', 'priceChange': '519.1', 'priceChangePercent': '2.560', 'weightedAvgPrice': '20533.52060759', 'lastPrice': '20796.6', 'lastQty': '7', 'openPrice': '20277.5', 'highPrice': '20922.2', 'lowPrice': '20271.7', 'volume': '11723037', 'baseVolume': '57092.19195303', 'openTime': '1678555740000', 'closeTime': '1678642171718', 'firstId': '597703551', 'lastId': '598010867', 'count': '307317'}}\n",
      "{'symbol': 'BTC/USD:BTC', 'timestamp': 1678642172746, 'datetime': '2023-03-12T17:29:32.746Z', 'high': 20922.2, 'low': 20271.7, 'bid': None, 'bidVolume': None, 'ask': None, 'askVolume': None, 'vwap': 20533.5252824, 'open': 20277.5, 'close': 20792.7, 'last': 20792.7, 'previousClose': None, 'change': 515.2, 'percentage': 2.541, 'average': 20535.1, 'baseVolume': 57093.21141288, 'quoteVolume': 11723249.0, 'info': {'symbol': 'BTCUSD_PERP', 'pair': 'BTCUSD', 'priceChange': '515.2', 'priceChangePercent': '2.541', 'weightedAvgPrice': '20533.52528240', 'lastPrice': '20792.7', 'lastQty': '21', 'openPrice': '20277.5', 'highPrice': '20922.2', 'lowPrice': '20271.7', 'volume': '11723249', 'baseVolume': '57093.21141288', 'openTime': '1678555740000', 'closeTime': '1678642172746', 'firstId': '597703551', 'lastId': '598010881', 'count': '307331'}}\n",
      "{'symbol': 'BTC/USD:BTC', 'timestamp': 1678642173563, 'datetime': '2023-03-12T17:29:33.563Z', 'high': 20922.2, 'low': 20271.7, 'bid': None, 'bidVolume': None, 'ask': None, 'askVolume': None, 'vwap': 20533.56110546, 'open': 20277.5, 'close': 20783.5, 'last': 20783.5, 'previousClose': None, 'change': 506.0, 'percentage': 2.495, 'average': 20530.5, 'baseVolume': 57101.22048379, 'quoteVolume': 11724914.0, 'info': {'symbol': 'BTCUSD_PERP', 'pair': 'BTCUSD', 'priceChange': '506.0', 'priceChangePercent': '2.495', 'weightedAvgPrice': '20533.56110546', 'lastPrice': '20783.5', 'lastQty': '2', 'openPrice': '20277.5', 'highPrice': '20922.2', 'lowPrice': '20271.7', 'volume': '11724914', 'baseVolume': '57101.22048379', 'openTime': '1678555740000', 'closeTime': '1678642173563', 'firstId': '597703551', 'lastId': '598010926', 'count': '307376'}}\n",
      "{'symbol': 'BTC/USD:BTC', 'timestamp': 1678642174564, 'datetime': '2023-03-12T17:29:34.564Z', 'high': 20922.2, 'low': 20271.7, 'bid': None, 'bidVolume': None, 'ask': None, 'askVolume': None, 'vwap': 20533.56557592, 'open': 20277.5, 'close': 20778.6, 'last': 20778.6, 'previousClose': None, 'change': 501.1, 'percentage': 2.471, 'average': 20528.05, 'baseVolume': 57102.25024799, 'quoteVolume': 11725128.0, 'info': {'symbol': 'BTCUSD_PERP', 'pair': 'BTCUSD', 'priceChange': '501.1', 'priceChangePercent': '2.471', 'weightedAvgPrice': '20533.56557592', 'lastPrice': '20778.6', 'lastQty': '1', 'openPrice': '20277.5', 'highPrice': '20922.2', 'lowPrice': '20271.7', 'volume': '11725128', 'baseVolume': '57102.25024799', 'openTime': '1678555740000', 'closeTime': '1678642174564', 'firstId': '597703551', 'lastId': '598010947', 'count': '307397'}}\n"
     ]
    },
    {
     "name": "stdout",
     "output_type": "stream",
     "text": [
      "{'symbol': 'BTC/USD:BTC', 'timestamp': 1678642175389, 'datetime': '2023-03-12T17:29:35.389Z', 'high': 20922.2, 'low': 20271.7, 'bid': None, 'bidVolume': None, 'ask': None, 'askVolume': None, 'vwap': 20533.56813679, 'open': 20277.5, 'close': 20774.8, 'last': 20774.8, 'previousClose': None, 'change': 497.3, 'percentage': 2.452, 'average': 20526.15, 'baseVolume': 57102.85188571, 'quoteVolume': 11725253.0, 'info': {'symbol': 'BTCUSD_PERP', 'pair': 'BTCUSD', 'priceChange': '497.3', 'priceChangePercent': '2.452', 'weightedAvgPrice': '20533.56813679', 'lastPrice': '20774.8', 'lastQty': '8', 'openPrice': '20277.5', 'highPrice': '20922.2', 'lowPrice': '20271.7', 'volume': '11725253', 'baseVolume': '57102.85188571', 'openTime': '1678555740000', 'closeTime': '1678642175389', 'firstId': '597703551', 'lastId': '598010961', 'count': '307411'}}\n",
      "{'symbol': 'BTC/USD:BTC', 'timestamp': 1678642176835, 'datetime': '2023-03-12T17:29:36.835Z', 'high': 20922.2, 'low': 20271.7, 'bid': None, 'bidVolume': None, 'ask': None, 'askVolume': None, 'vwap': 20533.79654246, 'open': 20277.5, 'close': 20760.4, 'last': 20760.4, 'previousClose': None, 'change': 482.9, 'percentage': 2.381, 'average': 20518.95, 'baseVolume': 57159.90209472, 'quoteVolume': 11737098.0, 'info': {'symbol': 'BTCUSD_PERP', 'pair': 'BTCUSD', 'priceChange': '482.9', 'priceChangePercent': '2.381', 'weightedAvgPrice': '20533.79654246', 'lastPrice': '20760.4', 'lastQty': '38', 'openPrice': '20277.5', 'highPrice': '20922.2', 'lowPrice': '20271.7', 'volume': '11737098', 'baseVolume': '57159.90209472', 'openTime': '1678555740000', 'closeTime': '1678642176835', 'firstId': '597703551', 'lastId': '598011177', 'count': '307627'}}\n"
     ]
    },
    {
     "ename": "CancelledError",
     "evalue": "",
     "output_type": "error",
     "traceback": [
      "\u001b[0;31m---------------------------------------------------------------------------\u001b[0m",
      "\u001b[0;31mCancelledError\u001b[0m                            Traceback (most recent call last)",
      "\u001b[0;32m/var/folders/7n/bl1bmjc529z84jd3bmqcjvdm0000gn/T/ipykernel_1479/2539110077.py\u001b[0m in \u001b[0;36m<cell line: 13>\u001b[0;34m()\u001b[0m\n\u001b[1;32m     11\u001b[0m         \u001b[0mprint\u001b[0m\u001b[0;34m(\u001b[0m\u001b[0mticker\u001b[0m\u001b[0;34m)\u001b[0m\u001b[0;34m\u001b[0m\u001b[0;34m\u001b[0m\u001b[0m\n\u001b[1;32m     12\u001b[0m \u001b[0;34m\u001b[0m\u001b[0m\n\u001b[0;32m---> 13\u001b[0;31m \u001b[0;32mawait\u001b[0m \u001b[0mmain\u001b[0m\u001b[0;34m(\u001b[0m\u001b[0;34m)\u001b[0m\u001b[0;34m\u001b[0m\u001b[0;34m\u001b[0m\u001b[0m\n\u001b[0m",
      "\u001b[0;32m/var/folders/7n/bl1bmjc529z84jd3bmqcjvdm0000gn/T/ipykernel_1479/2539110077.py\u001b[0m in \u001b[0;36mmain\u001b[0;34m()\u001b[0m\n\u001b[1;32m      8\u001b[0m \u001b[0;34m\u001b[0m\u001b[0m\n\u001b[1;32m      9\u001b[0m \u001b[0;32masync\u001b[0m \u001b[0;32mdef\u001b[0m \u001b[0mmain\u001b[0m\u001b[0;34m(\u001b[0m\u001b[0;34m)\u001b[0m\u001b[0;34m:\u001b[0m\u001b[0;34m\u001b[0m\u001b[0;34m\u001b[0m\u001b[0m\n\u001b[0;32m---> 10\u001b[0;31m     \u001b[0;32masync\u001b[0m \u001b[0;32mfor\u001b[0m \u001b[0mticker\u001b[0m \u001b[0;32min\u001b[0m \u001b[0mpoll\u001b[0m\u001b[0;34m(\u001b[0m\u001b[0;34m)\u001b[0m\u001b[0;34m:\u001b[0m\u001b[0;34m\u001b[0m\u001b[0;34m\u001b[0m\u001b[0m\n\u001b[0m\u001b[1;32m     11\u001b[0m         \u001b[0mprint\u001b[0m\u001b[0;34m(\u001b[0m\u001b[0mticker\u001b[0m\u001b[0;34m)\u001b[0m\u001b[0;34m\u001b[0m\u001b[0;34m\u001b[0m\u001b[0m\n\u001b[1;32m     12\u001b[0m \u001b[0;34m\u001b[0m\u001b[0m\n",
      "\u001b[0;32m/var/folders/7n/bl1bmjc529z84jd3bmqcjvdm0000gn/T/ipykernel_1479/2539110077.py\u001b[0m in \u001b[0;36mpoll\u001b[0;34m()\u001b[0m\n\u001b[1;32m      4\u001b[0m     \u001b[0mbinance\u001b[0m \u001b[0;34m=\u001b[0m \u001b[0mccxt\u001b[0m\u001b[0;34m.\u001b[0m\u001b[0mbinance\u001b[0m\u001b[0;34m(\u001b[0m\u001b[0;34m)\u001b[0m\u001b[0;34m\u001b[0m\u001b[0;34m\u001b[0m\u001b[0m\n\u001b[1;32m      5\u001b[0m     \u001b[0;32mwhile\u001b[0m \u001b[0;32mTrue\u001b[0m\u001b[0;34m:\u001b[0m\u001b[0;34m\u001b[0m\u001b[0;34m\u001b[0m\u001b[0m\n\u001b[0;32m----> 6\u001b[0;31m         \u001b[0;32myield\u001b[0m \u001b[0;32mawait\u001b[0m \u001b[0mbinance\u001b[0m\u001b[0;34m.\u001b[0m\u001b[0mfetch_ticker\u001b[0m\u001b[0;34m(\u001b[0m\u001b[0;34m'BTC/USD'\u001b[0m\u001b[0;34m)\u001b[0m\u001b[0;34m\u001b[0m\u001b[0;34m\u001b[0m\u001b[0m\n\u001b[0m\u001b[1;32m      7\u001b[0m         \u001b[0;32mawait\u001b[0m \u001b[0masyncio\u001b[0m\u001b[0;34m.\u001b[0m\u001b[0msleep\u001b[0m\u001b[0;34m(\u001b[0m\u001b[0mbinance\u001b[0m\u001b[0;34m.\u001b[0m\u001b[0mrateLimit\u001b[0m \u001b[0;34m/\u001b[0m \u001b[0;36m1000\u001b[0m\u001b[0;34m)\u001b[0m\u001b[0;34m\u001b[0m\u001b[0;34m\u001b[0m\u001b[0m\n\u001b[1;32m      8\u001b[0m \u001b[0;34m\u001b[0m\u001b[0m\n",
      "\u001b[0;32m~/opt/anaconda3/lib/python3.9/site-packages/ccxt/async_support/binance.py\u001b[0m in \u001b[0;36mfetch_ticker\u001b[0;34m(self, symbol, params)\u001b[0m\n\u001b[1;32m   2772\u001b[0m         \u001b[0;32melif\u001b[0m \u001b[0mmarket\u001b[0m\u001b[0;34m[\u001b[0m\u001b[0;34m'inverse'\u001b[0m\u001b[0;34m]\u001b[0m\u001b[0;34m:\u001b[0m\u001b[0;34m\u001b[0m\u001b[0;34m\u001b[0m\u001b[0m\n\u001b[1;32m   2773\u001b[0m             \u001b[0mmethod\u001b[0m \u001b[0;34m=\u001b[0m \u001b[0;34m'dapiPublicGetTicker24hr'\u001b[0m\u001b[0;34m\u001b[0m\u001b[0;34m\u001b[0m\u001b[0m\n\u001b[0;32m-> 2774\u001b[0;31m         \u001b[0mresponse\u001b[0m \u001b[0;34m=\u001b[0m \u001b[0;32mawait\u001b[0m \u001b[0mgetattr\u001b[0m\u001b[0;34m(\u001b[0m\u001b[0mself\u001b[0m\u001b[0;34m,\u001b[0m \u001b[0mmethod\u001b[0m\u001b[0;34m)\u001b[0m\u001b[0;34m(\u001b[0m\u001b[0mself\u001b[0m\u001b[0;34m.\u001b[0m\u001b[0mextend\u001b[0m\u001b[0;34m(\u001b[0m\u001b[0mrequest\u001b[0m\u001b[0;34m,\u001b[0m \u001b[0mparams\u001b[0m\u001b[0;34m)\u001b[0m\u001b[0;34m)\u001b[0m\u001b[0;34m\u001b[0m\u001b[0;34m\u001b[0m\u001b[0m\n\u001b[0m\u001b[1;32m   2775\u001b[0m         \u001b[0;32mif\u001b[0m \u001b[0misinstance\u001b[0m\u001b[0;34m(\u001b[0m\u001b[0mresponse\u001b[0m\u001b[0;34m,\u001b[0m \u001b[0mlist\u001b[0m\u001b[0;34m)\u001b[0m\u001b[0;34m:\u001b[0m\u001b[0;34m\u001b[0m\u001b[0;34m\u001b[0m\u001b[0m\n\u001b[1;32m   2776\u001b[0m             \u001b[0mfirstTicker\u001b[0m \u001b[0;34m=\u001b[0m \u001b[0mself\u001b[0m\u001b[0;34m.\u001b[0m\u001b[0msafe_value\u001b[0m\u001b[0;34m(\u001b[0m\u001b[0mresponse\u001b[0m\u001b[0;34m,\u001b[0m \u001b[0;36m0\u001b[0m\u001b[0;34m,\u001b[0m \u001b[0;34m{\u001b[0m\u001b[0;34m}\u001b[0m\u001b[0;34m)\u001b[0m\u001b[0;34m\u001b[0m\u001b[0;34m\u001b[0m\u001b[0m\n",
      "\u001b[0;32m~/opt/anaconda3/lib/python3.9/site-packages/ccxt/async_support/binance.py\u001b[0m in \u001b[0;36mrequest\u001b[0;34m(self, path, api, method, params, headers, body, config, context)\u001b[0m\n\u001b[1;32m   6936\u001b[0m \u001b[0;34m\u001b[0m\u001b[0m\n\u001b[1;32m   6937\u001b[0m     \u001b[0;32masync\u001b[0m \u001b[0;32mdef\u001b[0m \u001b[0mrequest\u001b[0m\u001b[0;34m(\u001b[0m\u001b[0mself\u001b[0m\u001b[0;34m,\u001b[0m \u001b[0mpath\u001b[0m\u001b[0;34m,\u001b[0m \u001b[0mapi\u001b[0m\u001b[0;34m=\u001b[0m\u001b[0;34m'public'\u001b[0m\u001b[0;34m,\u001b[0m \u001b[0mmethod\u001b[0m\u001b[0;34m=\u001b[0m\u001b[0;34m'GET'\u001b[0m\u001b[0;34m,\u001b[0m \u001b[0mparams\u001b[0m\u001b[0;34m=\u001b[0m\u001b[0;34m{\u001b[0m\u001b[0;34m}\u001b[0m\u001b[0;34m,\u001b[0m \u001b[0mheaders\u001b[0m\u001b[0;34m=\u001b[0m\u001b[0;32mNone\u001b[0m\u001b[0;34m,\u001b[0m \u001b[0mbody\u001b[0m\u001b[0;34m=\u001b[0m\u001b[0;32mNone\u001b[0m\u001b[0;34m,\u001b[0m \u001b[0mconfig\u001b[0m\u001b[0;34m=\u001b[0m\u001b[0;34m{\u001b[0m\u001b[0;34m}\u001b[0m\u001b[0;34m,\u001b[0m \u001b[0mcontext\u001b[0m\u001b[0;34m=\u001b[0m\u001b[0;34m{\u001b[0m\u001b[0;34m}\u001b[0m\u001b[0;34m)\u001b[0m\u001b[0;34m:\u001b[0m\u001b[0;34m\u001b[0m\u001b[0;34m\u001b[0m\u001b[0m\n\u001b[0;32m-> 6938\u001b[0;31m         \u001b[0mresponse\u001b[0m \u001b[0;34m=\u001b[0m \u001b[0;32mawait\u001b[0m \u001b[0mself\u001b[0m\u001b[0;34m.\u001b[0m\u001b[0mfetch2\u001b[0m\u001b[0;34m(\u001b[0m\u001b[0mpath\u001b[0m\u001b[0;34m,\u001b[0m \u001b[0mapi\u001b[0m\u001b[0;34m,\u001b[0m \u001b[0mmethod\u001b[0m\u001b[0;34m,\u001b[0m \u001b[0mparams\u001b[0m\u001b[0;34m,\u001b[0m \u001b[0mheaders\u001b[0m\u001b[0;34m,\u001b[0m \u001b[0mbody\u001b[0m\u001b[0;34m,\u001b[0m \u001b[0mconfig\u001b[0m\u001b[0;34m,\u001b[0m \u001b[0mcontext\u001b[0m\u001b[0;34m)\u001b[0m\u001b[0;34m\u001b[0m\u001b[0;34m\u001b[0m\u001b[0m\n\u001b[0m\u001b[1;32m   6939\u001b[0m         \u001b[0;31m# a workaround for {\"code\":-2015,\"msg\":\"Invalid API-key, IP, or permissions for action.\"}\u001b[0m\u001b[0;34m\u001b[0m\u001b[0;34m\u001b[0m\u001b[0m\n\u001b[1;32m   6940\u001b[0m         \u001b[0;32mif\u001b[0m \u001b[0;34m(\u001b[0m\u001b[0mapi\u001b[0m \u001b[0;34m==\u001b[0m \u001b[0;34m'private'\u001b[0m\u001b[0;34m)\u001b[0m \u001b[0;32mor\u001b[0m \u001b[0;34m(\u001b[0m\u001b[0mapi\u001b[0m \u001b[0;34m==\u001b[0m \u001b[0;34m'wapi'\u001b[0m\u001b[0;34m)\u001b[0m\u001b[0;34m:\u001b[0m\u001b[0;34m\u001b[0m\u001b[0;34m\u001b[0m\u001b[0m\n",
      "\u001b[0;32m~/opt/anaconda3/lib/python3.9/site-packages/ccxt/async_support/base/exchange.py\u001b[0m in \u001b[0;36mfetch2\u001b[0;34m(self, path, api, method, params, headers, body, config, context)\u001b[0m\n\u001b[1;32m   1312\u001b[0m         \u001b[0mself\u001b[0m\u001b[0;34m.\u001b[0m\u001b[0mlastRestRequestTimestamp\u001b[0m \u001b[0;34m=\u001b[0m \u001b[0mself\u001b[0m\u001b[0;34m.\u001b[0m\u001b[0mmilliseconds\u001b[0m\u001b[0;34m(\u001b[0m\u001b[0;34m)\u001b[0m\u001b[0;34m\u001b[0m\u001b[0;34m\u001b[0m\u001b[0m\n\u001b[1;32m   1313\u001b[0m         \u001b[0mrequest\u001b[0m \u001b[0;34m=\u001b[0m \u001b[0mself\u001b[0m\u001b[0;34m.\u001b[0m\u001b[0msign\u001b[0m\u001b[0;34m(\u001b[0m\u001b[0mpath\u001b[0m\u001b[0;34m,\u001b[0m \u001b[0mapi\u001b[0m\u001b[0;34m,\u001b[0m \u001b[0mmethod\u001b[0m\u001b[0;34m,\u001b[0m \u001b[0mparams\u001b[0m\u001b[0;34m,\u001b[0m \u001b[0mheaders\u001b[0m\u001b[0;34m,\u001b[0m \u001b[0mbody\u001b[0m\u001b[0;34m)\u001b[0m\u001b[0;34m\u001b[0m\u001b[0;34m\u001b[0m\u001b[0m\n\u001b[0;32m-> 1314\u001b[0;31m         \u001b[0;32mreturn\u001b[0m \u001b[0;32mawait\u001b[0m \u001b[0mself\u001b[0m\u001b[0;34m.\u001b[0m\u001b[0mfetch\u001b[0m\u001b[0;34m(\u001b[0m\u001b[0mrequest\u001b[0m\u001b[0;34m[\u001b[0m\u001b[0;34m'url'\u001b[0m\u001b[0;34m]\u001b[0m\u001b[0;34m,\u001b[0m \u001b[0mrequest\u001b[0m\u001b[0;34m[\u001b[0m\u001b[0;34m'method'\u001b[0m\u001b[0;34m]\u001b[0m\u001b[0;34m,\u001b[0m \u001b[0mrequest\u001b[0m\u001b[0;34m[\u001b[0m\u001b[0;34m'headers'\u001b[0m\u001b[0;34m]\u001b[0m\u001b[0;34m,\u001b[0m \u001b[0mrequest\u001b[0m\u001b[0;34m[\u001b[0m\u001b[0;34m'body'\u001b[0m\u001b[0;34m]\u001b[0m\u001b[0;34m)\u001b[0m\u001b[0;34m\u001b[0m\u001b[0;34m\u001b[0m\u001b[0m\n\u001b[0m\u001b[1;32m   1315\u001b[0m \u001b[0;34m\u001b[0m\u001b[0m\n\u001b[1;32m   1316\u001b[0m     \u001b[0;32masync\u001b[0m \u001b[0;32mdef\u001b[0m \u001b[0mrequest\u001b[0m\u001b[0;34m(\u001b[0m\u001b[0mself\u001b[0m\u001b[0;34m,\u001b[0m \u001b[0mpath\u001b[0m\u001b[0;34m,\u001b[0m \u001b[0mapi\u001b[0m\u001b[0;34m=\u001b[0m\u001b[0;34m'public'\u001b[0m\u001b[0;34m,\u001b[0m \u001b[0mmethod\u001b[0m\u001b[0;34m=\u001b[0m\u001b[0;34m'GET'\u001b[0m\u001b[0;34m,\u001b[0m \u001b[0mparams\u001b[0m\u001b[0;34m=\u001b[0m\u001b[0;34m{\u001b[0m\u001b[0;34m}\u001b[0m\u001b[0;34m,\u001b[0m \u001b[0mheaders\u001b[0m\u001b[0;34m=\u001b[0m\u001b[0;32mNone\u001b[0m\u001b[0;34m,\u001b[0m \u001b[0mbody\u001b[0m\u001b[0;34m=\u001b[0m\u001b[0;32mNone\u001b[0m\u001b[0;34m,\u001b[0m \u001b[0mconfig\u001b[0m\u001b[0;34m=\u001b[0m\u001b[0;34m{\u001b[0m\u001b[0;34m}\u001b[0m\u001b[0;34m,\u001b[0m \u001b[0mcontext\u001b[0m\u001b[0;34m=\u001b[0m\u001b[0;34m{\u001b[0m\u001b[0;34m}\u001b[0m\u001b[0;34m)\u001b[0m\u001b[0;34m:\u001b[0m\u001b[0;34m\u001b[0m\u001b[0;34m\u001b[0m\u001b[0m\n",
      "\u001b[0;32m~/opt/anaconda3/lib/python3.9/site-packages/ccxt/async_support/base/exchange.py\u001b[0m in \u001b[0;36mfetch\u001b[0;34m(self, url, method, headers, body)\u001b[0m\n\u001b[1;32m    117\u001b[0m         \u001b[0mjson_response\u001b[0m \u001b[0;34m=\u001b[0m \u001b[0;32mNone\u001b[0m\u001b[0;34m\u001b[0m\u001b[0;34m\u001b[0m\u001b[0m\n\u001b[1;32m    118\u001b[0m         \u001b[0;32mtry\u001b[0m\u001b[0;34m:\u001b[0m\u001b[0;34m\u001b[0m\u001b[0;34m\u001b[0m\u001b[0m\n\u001b[0;32m--> 119\u001b[0;31m             async with session_method(yarl.URL(url, encoded=True),\n\u001b[0m\u001b[1;32m    120\u001b[0m                                       \u001b[0mdata\u001b[0m\u001b[0;34m=\u001b[0m\u001b[0mencoded_body\u001b[0m\u001b[0;34m,\u001b[0m\u001b[0;34m\u001b[0m\u001b[0;34m\u001b[0m\u001b[0m\n\u001b[1;32m    121\u001b[0m                                       \u001b[0mheaders\u001b[0m\u001b[0;34m=\u001b[0m\u001b[0mrequest_headers\u001b[0m\u001b[0;34m,\u001b[0m\u001b[0;34m\u001b[0m\u001b[0;34m\u001b[0m\u001b[0m\n",
      "\u001b[0;32m~/opt/anaconda3/lib/python3.9/site-packages/aiohttp/client.py\u001b[0m in \u001b[0;36m__aenter__\u001b[0;34m(self)\u001b[0m\n\u001b[1;32m   1136\u001b[0m \u001b[0;34m\u001b[0m\u001b[0m\n\u001b[1;32m   1137\u001b[0m     \u001b[0;32masync\u001b[0m \u001b[0;32mdef\u001b[0m \u001b[0m__aenter__\u001b[0m\u001b[0;34m(\u001b[0m\u001b[0mself\u001b[0m\u001b[0;34m)\u001b[0m \u001b[0;34m->\u001b[0m \u001b[0m_RetType\u001b[0m\u001b[0;34m:\u001b[0m\u001b[0;34m\u001b[0m\u001b[0;34m\u001b[0m\u001b[0m\n\u001b[0;32m-> 1138\u001b[0;31m         \u001b[0mself\u001b[0m\u001b[0;34m.\u001b[0m\u001b[0m_resp\u001b[0m \u001b[0;34m=\u001b[0m \u001b[0;32mawait\u001b[0m \u001b[0mself\u001b[0m\u001b[0;34m.\u001b[0m\u001b[0m_coro\u001b[0m\u001b[0;34m\u001b[0m\u001b[0;34m\u001b[0m\u001b[0m\n\u001b[0m\u001b[1;32m   1139\u001b[0m         \u001b[0;32mreturn\u001b[0m \u001b[0mself\u001b[0m\u001b[0;34m.\u001b[0m\u001b[0m_resp\u001b[0m\u001b[0;34m\u001b[0m\u001b[0;34m\u001b[0m\u001b[0m\n\u001b[1;32m   1140\u001b[0m \u001b[0;34m\u001b[0m\u001b[0m\n",
      "\u001b[0;32m~/opt/anaconda3/lib/python3.9/site-packages/aiohttp/client.py\u001b[0m in \u001b[0;36m_request\u001b[0;34m(self, method, str_or_url, params, data, json, cookies, headers, skip_auto_headers, auth, allow_redirects, max_redirects, compress, chunked, expect100, raise_for_status, read_until_eof, proxy, proxy_auth, timeout, verify_ssl, fingerprint, ssl_context, ssl, proxy_headers, trace_request_ctx, read_bufsize)\u001b[0m\n\u001b[1;32m    557\u001b[0m                             \u001b[0mresp\u001b[0m \u001b[0;34m=\u001b[0m \u001b[0;32mawait\u001b[0m \u001b[0mreq\u001b[0m\u001b[0;34m.\u001b[0m\u001b[0msend\u001b[0m\u001b[0;34m(\u001b[0m\u001b[0mconn\u001b[0m\u001b[0;34m)\u001b[0m\u001b[0;34m\u001b[0m\u001b[0;34m\u001b[0m\u001b[0m\n\u001b[1;32m    558\u001b[0m                             \u001b[0;32mtry\u001b[0m\u001b[0;34m:\u001b[0m\u001b[0;34m\u001b[0m\u001b[0;34m\u001b[0m\u001b[0m\n\u001b[0;32m--> 559\u001b[0;31m                                 \u001b[0;32mawait\u001b[0m \u001b[0mresp\u001b[0m\u001b[0;34m.\u001b[0m\u001b[0mstart\u001b[0m\u001b[0;34m(\u001b[0m\u001b[0mconn\u001b[0m\u001b[0;34m)\u001b[0m\u001b[0;34m\u001b[0m\u001b[0;34m\u001b[0m\u001b[0m\n\u001b[0m\u001b[1;32m    560\u001b[0m                             \u001b[0;32mexcept\u001b[0m \u001b[0mBaseException\u001b[0m\u001b[0;34m:\u001b[0m\u001b[0;34m\u001b[0m\u001b[0;34m\u001b[0m\u001b[0m\n\u001b[1;32m    561\u001b[0m                                 \u001b[0mresp\u001b[0m\u001b[0;34m.\u001b[0m\u001b[0mclose\u001b[0m\u001b[0;34m(\u001b[0m\u001b[0;34m)\u001b[0m\u001b[0;34m\u001b[0m\u001b[0;34m\u001b[0m\u001b[0m\n",
      "\u001b[0;32m~/opt/anaconda3/lib/python3.9/site-packages/aiohttp/client_reqrep.py\u001b[0m in \u001b[0;36mstart\u001b[0;34m(self, connection)\u001b[0m\n\u001b[1;32m    896\u001b[0m                 \u001b[0;32mtry\u001b[0m\u001b[0;34m:\u001b[0m\u001b[0;34m\u001b[0m\u001b[0;34m\u001b[0m\u001b[0m\n\u001b[1;32m    897\u001b[0m                     \u001b[0mprotocol\u001b[0m \u001b[0;34m=\u001b[0m \u001b[0mself\u001b[0m\u001b[0;34m.\u001b[0m\u001b[0m_protocol\u001b[0m\u001b[0;34m\u001b[0m\u001b[0;34m\u001b[0m\u001b[0m\n\u001b[0;32m--> 898\u001b[0;31m                     \u001b[0mmessage\u001b[0m\u001b[0;34m,\u001b[0m \u001b[0mpayload\u001b[0m \u001b[0;34m=\u001b[0m \u001b[0;32mawait\u001b[0m \u001b[0mprotocol\u001b[0m\u001b[0;34m.\u001b[0m\u001b[0mread\u001b[0m\u001b[0;34m(\u001b[0m\u001b[0;34m)\u001b[0m  \u001b[0;31m# type: ignore[union-attr]\u001b[0m\u001b[0;34m\u001b[0m\u001b[0;34m\u001b[0m\u001b[0m\n\u001b[0m\u001b[1;32m    899\u001b[0m                 \u001b[0;32mexcept\u001b[0m \u001b[0mhttp\u001b[0m\u001b[0;34m.\u001b[0m\u001b[0mHttpProcessingError\u001b[0m \u001b[0;32mas\u001b[0m \u001b[0mexc\u001b[0m\u001b[0;34m:\u001b[0m\u001b[0;34m\u001b[0m\u001b[0;34m\u001b[0m\u001b[0m\n\u001b[1;32m    900\u001b[0m                     raise ClientResponseError(\n",
      "\u001b[0;32m~/opt/anaconda3/lib/python3.9/site-packages/aiohttp/streams.py\u001b[0m in \u001b[0;36mread\u001b[0;34m(self)\u001b[0m\n\u001b[1;32m    614\u001b[0m             \u001b[0mself\u001b[0m\u001b[0;34m.\u001b[0m\u001b[0m_waiter\u001b[0m \u001b[0;34m=\u001b[0m \u001b[0mself\u001b[0m\u001b[0;34m.\u001b[0m\u001b[0m_loop\u001b[0m\u001b[0;34m.\u001b[0m\u001b[0mcreate_future\u001b[0m\u001b[0;34m(\u001b[0m\u001b[0;34m)\u001b[0m\u001b[0;34m\u001b[0m\u001b[0;34m\u001b[0m\u001b[0m\n\u001b[1;32m    615\u001b[0m             \u001b[0;32mtry\u001b[0m\u001b[0;34m:\u001b[0m\u001b[0;34m\u001b[0m\u001b[0;34m\u001b[0m\u001b[0m\n\u001b[0;32m--> 616\u001b[0;31m                 \u001b[0;32mawait\u001b[0m \u001b[0mself\u001b[0m\u001b[0;34m.\u001b[0m\u001b[0m_waiter\u001b[0m\u001b[0;34m\u001b[0m\u001b[0;34m\u001b[0m\u001b[0m\n\u001b[0m\u001b[1;32m    617\u001b[0m             \u001b[0;32mexcept\u001b[0m \u001b[0;34m(\u001b[0m\u001b[0masyncio\u001b[0m\u001b[0;34m.\u001b[0m\u001b[0mCancelledError\u001b[0m\u001b[0;34m,\u001b[0m \u001b[0masyncio\u001b[0m\u001b[0;34m.\u001b[0m\u001b[0mTimeoutError\u001b[0m\u001b[0;34m)\u001b[0m\u001b[0;34m:\u001b[0m\u001b[0;34m\u001b[0m\u001b[0;34m\u001b[0m\u001b[0m\n\u001b[1;32m    618\u001b[0m                 \u001b[0mself\u001b[0m\u001b[0;34m.\u001b[0m\u001b[0m_waiter\u001b[0m \u001b[0;34m=\u001b[0m \u001b[0;32mNone\u001b[0m\u001b[0;34m\u001b[0m\u001b[0;34m\u001b[0m\u001b[0m\n",
      "\u001b[0;31mCancelledError\u001b[0m: "
     ]
    }
   ],
   "source": [
    "import ccxt.async_support as ccxt  # noqa: E402\n",
    "\n",
    "async def poll():\n",
    "    binance = ccxt.binance()\n",
    "    while True:\n",
    "        yield await binance.fetch_ticker('BTC/USD')\n",
    "        await asyncio.sleep(binance.rateLimit / 1000)\n",
    "\n",
    "async def main():\n",
    "    async for ticker in poll():\n",
    "        print(ticker)\n",
    "\n",
    "await main()"
   ]
  },
  {
   "cell_type": "code",
   "execution_count": 23,
   "id": "0b8a6891",
   "metadata": {},
   "outputs": [
    {
     "name": "stdout",
     "output_type": "stream",
     "text": [
      "{'ask': 1498.5,\n",
      " 'askVolume': 1.102,\n",
      " 'average': 1469.26,\n",
      " 'baseVolume': 728796.327,\n",
      " 'bid': 1498.49,\n",
      " 'bidVolume': 7.825,\n",
      " 'change': 58.46,\n",
      " 'close': 1498.49,\n",
      " 'datetime': '2023-03-12T17:26:30.710Z',\n",
      " 'high': 1504.18,\n",
      " 'info': {'askPrice': '1498.50000000',\n",
      "          'askQty': '1.10200000',\n",
      "          'bidPrice': '1498.49000000',\n",
      "          'bidQty': '7.82500000',\n",
      "          'closeTime': '1678641990710',\n",
      "          'count': '834147',\n",
      "          'firstId': '1097104329',\n",
      "          'highPrice': '1504.18000000',\n",
      "          'lastId': '1097938475',\n",
      "          'lastPrice': '1498.49000000',\n",
      "          'lastQty': '0.01010000',\n",
      "          'lowPrice': '1438.99000000',\n",
      "          'openPrice': '1440.03000000',\n",
      "          'openTime': '1678555590710',\n",
      "          'prevClosePrice': '1440.03000000',\n",
      "          'priceChange': '58.46000000',\n",
      "          'priceChangePercent': '4.060',\n",
      "          'quoteVolume': '1064449275.78610500',\n",
      "          'symbol': 'ETHUSDT',\n",
      "          'volume': '728796.32700000',\n",
      "          'weightedAvgPrice': '1460.55795886'},\n",
      " 'last': 1498.49,\n",
      " 'low': 1438.99,\n",
      " 'open': 1440.03,\n",
      " 'percentage': 4.06,\n",
      " 'previousClose': 1440.03,\n",
      " 'quoteVolume': 1064449275.786105,\n",
      " 'symbol': 'ETH/USDT',\n",
      " 'timestamp': 1678641990710,\n",
      " 'vwap': 1460.55795886}\n"
     ]
    }
   ],
   "source": [
    "import asyncio\n",
    "import os\n",
    "import sys\n",
    "from pprint import pprint\n",
    "\n",
    "#root = os.path.dirname(os.path.dirname(os.path.dirname(os.path.abspath(__file__))))\n",
    "#sys.path.append(root + '/python')\n",
    "\n",
    "import ccxt.async_support as ccxt  # noqa: E402\n",
    "\n",
    "async def show(): \n",
    "    binance=ccxt.binance()\n",
    "    pprint(await binance.fetch_ticker('ETH/USDT'))\n",
    "    await binance.close()\n",
    "    return\n",
    "\n",
    "t=await show()\n",
    "t"
   ]
  },
  {
   "cell_type": "code",
   "execution_count": 13,
   "id": "291dd77f",
   "metadata": {},
   "outputs": [
    {
     "data": {
      "text/plain": [
       "datetime.datetime(2023, 3, 12, 18, 15, 11, 111000)"
      ]
     },
     "execution_count": 13,
     "metadata": {},
     "output_type": "execute_result"
    }
   ],
   "source": [
    "from datetime import datetime\n",
    "datetime.fromtimestamp(1678641311111/1000)"
   ]
  },
  {
   "cell_type": "code",
   "execution_count": null,
   "id": "7fd3bd3b",
   "metadata": {},
   "outputs": [],
   "source": []
  }
 ],
 "metadata": {
  "kernelspec": {
   "display_name": "Python 3 (ipykernel)",
   "language": "python",
   "name": "python3"
  },
  "language_info": {
   "codemirror_mode": {
    "name": "ipython",
    "version": 3
   },
   "file_extension": ".py",
   "mimetype": "text/x-python",
   "name": "python",
   "nbconvert_exporter": "python",
   "pygments_lexer": "ipython3",
   "version": "3.9.13"
  }
 },
 "nbformat": 4,
 "nbformat_minor": 5
}
