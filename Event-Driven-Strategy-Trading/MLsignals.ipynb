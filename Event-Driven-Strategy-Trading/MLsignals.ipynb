{
 "cells": [
  {
   "cell_type": "code",
   "execution_count": 1,
   "id": "f2809a76",
   "metadata": {},
   "outputs": [],
   "source": [
    "import pandas as pd \n",
    "import numpy as np \n",
    "import matplotlib.pyplot as plt \n",
    "\n",
    "from sklearn.model_selection import train_test_split\n",
    "from sklearn.ensemble import RandomForestClassifier\n",
    "from sklearn.metrics import accuracy_score\n",
    "import talib as ta\n",
    "\n",
    "from data import BinanceDataHandlerBacktest\n",
    "try:\n",
    "    import Queue as queue\n",
    "except ImportError:\n",
    "    import queue"
   ]
  },
  {
   "cell_type": "code",
   "execution_count": 12,
   "id": "4f8bbc90",
   "metadata": {},
   "outputs": [],
   "source": [
    "# Load OHLCV data using the backtest uploader \n",
    "\n",
    "events=queue.Queue()\n",
    "symbols=['BTC/USDT']\n",
    "start_date='2023-04-06 00:00:00'\n",
    "\n",
    "Loader=BinanceDataHandlerBacktest(events,symbols,start_date)\n",
    "\n",
    "data_set=Loader.data_history[symbols[0]]\n",
    "\n",
    "df = pd.DataFrame(data_set, columns=['timestamp', 'open', 'high', 'low', 'close', 'volume'])\n",
    "df['timestamp'] = pd.to_datetime(df['timestamp'], unit='ms')\n",
    "df.set_index('timestamp', inplace=True)"
   ]
  },
  {
   "cell_type": "code",
   "execution_count": 13,
   "id": "45325f82",
   "metadata": {
    "scrolled": true
   },
   "outputs": [
    {
     "data": {
      "text/html": [
       "<div>\n",
       "<style scoped>\n",
       "    .dataframe tbody tr th:only-of-type {\n",
       "        vertical-align: middle;\n",
       "    }\n",
       "\n",
       "    .dataframe tbody tr th {\n",
       "        vertical-align: top;\n",
       "    }\n",
       "\n",
       "    .dataframe thead th {\n",
       "        text-align: right;\n",
       "    }\n",
       "</style>\n",
       "<table border=\"1\" class=\"dataframe\">\n",
       "  <thead>\n",
       "    <tr style=\"text-align: right;\">\n",
       "      <th></th>\n",
       "      <th>open</th>\n",
       "      <th>high</th>\n",
       "      <th>low</th>\n",
       "      <th>close</th>\n",
       "      <th>volume</th>\n",
       "    </tr>\n",
       "    <tr>\n",
       "      <th>timestamp</th>\n",
       "      <th></th>\n",
       "      <th></th>\n",
       "      <th></th>\n",
       "      <th></th>\n",
       "      <th></th>\n",
       "    </tr>\n",
       "  </thead>\n",
       "  <tbody>\n",
       "    <tr>\n",
       "      <th>2023-04-06 00:17:15</th>\n",
       "      <td>28102.80</td>\n",
       "      <td>28102.80</td>\n",
       "      <td>28102.79</td>\n",
       "      <td>28102.79</td>\n",
       "      <td>0.00546</td>\n",
       "    </tr>\n",
       "    <tr>\n",
       "      <th>2023-04-06 00:17:16</th>\n",
       "      <td>28102.79</td>\n",
       "      <td>28102.80</td>\n",
       "      <td>28102.79</td>\n",
       "      <td>28102.80</td>\n",
       "      <td>0.02414</td>\n",
       "    </tr>\n",
       "    <tr>\n",
       "      <th>2023-04-06 00:17:17</th>\n",
       "      <td>28102.80</td>\n",
       "      <td>28102.80</td>\n",
       "      <td>28102.79</td>\n",
       "      <td>28102.79</td>\n",
       "      <td>0.01419</td>\n",
       "    </tr>\n",
       "    <tr>\n",
       "      <th>2023-04-06 00:17:18</th>\n",
       "      <td>28102.79</td>\n",
       "      <td>28102.79</td>\n",
       "      <td>28102.79</td>\n",
       "      <td>28102.79</td>\n",
       "      <td>0.03162</td>\n",
       "    </tr>\n",
       "    <tr>\n",
       "      <th>2023-04-06 00:17:19</th>\n",
       "      <td>28102.80</td>\n",
       "      <td>28102.80</td>\n",
       "      <td>28102.80</td>\n",
       "      <td>28102.80</td>\n",
       "      <td>0.01086</td>\n",
       "    </tr>\n",
       "  </tbody>\n",
       "</table>\n",
       "</div>"
      ],
      "text/plain": [
       "                         open      high       low     close   volume\n",
       "timestamp                                                           \n",
       "2023-04-06 00:17:15  28102.80  28102.80  28102.79  28102.79  0.00546\n",
       "2023-04-06 00:17:16  28102.79  28102.80  28102.79  28102.80  0.02414\n",
       "2023-04-06 00:17:17  28102.80  28102.80  28102.79  28102.79  0.01419\n",
       "2023-04-06 00:17:18  28102.79  28102.79  28102.79  28102.79  0.03162\n",
       "2023-04-06 00:17:19  28102.80  28102.80  28102.80  28102.80  0.01086"
      ]
     },
     "execution_count": 13,
     "metadata": {},
     "output_type": "execute_result"
    }
   ],
   "source": [
    "df.tail()"
   ]
  },
  {
   "cell_type": "code",
   "execution_count": 14,
   "id": "4c9495d9",
   "metadata": {},
   "outputs": [],
   "source": [
    "# Add technical indicators as features\n",
    "\n",
    "df['sma20'] = df['close'].rolling(20).mean()\n",
    "df['sma50'] = df['close'].rolling(50).mean()\n",
    "df['rsi14'] = ta.RSI(df['close'], timeperiod=14)\n",
    "df['macd'], df['macdsignal'], df['macdhist'] = ta.MACD(df['close'], fastperiod=12, slowperiod=26, signalperiod=9)\n",
    "\n",
    "# Define buy/sell labels based on the strategy\n",
    "df['buy_signal'] = np.where((df['sma20'] > df['sma50']) & (df['rsi14'] < 30) & (df['macd'] > df['macdsignal']), 1, 0)\n",
    "df['sell_signal'] = np.where((df['sma20'] < df['sma50']) & (df['rsi14'] > 70) & (df['macd'] < df['macdsignal']), 1, 0)"
   ]
  },
  {
   "cell_type": "code",
   "execution_count": 15,
   "id": "af975b2d",
   "metadata": {},
   "outputs": [],
   "source": [
    "# Clean data by droping empty rows\n",
    "df=df.dropna()"
   ]
  },
  {
   "cell_type": "code",
   "execution_count": 16,
   "id": "91c00450",
   "metadata": {},
   "outputs": [
    {
     "data": {
      "image/png": "[encoded data removed]",
      "text/plain": [
       "<Figure size 640x480 with 1 Axes>"
      ]
     },
     "metadata": {},
     "output_type": "display_data"
    }
   ],
   "source": [
    "# Some visualisation\n",
    "plt.plot(df['buy_signal'])\n",
    "plt.plot(df['sell_signal'])\n",
    "plt.show()"
   ]
  },
  {
   "cell_type": "code",
   "execution_count": 17,
   "id": "d8b1cd12",
   "metadata": {},
   "outputs": [],
   "source": [
    "# Prepare data for machine learning\n",
    "X = df[['open', 'high', 'low', 'close', 'volume', 'sma20', 'sma50', 'rsi14', 'macd', 'macdsignal', 'macdhist']].values\n",
    "yb = df['buy_signal'].values\n",
    "ys = df['buy_signal'].values\n"
   ]
  },
  {
   "cell_type": "code",
   "execution_count": 18,
   "id": "24fc77e5",
   "metadata": {},
   "outputs": [],
   "source": [
    "# Split data into training and testing sets\n",
    "X_train, X_test, yb_train, yb_test = train_test_split(X, yb, test_size=0.2, random_state=42)\n",
    "X_train, X_test, ys_train, ys_test = train_test_split(X, ys, test_size=0.2, random_state=42)"
   ]
  },
  {
   "cell_type": "code",
   "execution_count": 19,
   "id": "a1843294",
   "metadata": {},
   "outputs": [
    {
     "name": "stdout",
     "output_type": "stream",
     "text": [
      "Buy signal Model Accuracy: 1.0\n",
      "Sell signal Model Accuracy: 1.0\n"
     ]
    }
   ],
   "source": [
    "\n",
    "# Train Random Forest classifier\n",
    "rfb = RandomForestClassifier(n_estimators=100, random_state=42)\n",
    "rfb.fit(X_train, yb_train)\n",
    "\n",
    "rfs = RandomForestClassifier(n_estimators=100, random_state=42)\n",
    "rfs.fit(X_train, ys_train)\n",
    "\n",
    "# Evaluate performance on testing set\n",
    "yb_pred = rfb.predict(X_test)\n",
    "accuracy = accuracy_score(yb_test, yb_pred)\n",
    "print('Buy signal Model Accuracy:', accuracy)\n",
    "\n",
    "ys_pred = rfs.predict(X_test)\n",
    "accuracy = accuracy_score(ys_test, ys_pred)\n",
    "print('Sell signal Model Accuracy:', accuracy)\n"
   ]
  },
  {
   "cell_type": "code",
   "execution_count": 20,
   "id": "fd7c1ea3",
   "metadata": {},
   "outputs": [
    {
     "data": {
      "text/plain": [
       "[<matplotlib.lines.Line2D at 0x7f7f1c15b7c0>]"
      ]
     },
     "execution_count": 20,
     "metadata": {},
     "output_type": "execute_result"
    },
    {
     "data": {
      "image/png": "[encoded data removed]",
      "text/plain": [
       "<Figure size 640x480 with 1 Axes>"
      ]
     },
     "metadata": {},
     "output_type": "display_data"
    }
   ],
   "source": [
    "plt.plot(rfb.predict(X))\n",
    "plt.plot(yb)"
   ]
  },
  {
   "cell_type": "code",
   "execution_count": 21,
   "id": "2b3aacb9",
   "metadata": {},
   "outputs": [
    {
     "data": {
      "text/plain": [
       "[<matplotlib.lines.Line2D at 0x7f7f0830d8e0>]"
      ]
     },
     "execution_count": 21,
     "metadata": {},
     "output_type": "execute_result"
    },
    {
     "data": {
      "image/png": "[encoded data removed]",
      "text/plain": [
       "<Figure size 640x480 with 1 Axes>"
      ]
     },
     "metadata": {},
     "output_type": "display_data"
    }
   ],
   "source": [
    "plt.plot(rfs.predict(X))\n",
    "plt.plot(ys)"
   ]
  },
  {
   "cell_type": "code",
   "execution_count": null,
   "id": "7464b2f7",
   "metadata": {},
   "outputs": [],
   "source": []
  },
  {
   "cell_type": "code",
   "execution_count": 29,
   "id": "afcc1a0b",
   "metadata": {},
   "outputs": [],
   "source": [
    "import ccxt\n",
    "import pandas as pd\n",
    "import numpy as np\n",
    "import matplotlib.pyplot as plt\n",
    "import talib as ta \n",
    "\n",
    "# Connect to the exchange\n",
    "exchange = ccxt.binance()\n",
    "ohlcv_data = exchange.fetch_ohlcv('BTC/USDT', timeframe='1d')\n",
    "depth_data = exchange.fetch_order_book('BTC/USDT')\n",
    "\n",
    "# Clean and preprocess the data\n",
    "df = pd.DataFrame(ohlcv_data, columns=['timestamp', 'open', 'high', 'low', 'close', 'volume'])\n",
    "df['timestamp'] = pd.to_datetime(df['timestamp'], unit='ms')\n",
    "\n",
    "# Clean and preprocess the data\n",
    "dfdpbid = pd.DataFrame(depth_data['bids'], columns=['bid_price', 'bid_volume'])\n",
    "dfdpask=pd.DataFrame(depth_data['asks'], columns=['ask_price', 'ask_volume'])\n",
    "dfdp=pd.concat([dfdpbid, dfdpask], axis=1)\n"
   ]
  },
  {
   "cell_type": "code",
   "execution_count": 30,
   "id": "d09a6f51",
   "metadata": {},
   "outputs": [
    {
     "data": {
      "text/plain": [
       "<AxesSubplot:>"
      ]
     },
     "execution_count": 30,
     "metadata": {},
     "output_type": "execute_result"
    },
    {
     "data": {
      "image/png": "[encoded data removed]",
      "text/plain": [
       "<Figure size 640x480 with 1 Axes>"
      ]
     },
     "metadata": {},
     "output_type": "display_data"
    }
   ],
   "source": [
    "dfdp['bid_price'].plot()\n",
    "dfdp['ask_price'].plot()"
   ]
  },
  {
   "cell_type": "code",
   "execution_count": 31,
   "id": "647935d8",
   "metadata": {},
   "outputs": [],
   "source": [
    "\n",
    "dfdp['mid_price'] = (dfdp['bid_price'] + dfdp['ask_price']) / 2\n",
    "dfdp['log_returns'] = np.log(dfdp['mid_price']).diff()\n"
   ]
  },
  {
   "cell_type": "code",
   "execution_count": 32,
   "id": "11c3b7b0",
   "metadata": {},
   "outputs": [
    {
     "data": {
      "text/html": [
       "<div>\n",
       "<style scoped>\n",
       "    .dataframe tbody tr th:only-of-type {\n",
       "        vertical-align: middle;\n",
       "    }\n",
       "\n",
       "    .dataframe tbody tr th {\n",
       "        vertical-align: top;\n",
       "    }\n",
       "\n",
       "    .dataframe thead th {\n",
       "        text-align: right;\n",
       "    }\n",
       "</style>\n",
       "<table border=\"1\" class=\"dataframe\">\n",
       "  <thead>\n",
       "    <tr style=\"text-align: right;\">\n",
       "      <th></th>\n",
       "      <th>bid_price</th>\n",
       "      <th>bid_volume</th>\n",
       "      <th>ask_price</th>\n",
       "      <th>ask_volume</th>\n",
       "      <th>mid_price</th>\n",
       "      <th>log_returns</th>\n",
       "    </tr>\n",
       "  </thead>\n",
       "  <tbody>\n",
       "    <tr>\n",
       "      <th>0</th>\n",
       "      <td>27893.22</td>\n",
       "      <td>5.35472</td>\n",
       "      <td>27893.23</td>\n",
       "      <td>2.77703</td>\n",
       "      <td>27893.225</td>\n",
       "      <td>NaN</td>\n",
       "    </tr>\n",
       "    <tr>\n",
       "      <th>1</th>\n",
       "      <td>27893.18</td>\n",
       "      <td>0.00684</td>\n",
       "      <td>27893.24</td>\n",
       "      <td>0.01529</td>\n",
       "      <td>27893.210</td>\n",
       "      <td>-5.377651e-07</td>\n",
       "    </tr>\n",
       "    <tr>\n",
       "      <th>2</th>\n",
       "      <td>27893.06</td>\n",
       "      <td>0.55687</td>\n",
       "      <td>27893.26</td>\n",
       "      <td>0.50865</td>\n",
       "      <td>27893.160</td>\n",
       "      <td>-1.792553e-06</td>\n",
       "    </tr>\n",
       "    <tr>\n",
       "      <th>3</th>\n",
       "      <td>27892.88</td>\n",
       "      <td>0.53744</td>\n",
       "      <td>27893.32</td>\n",
       "      <td>0.51263</td>\n",
       "      <td>27893.100</td>\n",
       "      <td>-2.151067e-06</td>\n",
       "    </tr>\n",
       "    <tr>\n",
       "      <th>4</th>\n",
       "      <td>27892.86</td>\n",
       "      <td>0.00647</td>\n",
       "      <td>27893.33</td>\n",
       "      <td>0.51292</td>\n",
       "      <td>27893.095</td>\n",
       "      <td>-1.792558e-07</td>\n",
       "    </tr>\n",
       "  </tbody>\n",
       "</table>\n",
       "</div>"
      ],
      "text/plain": [
       "   bid_price  bid_volume  ask_price  ask_volume  mid_price   log_returns\n",
       "0   27893.22     5.35472   27893.23     2.77703  27893.225           NaN\n",
       "1   27893.18     0.00684   27893.24     0.01529  27893.210 -5.377651e-07\n",
       "2   27893.06     0.55687   27893.26     0.50865  27893.160 -1.792553e-06\n",
       "3   27892.88     0.53744   27893.32     0.51263  27893.100 -2.151067e-06\n",
       "4   27892.86     0.00647   27893.33     0.51292  27893.095 -1.792558e-07"
      ]
     },
     "execution_count": 32,
     "metadata": {},
     "output_type": "execute_result"
    }
   ],
   "source": [
    "dfdp.head()"
   ]
  },
  {
   "cell_type": "code",
   "execution_count": 37,
   "id": "379d2a20",
   "metadata": {},
   "outputs": [
    {
     "ename": "AttributeError",
     "evalue": "module 'talib' has no attribute 'bollinger_lband_indicator'",
     "output_type": "error",
     "traceback": [
      "\u001b[0;31m---------------------------------------------------------------------------\u001b[0m",
      "\u001b[0;31mAttributeError\u001b[0m                            Traceback (most recent call last)",
      "\u001b[0;32m/var/folders/vs/tzsf1v8j0x7cxxg0jh48sd8r0000gn/T/ipykernel_30560/3224737892.py\u001b[0m in \u001b[0;36m<module>\u001b[0;34m\u001b[0m\n\u001b[1;32m      2\u001b[0m \u001b[0mdf\u001b[0m\u001b[0;34m[\u001b[0m\u001b[0;34m'sma_20'\u001b[0m\u001b[0;34m]\u001b[0m \u001b[0;34m=\u001b[0m \u001b[0mdfdp\u001b[0m\u001b[0;34m[\u001b[0m\u001b[0;34m'mid_price'\u001b[0m\u001b[0;34m]\u001b[0m\u001b[0;34m.\u001b[0m\u001b[0mrolling\u001b[0m\u001b[0;34m(\u001b[0m\u001b[0;36m20\u001b[0m\u001b[0;34m)\u001b[0m\u001b[0;34m.\u001b[0m\u001b[0mmean\u001b[0m\u001b[0;34m(\u001b[0m\u001b[0;34m)\u001b[0m\u001b[0;34m\u001b[0m\u001b[0;34m\u001b[0m\u001b[0m\n\u001b[1;32m      3\u001b[0m \u001b[0mdf\u001b[0m\u001b[0;34m[\u001b[0m\u001b[0;34m'sma_50'\u001b[0m\u001b[0;34m]\u001b[0m \u001b[0;34m=\u001b[0m \u001b[0mdfdp\u001b[0m\u001b[0;34m[\u001b[0m\u001b[0;34m'mid_price'\u001b[0m\u001b[0;34m]\u001b[0m\u001b[0;34m.\u001b[0m\u001b[0mrolling\u001b[0m\u001b[0;34m(\u001b[0m\u001b[0;36m50\u001b[0m\u001b[0;34m)\u001b[0m\u001b[0;34m.\u001b[0m\u001b[0mmean\u001b[0m\u001b[0;34m(\u001b[0m\u001b[0;34m)\u001b[0m\u001b[0;34m\u001b[0m\u001b[0;34m\u001b[0m\u001b[0m\n\u001b[0;32m----> 4\u001b[0;31m \u001b[0mdfdp\u001b[0m\u001b[0;34m[\u001b[0m\u001b[0;34m'upper_band'\u001b[0m\u001b[0;34m]\u001b[0m\u001b[0;34m,\u001b[0m \u001b[0mdfdp\u001b[0m\u001b[0;34m[\u001b[0m\u001b[0;34m'middle_band'\u001b[0m\u001b[0;34m]\u001b[0m\u001b[0;34m,\u001b[0m \u001b[0mdfdp\u001b[0m\u001b[0;34m[\u001b[0m\u001b[0;34m'lower_band'\u001b[0m\u001b[0;34m]\u001b[0m \u001b[0;34m=\u001b[0m \u001b[0mta\u001b[0m\u001b[0;34m.\u001b[0m\u001b[0mbollinger_lband_indicator\u001b[0m\u001b[0;34m(\u001b[0m\u001b[0mdfdp\u001b[0m\u001b[0;34m[\u001b[0m\u001b[0;34m'mid_price'\u001b[0m\u001b[0;34m]\u001b[0m\u001b[0;34m,\u001b[0m \u001b[0mwindow\u001b[0m\u001b[0;34m=\u001b[0m\u001b[0;36m20\u001b[0m\u001b[0;34m,\u001b[0m \u001b[0mwindow_dev\u001b[0m\u001b[0;34m=\u001b[0m\u001b[0;36m2\u001b[0m\u001b[0;34m)\u001b[0m\u001b[0;34m\u001b[0m\u001b[0;34m\u001b[0m\u001b[0m\n\u001b[0m\u001b[1;32m      5\u001b[0m \u001b[0mdfdp\u001b[0m\u001b[0;34m[\u001b[0m\u001b[0;34m'rsi'\u001b[0m\u001b[0;34m]\u001b[0m \u001b[0;34m=\u001b[0m \u001b[0mta\u001b[0m\u001b[0;34m.\u001b[0m\u001b[0mrsi\u001b[0m\u001b[0;34m(\u001b[0m\u001b[0mdfdp\u001b[0m\u001b[0;34m[\u001b[0m\u001b[0;34m'mid_price'\u001b[0m\u001b[0;34m]\u001b[0m\u001b[0;34m,\u001b[0m \u001b[0mwindow\u001b[0m\u001b[0;34m=\u001b[0m\u001b[0;36m14\u001b[0m\u001b[0;34m)\u001b[0m\u001b[0;34m\u001b[0m\u001b[0;34m\u001b[0m\u001b[0m\n\u001b[1;32m      6\u001b[0m \u001b[0;34m\u001b[0m\u001b[0m\n",
      "\u001b[0;31mAttributeError\u001b[0m: module 'talib' has no attribute 'bollinger_lband_indicator'"
     ]
    }
   ],
   "source": [
    "\n",
    "# Calculate technical indicators\n",
    "df['sma_20'] = dfdp['mid_price'].rolling(20).mean()\n",
    "df['sma_50'] = dfdp['mid_price'].rolling(50).mean()\n",
    "dfdp['upper_band'], dfdp['middle_band'], dfdp['lower_band'] = ta.bollinger_lband_indicator(dfdp['mid_price'], window=20, window_dev=2)\n",
    "dfdp['rsi'] = ta.rsi(dfdp['mid_price'], window=14)\n",
    "\n",
    "# Develop the trading strategy\n",
    "dfdp['signal'] = 0\n",
    "dfdp.loc[dfdp['mid_price'] > dfdp['upper_band'], 'signal'] = -1\n",
    "dfdp.loc[df['mid_price'] < dfdp['lower_band'], 'signal'] = 1\n",
    "dfdp['position'] = dfdp['signal'].diff()\n",
    "\n",
    "# Backtest the strategy\n",
    "dfdp['strategy_returns'] = dfdp['position'].shift(1) * dfdp['log_returns']\n",
    "dfdp['cumulative_returns'] = dfdp['strategy_returns'].cumsum()\n",
    "dfdp['cumulative_returns'].plot()\n",
    "\n"
   ]
  },
  {
   "cell_type": "code",
   "execution_count": null,
   "id": "77dc1fa6",
   "metadata": {},
   "outputs": [],
   "source": []
  }
 ],
 "metadata": {
  "kernelspec": {
   "display_name": "Python 3 (ipykernel)",
   "language": "python",
   "name": "python3"
  },
  "language_info": {
   "codemirror_mode": {
    "name": "ipython",
    "version": 3
   },
   "file_extension": ".py",
   "mimetype": "text/x-python",
   "name": "python",
   "nbconvert_exporter": "python",
   "pygments_lexer": "ipython3",
   "version": "3.9.13"
  }
 },
 "nbformat": 4,
 "nbformat_minor": 5
}
