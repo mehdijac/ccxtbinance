{
 "cells": [
  {
   "cell_type": "code",
   "execution_count": 92,
   "id": "f2809a76",
   "metadata": {},
   "outputs": [],
   "source": [
    "import pandas as pd \n",
    "import numpy as np \n",
    "import matplotlib.pyplot as plt \n",
    "\n",
    "from sklearn.model_selection import train_test_split\n",
    "from sklearn.ensemble import RandomForestClassifier\n",
    "from sklearn.metrics import accuracy_score\n",
    "import talib as ta\n",
    "\n",
    "from data import BinanceDataHandlerBacktest\n",
    "try:\n",
    "    import Queue as queue\n",
    "except ImportError:\n",
    "    import queue"
   ]
  },
  {
   "cell_type": "code",
   "execution_count": 93,
   "id": "4f8bbc90",
   "metadata": {},
   "outputs": [],
   "source": [
    "# Load OHLCV data using the backtest uploader \n",
    "\n",
    "events=queue.Queue()\n",
    "symbols=['BTC/USDT']\n",
    "start_date='2023-04-01 00:00:00'\n",
    "\n",
    "Loader=BinanceDataHandlerBacktest(events,symbols,start_date)\n",
    "\n",
    "data_set=Loader.data_history[symbols[0]]\n",
    "\n",
    "df = pd.DataFrame(data_set, columns=['timestamp', 'open', 'high', 'low', 'close', 'volume'])\n",
    "df['timestamp'] = pd.to_datetime(df['timestamp'], unit='ms')\n",
    "df.set_index('timestamp', inplace=True)"
   ]
  },
  {
   "cell_type": "code",
   "execution_count": 94,
   "id": "45325f82",
   "metadata": {
    "scrolled": true
   },
   "outputs": [
    {
     "data": {
      "text/html": [
       "<div>\n",
       "<style scoped>\n",
       "    .dataframe tbody tr th:only-of-type {\n",
       "        vertical-align: middle;\n",
       "    }\n",
       "\n",
       "    .dataframe tbody tr th {\n",
       "        vertical-align: top;\n",
       "    }\n",
       "\n",
       "    .dataframe thead th {\n",
       "        text-align: right;\n",
       "    }\n",
       "</style>\n",
       "<table border=\"1\" class=\"dataframe\">\n",
       "  <thead>\n",
       "    <tr style=\"text-align: right;\">\n",
       "      <th></th>\n",
       "      <th>open</th>\n",
       "      <th>high</th>\n",
       "      <th>low</th>\n",
       "      <th>close</th>\n",
       "      <th>volume</th>\n",
       "    </tr>\n",
       "    <tr>\n",
       "      <th>timestamp</th>\n",
       "      <th></th>\n",
       "      <th></th>\n",
       "      <th></th>\n",
       "      <th></th>\n",
       "      <th></th>\n",
       "    </tr>\n",
       "  </thead>\n",
       "  <tbody>\n",
       "    <tr>\n",
       "      <th>2023-04-01 01:47:15</th>\n",
       "      <td>28471.80</td>\n",
       "      <td>28471.80</td>\n",
       "      <td>28470.39</td>\n",
       "      <td>28470.39</td>\n",
       "      <td>2.32663</td>\n",
       "    </tr>\n",
       "    <tr>\n",
       "      <th>2023-04-01 01:47:16</th>\n",
       "      <td>28470.16</td>\n",
       "      <td>28470.16</td>\n",
       "      <td>28470.16</td>\n",
       "      <td>28470.16</td>\n",
       "      <td>0.01060</td>\n",
       "    </tr>\n",
       "    <tr>\n",
       "      <th>2023-04-01 01:47:17</th>\n",
       "      <td>28470.16</td>\n",
       "      <td>28470.16</td>\n",
       "      <td>28468.10</td>\n",
       "      <td>28468.10</td>\n",
       "      <td>0.04188</td>\n",
       "    </tr>\n",
       "    <tr>\n",
       "      <th>2023-04-01 01:47:18</th>\n",
       "      <td>28468.10</td>\n",
       "      <td>28468.11</td>\n",
       "      <td>28468.10</td>\n",
       "      <td>28468.10</td>\n",
       "      <td>1.31166</td>\n",
       "    </tr>\n",
       "    <tr>\n",
       "      <th>2023-04-01 01:47:19</th>\n",
       "      <td>28468.11</td>\n",
       "      <td>28468.11</td>\n",
       "      <td>28468.10</td>\n",
       "      <td>28468.10</td>\n",
       "      <td>0.19828</td>\n",
       "    </tr>\n",
       "  </tbody>\n",
       "</table>\n",
       "</div>"
      ],
      "text/plain": [
       "                         open      high       low     close   volume\n",
       "timestamp                                                           \n",
       "2023-04-01 01:47:15  28471.80  28471.80  28470.39  28470.39  2.32663\n",
       "2023-04-01 01:47:16  28470.16  28470.16  28470.16  28470.16  0.01060\n",
       "2023-04-01 01:47:17  28470.16  28470.16  28468.10  28468.10  0.04188\n",
       "2023-04-01 01:47:18  28468.10  28468.11  28468.10  28468.10  1.31166\n",
       "2023-04-01 01:47:19  28468.11  28468.11  28468.10  28468.10  0.19828"
      ]
     },
     "execution_count": 94,
     "metadata": {},
     "output_type": "execute_result"
    }
   ],
   "source": [
    "df.tail()"
   ]
  },
  {
   "cell_type": "code",
   "execution_count": 95,
   "id": "4c9495d9",
   "metadata": {},
   "outputs": [],
   "source": [
    "# Add technical indicators as features\n",
    "\n",
    "df['sma20'] = df['close'].rolling(20).mean()\n",
    "df['sma50'] = df['close'].rolling(50).mean()\n",
    "df['rsi14'] = ta.RSI(df['close'], timeperiod=14)\n",
    "df['macd'], df['macdsignal'], df['macdhist'] = ta.MACD(df['close'], fastperiod=12, slowperiod=26, signalperiod=9)\n",
    "\n",
    "# Define buy/sell labels based on the strategy\n",
    "df['buy_signal'] = np.where((df['sma20'] > df['sma50']) & (df['rsi14'] < 30) & (df['macd'] > df['macdsignal']), 1, 0)\n",
    "df['sell_signal'] = np.where((df['sma20'] < df['sma50']) & (df['rsi14'] > 70) & (df['macd'] < df['macdsignal']), 1, 0)"
   ]
  },
  {
   "cell_type": "code",
   "execution_count": 96,
   "id": "af975b2d",
   "metadata": {},
   "outputs": [],
   "source": [
    "# Clean data by droping empty rows\n",
    "df=df.dropna()"
   ]
  },
  {
   "cell_type": "code",
   "execution_count": 97,
   "id": "91c00450",
   "metadata": {},
   "outputs": [
    {
     "data": {
      "image/png": "[encoded data removed]",
      "text/plain": [
       "<Figure size 640x480 with 1 Axes>"
      ]
     },
     "metadata": {},
     "output_type": "display_data"
    }
   ],
   "source": [
    "# Some visualisation\n",
    "plt.plot(df['buy_signal'])\n",
    "plt.plot(df['sell_signal'])\n",
    "plt.show()"
   ]
  },
  {
   "cell_type": "code",
   "execution_count": 98,
   "id": "d8b1cd12",
   "metadata": {},
   "outputs": [],
   "source": [
    "# Prepare data for machine learning\n",
    "X = df[['open', 'high', 'low', 'close', 'volume', 'sma20', 'sma50', 'rsi14', 'macd', 'macdsignal', 'macdhist']].values\n",
    "yb = df['buy_signal'].values\n",
    "ys = df['buy_signal'].values\n"
   ]
  },
  {
   "cell_type": "code",
   "execution_count": 99,
   "id": "24fc77e5",
   "metadata": {},
   "outputs": [],
   "source": [
    "# Split data into training and testing sets\n",
    "X_train, X_test, yb_train, yb_test = train_test_split(X, yb, test_size=0.2, random_state=42)\n",
    "X_train, X_test, ys_train, ys_test = train_test_split(X, ys, test_size=0.2, random_state=42)"
   ]
  },
  {
   "cell_type": "code",
   "execution_count": 100,
   "id": "a1843294",
   "metadata": {},
   "outputs": [
    {
     "name": "stdout",
     "output_type": "stream",
     "text": [
      "Buy signal Model Accuracy: 0.9998999099189271\n",
      "Sell signal Model Accuracy: 0.9998999099189271\n"
     ]
    }
   ],
   "source": [
    "\n",
    "# Train Random Forest classifier\n",
    "rfb = RandomForestClassifier(n_estimators=100, random_state=42)\n",
    "rfb.fit(X_train, yb_train)\n",
    "\n",
    "rfs = RandomForestClassifier(n_estimators=100, random_state=42)\n",
    "rfs.fit(X_train, ys_train)\n",
    "\n",
    "# Evaluate performance on testing set\n",
    "yb_pred = rfb.predict(X_test)\n",
    "accuracy = accuracy_score(yb_test, yb_pred)\n",
    "print('Buy signal Model Accuracy:', accuracy)\n",
    "\n",
    "ys_pred = rfs.predict(X_test)\n",
    "accuracy = accuracy_score(ys_test, ys_pred)\n",
    "print('Sell signal Model Accuracy:', accuracy)\n"
   ]
  },
  {
   "cell_type": "code",
   "execution_count": 101,
   "id": "fd7c1ea3",
   "metadata": {},
   "outputs": [
    {
     "data": {
      "text/plain": [
       "[<matplotlib.lines.Line2D at 0x7fcb66a0e250>]"
      ]
     },
     "execution_count": 101,
     "metadata": {},
     "output_type": "execute_result"
    },
    {
     "data": {
      "image/png": "[encoded data removed]",
      "text/plain": [
       "<Figure size 640x480 with 1 Axes>"
      ]
     },
     "metadata": {},
     "output_type": "display_data"
    }
   ],
   "source": [
    "plt.plot(rfb.predict(X))\n",
    "plt.plot(yb)"
   ]
  },
  {
   "cell_type": "code",
   "execution_count": 102,
   "id": "2b3aacb9",
   "metadata": {},
   "outputs": [
    {
     "data": {
      "text/plain": [
       "[<matplotlib.lines.Line2D at 0x7fcb28307bb0>]"
      ]
     },
     "execution_count": 102,
     "metadata": {},
     "output_type": "execute_result"
    },
    {
     "data": {
      "image/png": "[encoded data removed]",
      "text/plain": [
       "<Figure size 640x480 with 1 Axes>"
      ]
     },
     "metadata": {},
     "output_type": "display_data"
    }
   ],
   "source": [
    "plt.plot(rfs.predict(X))\n",
    "plt.plot(ys)"
   ]
  },
  {
   "cell_type": "code",
   "execution_count": null,
   "id": "7464b2f7",
   "metadata": {},
   "outputs": [],
   "source": []
  }
 ],
 "metadata": {
  "kernelspec": {
   "display_name": "Python 3 (ipykernel)",
   "language": "python",
   "name": "python3"
  },
  "language_info": {
   "codemirror_mode": {
    "name": "ipython",
    "version": 3
   },
   "file_extension": ".py",
   "mimetype": "text/x-python",
   "name": "python",
   "nbconvert_exporter": "python",
   "pygments_lexer": "ipython3",
   "version": "3.9.13"
  }
 },
 "nbformat": 4,
 "nbformat_minor": 5
}
